{
  "nbformat": 4,
  "nbformat_minor": 0,
  "metadata": {
    "colab": {
      "provenance": [],
      "gpuType": "T4"
    },
    "kernelspec": {
      "name": "python3",
      "display_name": "Python 3"
    },
    "language_info": {
      "name": "python"
    },
    "accelerator": "GPU"
  },
  "cells": [
    {
      "cell_type": "code",
      "execution_count": 1,
      "metadata": {
        "id": "kfS2wvuAkWvW"
      },
      "outputs": [],
      "source": [
        "import pandas as pd\n",
        "import numpy as np"
      ]
    },
    {
      "cell_type": "code",
      "source": [
        "from google.colab import drive\n",
        "drive.mount('/content/drive')"
      ],
      "metadata": {
        "id": "ioS92QvJ_ngm",
        "outputId": "dde07db9-c31b-43fb-e1a2-c465af592097",
        "colab": {
          "base_uri": "https://localhost:8080/"
        }
      },
      "execution_count": 2,
      "outputs": [
        {
          "output_type": "stream",
          "name": "stdout",
          "text": [
            "Drive already mounted at /content/drive; to attempt to forcibly remount, call drive.mount(\"/content/drive\", force_remount=True).\n"
          ]
        }
      ]
    },
    {
      "cell_type": "code",
      "source": [
        "df = pd.read_csv(\"/content/drive/MyDrive/augmented_data.csv\")"
      ],
      "metadata": {
        "id": "U05NF02dk9dq"
      },
      "execution_count": 3,
      "outputs": []
    },
    {
      "cell_type": "code",
      "source": [
        "# df.head()"
      ],
      "metadata": {
        "id": "iAzvjRDulBiy"
      },
      "execution_count": 4,
      "outputs": []
    },
    {
      "cell_type": "code",
      "source": [
        "# df.info()"
      ],
      "metadata": {
        "id": "83glTtEQAhIh"
      },
      "execution_count": 5,
      "outputs": []
    },
    {
      "cell_type": "code",
      "source": [
        "df.columns"
      ],
      "metadata": {
        "colab": {
          "base_uri": "https://localhost:8080/"
        },
        "id": "r3-ffZHaCUSz",
        "outputId": "f32019d6-c421-4442-c75d-a43b5d33a55d"
      },
      "execution_count": 6,
      "outputs": [
        {
          "output_type": "execute_result",
          "data": {
            "text/plain": [
              "Index(['ID', 'Types of Millets', 'Common Name', 'Category',\n",
              "       'Drought resistant', 'Flood Resistant', 'Min Temperature (ºC)',\n",
              "       'Max Temperature (ºC)', 'pH level of the soil Min',\n",
              "       'pH level of the soil Max', 'Soil type', 'Soil Salinity (dS/m) Min',\n",
              "       'Soil Salinity (dS/m) Max', 'Rainfall Required (cm) Min',\n",
              "       'Rainfall Required (cm) Max', 'Altitude range (m) Min',\n",
              "       'Altitude range (m) Max', 'Soil Temperature (ºC) Min',\n",
              "       'Soil Temperature (ºC) Max', 'Soil moisture\\nmin', 'Soil moisture\\nmax',\n",
              "       'Light Duration (hours) Min', 'Light Duration (hours) Max',\n",
              "       'Land usage for each crop (t/ha) Min',\n",
              "       'Land usage for each crop (t/ha) Max', 'Seeding Rate (kg/ha) Min',\n",
              "       'Seeding Rate (kg/ha) Max', 'Maturity time (days) Min',\n",
              "       'Maturity time (days) Max', 'Planting Depth (cm) Min',\n",
              "       'Planting Depth (cm) Max', 'Planting Geometry (cm x cm)', 'Protein (g)',\n",
              "       'Fat (g)', 'Ash (g)', 'Crude Fibre (g)', 'Carbo- hydrates (g)',\n",
              "       'Energy (kcal)', 'Calcium (mg)', 'Iron (mg)', 'Thiamine (mg)',\n",
              "       'Ribo- flavin (mg)', 'Nia- cin (mg)', 'Price (US$ / Kg)'],\n",
              "      dtype='object')"
            ]
          },
          "metadata": {},
          "execution_count": 6
        }
      ]
    },
    {
      "cell_type": "code",
      "source": [
        "old_colname = df.columns.to_list()\n",
        "new_colnames = ['ID', 'Type', 'Common_Name', 'Category', 'Drought_resistant',\n",
        "                'Flood_Resistant', 'Min_Temp', 'Max_Temp',\n",
        "                'pH_Min', 'pH_Max', 'Soil_type',\n",
        "                'Soil_Salinity_Min', 'Soil_Salinity_Max',\n",
        "                'Rainfall_Min', 'Rainfall_Max',\n",
        "                'Altitude_Min', 'Altitude_Max',\n",
        "                'Soil_Temp_Min', 'Soil_Temp_Max',\n",
        "                'Soil_Moisture_Min', 'Soil_Moisture_Max',\n",
        "                'Light_Duration_Min', 'Light_Duration_Max',\n",
        "                'Prodcutivity_Min',\n",
        "                'Prodcutivity_Max', 'Seeding_Rate_Min',\n",
        "                'Seeding_Rate_Max', 'Maturity_Time_Min',\n",
        "                'Maturity_time_Max', 'Planting_Depth_Min',\n",
        "                'Planting_Depth_Max', 'Planting_Geometry', 'Protein (g)',\n",
        "       'Fat(g)', 'Ash(g)', 'Crude_Fibre(g)', 'Carbohydrates_(g)',\n",
        "       'Energy(kcal)', 'Calcium(mg)', 'Iron(mg)', 'Thiamine(mg)',\n",
        "       'Riboflavin(mg)', 'Niacin(mg)', 'Price(US$ / Kg)']\n"
      ],
      "metadata": {
        "id": "oPvyBPvnNcFX"
      },
      "execution_count": 7,
      "outputs": []
    },
    {
      "cell_type": "code",
      "source": [
        "df = df.rename(columns = dict(zip(old_colname, new_colnames)))"
      ],
      "metadata": {
        "id": "wognA8iLMFvL"
      },
      "execution_count": 8,
      "outputs": []
    },
    {
      "cell_type": "code",
      "source": [
        "# dict(zip(old_colname, new_colnames))"
      ],
      "metadata": {
        "id": "aAXE53ORR_p5"
      },
      "execution_count": 9,
      "outputs": []
    },
    {
      "cell_type": "code",
      "source": [
        "df.info()"
      ],
      "metadata": {
        "colab": {
          "base_uri": "https://localhost:8080/"
        },
        "id": "Eh75deOelMvR",
        "outputId": "afbb67e9-03ee-4f8c-c175-8e02e1f26e28"
      },
      "execution_count": 10,
      "outputs": [
        {
          "output_type": "stream",
          "name": "stdout",
          "text": [
            "<class 'pandas.core.frame.DataFrame'>\n",
            "RangeIndex: 340000 entries, 0 to 339999\n",
            "Data columns (total 44 columns):\n",
            " #   Column              Non-Null Count   Dtype  \n",
            "---  ------              --------------   -----  \n",
            " 0   ID                  340000 non-null  int64  \n",
            " 1   Type                340000 non-null  object \n",
            " 2   Common_Name         340000 non-null  object \n",
            " 3   Category            340000 non-null  object \n",
            " 4   Drought_resistant   340000 non-null  float64\n",
            " 5   Flood_Resistant     340000 non-null  float64\n",
            " 6   Min_Temp            340000 non-null  float64\n",
            " 7   Max_Temp            340000 non-null  float64\n",
            " 8   pH_Min              340000 non-null  float64\n",
            " 9   pH_Max              340000 non-null  float64\n",
            " 10  Soil_type           340000 non-null  object \n",
            " 11  Soil_Salinity_Min   340000 non-null  float64\n",
            " 12  Soil_Salinity_Max   340000 non-null  float64\n",
            " 13  Rainfall_Min        340000 non-null  float64\n",
            " 14  Rainfall_Max        340000 non-null  float64\n",
            " 15  Altitude_Min        340000 non-null  float64\n",
            " 16  Altitude_Max        340000 non-null  float64\n",
            " 17  Soil_Temp_Min       340000 non-null  float64\n",
            " 18  Soil_Temp_Max       340000 non-null  float64\n",
            " 19  Soil_Moisture_Min   340000 non-null  object \n",
            " 20  Soil_Moisture_Max   340000 non-null  object \n",
            " 21  Light_Duration_Min  340000 non-null  float64\n",
            " 22  Light_Duration_Max  340000 non-null  float64\n",
            " 23  Prodcutivity_Min    340000 non-null  float64\n",
            " 24  Prodcutivity_Max    340000 non-null  float64\n",
            " 25  Seeding_Rate_Min    340000 non-null  float64\n",
            " 26  Seeding_Rate_Max    340000 non-null  float64\n",
            " 27  Maturity_Time_Min   340000 non-null  float64\n",
            " 28  Maturity_time_Max   340000 non-null  float64\n",
            " 29  Planting_Depth_Min  340000 non-null  float64\n",
            " 30  Planting_Depth_Max  340000 non-null  float64\n",
            " 31  Planting_Geometry   340000 non-null  object \n",
            " 32  Protein (g)         340000 non-null  float64\n",
            " 33  Fat(g)              340000 non-null  float64\n",
            " 34  Ash(g)              340000 non-null  float64\n",
            " 35  Crude_Fibre(g)      340000 non-null  float64\n",
            " 36  Carbohydrates_(g)   340000 non-null  float64\n",
            " 37  Energy(kcal)        340000 non-null  float64\n",
            " 38  Calcium(mg)         340000 non-null  float64\n",
            " 39  Iron(mg)            340000 non-null  float64\n",
            " 40  Thiamine(mg)        340000 non-null  float64\n",
            " 41  Riboflavin(mg)      340000 non-null  float64\n",
            " 42  Niacin(mg)          340000 non-null  float64\n",
            " 43  Price(US$ / Kg)     340000 non-null  float64\n",
            "dtypes: float64(36), int64(1), object(7)\n",
            "memory usage: 114.1+ MB\n"
          ]
        }
      ]
    },
    {
      "cell_type": "code",
      "source": [
        "df = df.drop(['ID','Category'], axis=1)"
      ],
      "metadata": {
        "id": "d5Cdr7hBDki9"
      },
      "execution_count": 11,
      "outputs": []
    },
    {
      "cell_type": "code",
      "source": [
        "# df['Category'].unique()"
      ],
      "metadata": {
        "id": "42e9gXZzMSRg"
      },
      "execution_count": 12,
      "outputs": []
    },
    {
      "cell_type": "code",
      "source": [
        "import matplotlib.pyplot as plt\n",
        "import seaborn as sns\n",
        "from sklearn.metrics import classification_report\n",
        "from sklearn import metrics\n",
        "from sklearn import tree\n",
        "import warnings\n",
        "warnings.filterwarnings('ignore')"
      ],
      "metadata": {
        "id": "SBrNdN4wlYau"
      },
      "execution_count": 13,
      "outputs": []
    },
    {
      "cell_type": "code",
      "source": [
        "# df.columns"
      ],
      "metadata": {
        "id": "CtBaZZK4nSkX"
      },
      "execution_count": 14,
      "outputs": []
    },
    {
      "cell_type": "code",
      "source": [
        "object_columns = df.select_dtypes(include=['object'])\n",
        "object_columns.columns"
      ],
      "metadata": {
        "colab": {
          "base_uri": "https://localhost:8080/"
        },
        "id": "Mpv9cI13naaZ",
        "outputId": "c5bc8de4-279c-4099-c4f1-b25d08f28a55"
      },
      "execution_count": 15,
      "outputs": [
        {
          "output_type": "execute_result",
          "data": {
            "text/plain": [
              "Index(['Type', 'Common_Name', 'Soil_type', 'Soil_Moisture_Min',\n",
              "       'Soil_Moisture_Max', 'Planting_Geometry'],\n",
              "      dtype='object')"
            ]
          },
          "metadata": {},
          "execution_count": 15
        }
      ]
    },
    {
      "cell_type": "code",
      "source": [
        "df[\"Soil_Moisture_Min\"]"
      ],
      "metadata": {
        "colab": {
          "base_uri": "https://localhost:8080/"
        },
        "id": "JBijRMNIMmzT",
        "outputId": "12a49d33-5f6f-458b-db7f-773293769cc6"
      },
      "execution_count": 16,
      "outputs": [
        {
          "output_type": "execute_result",
          "data": {
            "text/plain": [
              "0         20 %\n",
              "1         20 %\n",
              "2         20 %\n",
              "3         20 %\n",
              "4         20 %\n",
              "          ... \n",
              "339995    20 %\n",
              "339996    20 %\n",
              "339997    20 %\n",
              "339998    20 %\n",
              "339999    20 %\n",
              "Name: Soil_Moisture_Min, Length: 340000, dtype: object"
            ]
          },
          "metadata": {},
          "execution_count": 16
        }
      ]
    },
    {
      "cell_type": "code",
      "source": [
        "df[\"Soil_Moisture_Min\"] = df[\"Soil_Moisture_Min\"].apply(lambda x: int(x[:-2]))\n",
        "df[\"Soil_Moisture_Max\"] = df[\"Soil_Moisture_Max\"].apply(lambda x: int(x[:-2]))"
      ],
      "metadata": {
        "id": "XAUP19GDRMma"
      },
      "execution_count": 17,
      "outputs": []
    },
    {
      "cell_type": "code",
      "source": [
        "df[\"Soil_Moisture_Min\"]"
      ],
      "metadata": {
        "colab": {
          "base_uri": "https://localhost:8080/"
        },
        "id": "NVGWJpDwM3z5",
        "outputId": "67e23592-8036-4a4d-a103-9bc402566b7d"
      },
      "execution_count": 18,
      "outputs": [
        {
          "output_type": "execute_result",
          "data": {
            "text/plain": [
              "0         20\n",
              "1         20\n",
              "2         20\n",
              "3         20\n",
              "4         20\n",
              "          ..\n",
              "339995    20\n",
              "339996    20\n",
              "339997    20\n",
              "339998    20\n",
              "339999    20\n",
              "Name: Soil_Moisture_Min, Length: 340000, dtype: int64"
            ]
          },
          "metadata": {},
          "execution_count": 18
        }
      ]
    },
    {
      "cell_type": "markdown",
      "source": [
        "# 1 'Types of Millets'"
      ],
      "metadata": {
        "id": "Xs54JwGTOqlJ"
      }
    },
    {
      "cell_type": "markdown",
      "source": [
        "Label Encoding for Types of millets"
      ],
      "metadata": {
        "id": "8_--Ehqt2KRS"
      }
    },
    {
      "cell_type": "code",
      "source": [
        "from sklearn.preprocessing import LabelEncoder\n",
        "label_encoder = LabelEncoder()"
      ],
      "metadata": {
        "id": "2TtF51fT2afc"
      },
      "execution_count": 19,
      "outputs": []
    },
    {
      "cell_type": "code",
      "source": [
        "object_columns.columns"
      ],
      "metadata": {
        "colab": {
          "base_uri": "https://localhost:8080/"
        },
        "id": "ZhWdexEnNCxY",
        "outputId": "de73ccbb-c7e6-4b03-cc21-a611a0e24583"
      },
      "execution_count": 20,
      "outputs": [
        {
          "output_type": "execute_result",
          "data": {
            "text/plain": [
              "Index(['Type', 'Common_Name', 'Soil_type', 'Soil_Moisture_Min',\n",
              "       'Soil_Moisture_Max', 'Planting_Geometry'],\n",
              "      dtype='object')"
            ]
          },
          "metadata": {},
          "execution_count": 20
        }
      ]
    },
    {
      "cell_type": "code",
      "source": [
        "df['Types_of_Millets_LabelEncoded'] = label_encoder.fit_transform(df['Type'])"
      ],
      "metadata": {
        "id": "HFE2SqKE2Yhs"
      },
      "execution_count": 21,
      "outputs": []
    },
    {
      "cell_type": "code",
      "source": [
        "# Types_of_Millets_encoded = pd.get_dummies(df['Types of Millets'], prefix='Types of Millets')"
      ],
      "metadata": {
        "id": "l4YKrSoRtZqe"
      },
      "execution_count": 22,
      "outputs": []
    },
    {
      "cell_type": "markdown",
      "source": [
        "Soil Type"
      ],
      "metadata": {
        "id": "20KzDsJBNOL8"
      }
    },
    {
      "cell_type": "code",
      "source": [
        "# df['Soil type'].unique()"
      ],
      "metadata": {
        "id": "7lnfx62YpLR9"
      },
      "execution_count": 23,
      "outputs": []
    },
    {
      "cell_type": "code",
      "source": [
        "# label_encoder = LabelEncoder()\n",
        "df['Soil_Type_LabelEncoded'] = label_encoder.fit_transform(df['Soil_type'])"
      ],
      "metadata": {
        "id": "1ktI_HNQuSUK"
      },
      "execution_count": 24,
      "outputs": []
    },
    {
      "cell_type": "code",
      "source": [
        "# df['Soil_Type_LabelEncoded'] = label_encoder.fit_transform(df['Soil_type'])"
      ],
      "metadata": {
        "id": "G5sPfWQQKOn1"
      },
      "execution_count": 25,
      "outputs": []
    },
    {
      "cell_type": "code",
      "source": [
        "# df['Soil_Type_LabelEncoded']"
      ],
      "metadata": {
        "id": "2VnNLPKXH-kT"
      },
      "execution_count": 26,
      "outputs": []
    },
    {
      "cell_type": "code",
      "source": [
        "# len(df['Soil type'].unique())"
      ],
      "metadata": {
        "id": "ABdqem_XIDr0"
      },
      "execution_count": 27,
      "outputs": []
    },
    {
      "cell_type": "markdown",
      "source": [
        "Soil Moisture"
      ],
      "metadata": {
        "id": "_d87xM17NVdQ"
      }
    },
    {
      "cell_type": "code",
      "source": [
        "# df['Soil_Moisture_Max_LabelEncoded'] = label_encoder.fit_transform(df['Soil_Moisture_Max'])\n",
        "# df['Soil_Moisture_Min_LabelEncoded'] = label_encoder.fit_transform(df['Soil_Moisture_Min'])"
      ],
      "metadata": {
        "id": "MJWxKdmcKN3b"
      },
      "execution_count": 28,
      "outputs": []
    },
    {
      "cell_type": "code",
      "source": [
        "# df['Planting_Geometry_LabelEncoded'] = label_encoder.fit_transform(df['Planting_Geometry'])"
      ],
      "metadata": {
        "id": "ygiil9FQK2HD"
      },
      "execution_count": 29,
      "outputs": []
    },
    {
      "cell_type": "code",
      "source": [
        "# df_encoded.info()"
      ],
      "metadata": {
        "id": "BnHgxqgO572i"
      },
      "execution_count": 30,
      "outputs": []
    },
    {
      "cell_type": "code",
      "source": [
        "# Category_encoded = pd.get_dummies(df['Category'], prefix='Category')"
      ],
      "metadata": {
        "id": "VSVHYhyVt22z"
      },
      "execution_count": 31,
      "outputs": []
    },
    {
      "cell_type": "code",
      "source": [
        "# df['Soil moisture\\nmin'].head()"
      ],
      "metadata": {
        "id": "Ju0cxjBNpmKr"
      },
      "execution_count": 32,
      "outputs": []
    },
    {
      "cell_type": "code",
      "source": [
        "# Soil_moisture_min_encoded = pd.get_dummies(df['Soil moisture\\nmin'], prefix='Soil moisture_min')"
      ],
      "metadata": {
        "id": "LcQlP8Kqr6Tv"
      },
      "execution_count": 33,
      "outputs": []
    },
    {
      "cell_type": "code",
      "source": [
        "# df['Soil moisture\\nmin'].unique()"
      ],
      "metadata": {
        "id": "5NExTBbrqD1v"
      },
      "execution_count": 34,
      "outputs": []
    },
    {
      "cell_type": "code",
      "source": [
        "# df['Soil moisture\\nmax'].head()"
      ],
      "metadata": {
        "id": "dxIUbMh7pwsX"
      },
      "execution_count": 35,
      "outputs": []
    },
    {
      "cell_type": "code",
      "source": [
        "# Soil_moisture_max_encoded = pd.get_dummies(df['Soil moisture\\nmax'], prefix='Soil moisture_max')"
      ],
      "metadata": {
        "id": "nHFdrEiEsUkD"
      },
      "execution_count": 36,
      "outputs": []
    },
    {
      "cell_type": "code",
      "source": [
        "# df['Planting Geometry (cm x cm)'].unique()"
      ],
      "metadata": {
        "id": "dzRW2ephp6MN"
      },
      "execution_count": 37,
      "outputs": []
    },
    {
      "cell_type": "code",
      "source": [
        "# Planting_Geometry_encoded = pd.get_dummies(df['Planting Geometry (cm x cm)'], prefix='Planting Geometry (cm x cm)')"
      ],
      "metadata": {
        "id": "_TSjsD7JszZC"
      },
      "execution_count": 38,
      "outputs": []
    },
    {
      "cell_type": "code",
      "source": [
        "df.columns"
      ],
      "metadata": {
        "colab": {
          "base_uri": "https://localhost:8080/"
        },
        "id": "anSmE3HT6HDD",
        "outputId": "a6cfd926-a547-4d0e-8c78-27495e7b024f"
      },
      "execution_count": 39,
      "outputs": [
        {
          "output_type": "execute_result",
          "data": {
            "text/plain": [
              "Index(['Type', 'Common_Name', 'Drought_resistant', 'Flood_Resistant',\n",
              "       'Min_Temp', 'Max_Temp', 'pH_Min', 'pH_Max', 'Soil_type',\n",
              "       'Soil_Salinity_Min', 'Soil_Salinity_Max', 'Rainfall_Min',\n",
              "       'Rainfall_Max', 'Altitude_Min', 'Altitude_Max', 'Soil_Temp_Min',\n",
              "       'Soil_Temp_Max', 'Soil_Moisture_Min', 'Soil_Moisture_Max',\n",
              "       'Light_Duration_Min', 'Light_Duration_Max', 'Prodcutivity_Min',\n",
              "       'Prodcutivity_Max', 'Seeding_Rate_Min', 'Seeding_Rate_Max',\n",
              "       'Maturity_Time_Min', 'Maturity_time_Max', 'Planting_Depth_Min',\n",
              "       'Planting_Depth_Max', 'Planting_Geometry', 'Protein (g)', 'Fat(g)',\n",
              "       'Ash(g)', 'Crude_Fibre(g)', 'Carbohydrates_(g)', 'Energy(kcal)',\n",
              "       'Calcium(mg)', 'Iron(mg)', 'Thiamine(mg)', 'Riboflavin(mg)',\n",
              "       'Niacin(mg)', 'Price(US$ / Kg)', 'Types_of_Millets_LabelEncoded',\n",
              "       'Soil_Type_LabelEncoded'],\n",
              "      dtype='object')"
            ]
          },
          "metadata": {},
          "execution_count": 39
        }
      ]
    },
    {
      "cell_type": "code",
      "source": [
        "# df_encoded = pd.concat([df,'Soil_Moisture_Max_LabelEncoded',Soil_moisture_min_encoded ,Soil_moisture_max_encoded,Planting_Geometry_encoded], axis=1)"
      ],
      "metadata": {
        "id": "9j8UKdlAr6Tw"
      },
      "execution_count": 40,
      "outputs": []
    },
    {
      "cell_type": "code",
      "source": [
        "object_columns = df.select_dtypes(include=['object'])\n",
        "object_columns.columns"
      ],
      "metadata": {
        "colab": {
          "base_uri": "https://localhost:8080/"
        },
        "id": "qCEWYOXU0T0F",
        "outputId": "1d587884-b90f-46ee-989a-69aab50bb234"
      },
      "execution_count": 41,
      "outputs": [
        {
          "output_type": "execute_result",
          "data": {
            "text/plain": [
              "Index(['Type', 'Common_Name', 'Soil_type', 'Planting_Geometry'], dtype='object')"
            ]
          },
          "metadata": {},
          "execution_count": 41
        }
      ]
    },
    {
      "cell_type": "code",
      "source": [
        "df['Planting_Geometry'].unique()"
      ],
      "metadata": {
        "colab": {
          "base_uri": "https://localhost:8080/"
        },
        "id": "nm9ok45zE3hj",
        "outputId": "f46d8ae0-d7e2-44d4-8cce-b9877459175c"
      },
      "execution_count": 42,
      "outputs": [
        {
          "output_type": "execute_result",
          "data": {
            "text/plain": [
              "array(['20x30', '30 x 10', '15x20', '10x20', '15x30', '15-30', '40x60'],\n",
              "      dtype=object)"
            ]
          },
          "metadata": {},
          "execution_count": 42
        }
      ]
    },
    {
      "cell_type": "code",
      "source": [
        "df['Planting_Geometry'] = df['Planting_Geometry'].replace('15-30', '15x30')\n",
        "df['Planting_Geometry'] = df['Planting_Geometry'].replace('30 x 10', '30x10')"
      ],
      "metadata": {
        "id": "UgsV0lk_FI5q"
      },
      "execution_count": 43,
      "outputs": []
    },
    {
      "cell_type": "code",
      "source": [
        "df['Planting_Geometry'].unique()"
      ],
      "metadata": {
        "colab": {
          "base_uri": "https://localhost:8080/"
        },
        "id": "Bh43vd5GGLBx",
        "outputId": "8613db8c-5880-44f8-d6b8-cb0bd7354ec6"
      },
      "execution_count": 44,
      "outputs": [
        {
          "output_type": "execute_result",
          "data": {
            "text/plain": [
              "array(['20x30', '30x10', '15x20', '10x20', '15x30', '40x60'], dtype=object)"
            ]
          },
          "metadata": {},
          "execution_count": 44
        }
      ]
    },
    {
      "cell_type": "code",
      "source": [
        "df[['Planting_Geometry(cm-1)','Planting_Geometry(cm-2)']]= df['Planting_Geometry'].str.split(\"x\", expand = True)"
      ],
      "metadata": {
        "id": "LQF6G5xfEfkn"
      },
      "execution_count": 45,
      "outputs": []
    },
    {
      "cell_type": "code",
      "source": [
        "df.info()"
      ],
      "metadata": {
        "colab": {
          "base_uri": "https://localhost:8080/"
        },
        "id": "S-6N8Ni5uiyV",
        "outputId": "2cbf422d-f316-4a54-d4dc-fe15954b1cfe"
      },
      "execution_count": 46,
      "outputs": [
        {
          "output_type": "stream",
          "name": "stdout",
          "text": [
            "<class 'pandas.core.frame.DataFrame'>\n",
            "RangeIndex: 340000 entries, 0 to 339999\n",
            "Data columns (total 46 columns):\n",
            " #   Column                         Non-Null Count   Dtype  \n",
            "---  ------                         --------------   -----  \n",
            " 0   Type                           340000 non-null  object \n",
            " 1   Common_Name                    340000 non-null  object \n",
            " 2   Drought_resistant              340000 non-null  float64\n",
            " 3   Flood_Resistant                340000 non-null  float64\n",
            " 4   Min_Temp                       340000 non-null  float64\n",
            " 5   Max_Temp                       340000 non-null  float64\n",
            " 6   pH_Min                         340000 non-null  float64\n",
            " 7   pH_Max                         340000 non-null  float64\n",
            " 8   Soil_type                      340000 non-null  object \n",
            " 9   Soil_Salinity_Min              340000 non-null  float64\n",
            " 10  Soil_Salinity_Max              340000 non-null  float64\n",
            " 11  Rainfall_Min                   340000 non-null  float64\n",
            " 12  Rainfall_Max                   340000 non-null  float64\n",
            " 13  Altitude_Min                   340000 non-null  float64\n",
            " 14  Altitude_Max                   340000 non-null  float64\n",
            " 15  Soil_Temp_Min                  340000 non-null  float64\n",
            " 16  Soil_Temp_Max                  340000 non-null  float64\n",
            " 17  Soil_Moisture_Min              340000 non-null  int64  \n",
            " 18  Soil_Moisture_Max              340000 non-null  int64  \n",
            " 19  Light_Duration_Min             340000 non-null  float64\n",
            " 20  Light_Duration_Max             340000 non-null  float64\n",
            " 21  Prodcutivity_Min               340000 non-null  float64\n",
            " 22  Prodcutivity_Max               340000 non-null  float64\n",
            " 23  Seeding_Rate_Min               340000 non-null  float64\n",
            " 24  Seeding_Rate_Max               340000 non-null  float64\n",
            " 25  Maturity_Time_Min              340000 non-null  float64\n",
            " 26  Maturity_time_Max              340000 non-null  float64\n",
            " 27  Planting_Depth_Min             340000 non-null  float64\n",
            " 28  Planting_Depth_Max             340000 non-null  float64\n",
            " 29  Planting_Geometry              340000 non-null  object \n",
            " 30  Protein (g)                    340000 non-null  float64\n",
            " 31  Fat(g)                         340000 non-null  float64\n",
            " 32  Ash(g)                         340000 non-null  float64\n",
            " 33  Crude_Fibre(g)                 340000 non-null  float64\n",
            " 34  Carbohydrates_(g)              340000 non-null  float64\n",
            " 35  Energy(kcal)                   340000 non-null  float64\n",
            " 36  Calcium(mg)                    340000 non-null  float64\n",
            " 37  Iron(mg)                       340000 non-null  float64\n",
            " 38  Thiamine(mg)                   340000 non-null  float64\n",
            " 39  Riboflavin(mg)                 340000 non-null  float64\n",
            " 40  Niacin(mg)                     340000 non-null  float64\n",
            " 41  Price(US$ / Kg)                340000 non-null  float64\n",
            " 42  Types_of_Millets_LabelEncoded  340000 non-null  int64  \n",
            " 43  Soil_Type_LabelEncoded         340000 non-null  int64  \n",
            " 44  Planting_Geometry(cm-1)        340000 non-null  object \n",
            " 45  Planting_Geometry(cm-2)        340000 non-null  object \n",
            "dtypes: float64(36), int64(4), object(6)\n",
            "memory usage: 119.3+ MB\n"
          ]
        }
      ]
    },
    {
      "cell_type": "code",
      "source": [
        "df = df.drop('Planting_Geometry', axis =1)"
      ],
      "metadata": {
        "id": "bUHql8Q3ESup"
      },
      "execution_count": 47,
      "outputs": []
    },
    {
      "cell_type": "code",
      "source": [
        "df['Planting_Geometry(cm-1)'] = df['Planting_Geometry(cm-1)'].astype(int)"
      ],
      "metadata": {
        "id": "SGhGgyBoHj3r"
      },
      "execution_count": 48,
      "outputs": []
    },
    {
      "cell_type": "code",
      "source": [
        "df['Planting_Geometry(cm-2)'] = df['Planting_Geometry(cm-2)'].astype(int)"
      ],
      "metadata": {
        "id": "efXWLCPEHjw6"
      },
      "execution_count": 49,
      "outputs": []
    },
    {
      "cell_type": "code",
      "source": [
        "df['Planting_Geometry(cm-2)'].dtype"
      ],
      "metadata": {
        "colab": {
          "base_uri": "https://localhost:8080/"
        },
        "id": "cB5xsx0NHwlC",
        "outputId": "1a7f06ec-de38-46da-a054-25b80dd4cbbd"
      },
      "execution_count": 50,
      "outputs": [
        {
          "output_type": "execute_result",
          "data": {
            "text/plain": [
              "dtype('int64')"
            ]
          },
          "metadata": {},
          "execution_count": 50
        }
      ]
    },
    {
      "cell_type": "code",
      "source": [
        "# df_encoded."
      ],
      "metadata": {
        "id": "lno3SS03OQn7"
      },
      "execution_count": 51,
      "outputs": []
    },
    {
      "cell_type": "code",
      "source": [
        "object_columns = df.select_dtypes(include=['object'])\n",
        "object_columns.columns"
      ],
      "metadata": {
        "colab": {
          "base_uri": "https://localhost:8080/"
        },
        "id": "_YBGB8FnH-uK",
        "outputId": "327c88ab-dc05-4d53-b9ac-f3bcbb42abf6"
      },
      "execution_count": 52,
      "outputs": [
        {
          "output_type": "execute_result",
          "data": {
            "text/plain": [
              "Index(['Type', 'Common_Name', 'Soil_type'], dtype='object')"
            ]
          },
          "metadata": {},
          "execution_count": 52
        }
      ]
    },
    {
      "cell_type": "code",
      "source": [
        "df['Type'].unique()"
      ],
      "metadata": {
        "colab": {
          "base_uri": "https://localhost:8080/"
        },
        "id": "B7JnMg6Z6hmg",
        "outputId": "5b87797a-758d-460c-a346-2919a5f7ac80"
      },
      "execution_count": 53,
      "outputs": [
        {
          "output_type": "execute_result",
          "data": {
            "text/plain": [
              "array(['Pearl millet (Pennisetum glaucum)',\n",
              "       'Finger millet (Eleusine coracana)',\n",
              "       'Foxtail millet (Setaria italica)',\n",
              "       'Proso millet (Panicum miliaceum) (Chena in India)',\n",
              "       'Little millet (Panicum sumatrense)',\n",
              "       'Kodo millet (Paspalum scrobiculatum)',\n",
              "       'Browntop millet (Brachiaria ramosa)',\n",
              "       'Teff millet (Eragrostis tef)',\n",
              "       'Japanese millet (Echinochloa esculenta)',\n",
              "       'Indian barnyard millet (Echinochloa colona)',\n",
              "       'African millet (Eleusine indica)',\n",
              "       'Italian millet (Setaria italica)',\n",
              "       \"Job's tears (Coix lacryma-jobi)\",\n",
              "       'Guinea millet (Brachiaria deflexa)', 'Sorghum Millet (Jowar)',\n",
              "       'Buckwheat Millet (Kuttu)', 'Amaranth Millet (Rajgira)',\n",
              "       'Barnyard millet (Echinochloa frumentacea)',\n",
              "       'White fonio (Digitaria exilis)', 'Black fonio (Digitaria iburua)',\n",
              "       'Ameranthus', 'Great millet (Sorghum bicolor)',\n",
              "       'Barnyard grass millet (Echinochloa crus-galli)',\n",
              "       'Naked barley (Hordeum vulgare var. nudum)',\n",
              "       'Panic millet (Panicum miliaceum subsp. ruderale)',\n",
              "       'Sorghum (Sorghum bicolor)', 'Sawa millet (Echinochloa stagnina)',\n",
              "       'Barnyard Grass Millet (Echinochloa crus-galli)',\n",
              "       'Japanese Barnyard Millet (Echinochloa frumentacea)',\n",
              "       'Himalayan Foxtail Millet (Setaria italica subsp. himalayensis)',\n",
              "       'Italian Barnyard Millet (Echinochloa crus-galli)',\n",
              "       'Foxtail Barnyard Millet (Echinochloa frumentacea)',\n",
              "       'Siberian Millet (Panicum miliaceum subsp. sibiricum)',\n",
              "       'Italian Foxtail Millet (Setaria italica subsp. pycnocoma)'],\n",
              "      dtype=object)"
            ]
          },
          "metadata": {},
          "execution_count": 53
        }
      ]
    },
    {
      "cell_type": "code",
      "source": [
        "df_encoded = df.drop(['Type', 'Common_Name', 'Soil_type'], axis =1)"
      ],
      "metadata": {
        "id": "mgKod7Gw05p5"
      },
      "execution_count": 54,
      "outputs": []
    },
    {
      "cell_type": "code",
      "source": [
        "df_encoded.info()"
      ],
      "metadata": {
        "colab": {
          "base_uri": "https://localhost:8080/"
        },
        "id": "aQIJE61xHXJr",
        "outputId": "33f0bdf9-5edf-4b4b-cfbd-28896847d9ac"
      },
      "execution_count": 55,
      "outputs": [
        {
          "output_type": "stream",
          "name": "stdout",
          "text": [
            "<class 'pandas.core.frame.DataFrame'>\n",
            "RangeIndex: 340000 entries, 0 to 339999\n",
            "Data columns (total 42 columns):\n",
            " #   Column                         Non-Null Count   Dtype  \n",
            "---  ------                         --------------   -----  \n",
            " 0   Drought_resistant              340000 non-null  float64\n",
            " 1   Flood_Resistant                340000 non-null  float64\n",
            " 2   Min_Temp                       340000 non-null  float64\n",
            " 3   Max_Temp                       340000 non-null  float64\n",
            " 4   pH_Min                         340000 non-null  float64\n",
            " 5   pH_Max                         340000 non-null  float64\n",
            " 6   Soil_Salinity_Min              340000 non-null  float64\n",
            " 7   Soil_Salinity_Max              340000 non-null  float64\n",
            " 8   Rainfall_Min                   340000 non-null  float64\n",
            " 9   Rainfall_Max                   340000 non-null  float64\n",
            " 10  Altitude_Min                   340000 non-null  float64\n",
            " 11  Altitude_Max                   340000 non-null  float64\n",
            " 12  Soil_Temp_Min                  340000 non-null  float64\n",
            " 13  Soil_Temp_Max                  340000 non-null  float64\n",
            " 14  Soil_Moisture_Min              340000 non-null  int64  \n",
            " 15  Soil_Moisture_Max              340000 non-null  int64  \n",
            " 16  Light_Duration_Min             340000 non-null  float64\n",
            " 17  Light_Duration_Max             340000 non-null  float64\n",
            " 18  Prodcutivity_Min               340000 non-null  float64\n",
            " 19  Prodcutivity_Max               340000 non-null  float64\n",
            " 20  Seeding_Rate_Min               340000 non-null  float64\n",
            " 21  Seeding_Rate_Max               340000 non-null  float64\n",
            " 22  Maturity_Time_Min              340000 non-null  float64\n",
            " 23  Maturity_time_Max              340000 non-null  float64\n",
            " 24  Planting_Depth_Min             340000 non-null  float64\n",
            " 25  Planting_Depth_Max             340000 non-null  float64\n",
            " 26  Protein (g)                    340000 non-null  float64\n",
            " 27  Fat(g)                         340000 non-null  float64\n",
            " 28  Ash(g)                         340000 non-null  float64\n",
            " 29  Crude_Fibre(g)                 340000 non-null  float64\n",
            " 30  Carbohydrates_(g)              340000 non-null  float64\n",
            " 31  Energy(kcal)                   340000 non-null  float64\n",
            " 32  Calcium(mg)                    340000 non-null  float64\n",
            " 33  Iron(mg)                       340000 non-null  float64\n",
            " 34  Thiamine(mg)                   340000 non-null  float64\n",
            " 35  Riboflavin(mg)                 340000 non-null  float64\n",
            " 36  Niacin(mg)                     340000 non-null  float64\n",
            " 37  Price(US$ / Kg)                340000 non-null  float64\n",
            " 38  Types_of_Millets_LabelEncoded  340000 non-null  int64  \n",
            " 39  Soil_Type_LabelEncoded         340000 non-null  int64  \n",
            " 40  Planting_Geometry(cm-1)        340000 non-null  int64  \n",
            " 41  Planting_Geometry(cm-2)        340000 non-null  int64  \n",
            "dtypes: float64(36), int64(6)\n",
            "memory usage: 108.9 MB\n"
          ]
        }
      ]
    },
    {
      "cell_type": "code",
      "source": [
        "df['Types_of_Millets_LabelEncoded'].unique()"
      ],
      "metadata": {
        "colab": {
          "base_uri": "https://localhost:8080/"
        },
        "id": "CtS0UTYs7XU1",
        "outputId": "b2cd1654-2082-4182-e827-d09b61d67af4"
      },
      "execution_count": 56,
      "outputs": [
        {
          "output_type": "execute_result",
          "data": {
            "text/plain": [
              "array([26,  9, 11, 27, 23, 22,  7, 32, 20, 15,  0, 18, 21, 13, 31,  8,  1,\n",
              "        5, 33,  6,  2, 12,  4, 24, 25, 30, 28,  3, 19, 14, 16, 10, 29, 17])"
            ]
          },
          "metadata": {},
          "execution_count": 56
        }
      ]
    },
    {
      "cell_type": "code",
      "source": [
        "Millets = pd.DataFrame(list(zip(df['Type'].unique(),df['Types_of_Millets_LabelEncoded'].unique())),columns =['Millet Type','Label'])"
      ],
      "metadata": {
        "id": "irXWvzh-ILzz"
      },
      "execution_count": 108,
      "outputs": []
    },
    {
      "cell_type": "code",
      "source": [
        "# df_encoded.info()"
      ],
      "metadata": {
        "id": "nDG9sln21STS"
      },
      "execution_count": 58,
      "outputs": []
    },
    {
      "cell_type": "code",
      "source": [
        "# df_encoded.columns"
      ],
      "metadata": {
        "id": "ETjggmU_1bG5"
      },
      "execution_count": 59,
      "outputs": []
    },
    {
      "cell_type": "code",
      "source": [
        "X_1 = df_encoded.drop('Types_of_Millets_LabelEncoded',axis =1)\n",
        "Y_1 = df_encoded['Types_of_Millets_LabelEncoded']"
      ],
      "metadata": {
        "id": "Zp6VfOTS87x-"
      },
      "execution_count": 60,
      "outputs": []
    },
    {
      "cell_type": "code",
      "source": [
        "from sklearn.model_selection import train_test_split\n",
        "X_train, X_test, y_train, y_test = train_test_split(X_1, Y_1, test_size = 0.3,\n",
        "                                                    shuffle = True, random_state = 0)"
      ],
      "metadata": {
        "id": "4IbeOfxJ9MmM"
      },
      "execution_count": 61,
      "outputs": []
    },
    {
      "cell_type": "code",
      "source": [
        "df_encoded.info()"
      ],
      "metadata": {
        "colab": {
          "base_uri": "https://localhost:8080/"
        },
        "id": "9m_QuNbf7rl6",
        "outputId": "b0437bb3-c073-4566-9f03-c044c389f1a3"
      },
      "execution_count": 62,
      "outputs": [
        {
          "output_type": "stream",
          "name": "stdout",
          "text": [
            "<class 'pandas.core.frame.DataFrame'>\n",
            "RangeIndex: 340000 entries, 0 to 339999\n",
            "Data columns (total 42 columns):\n",
            " #   Column                         Non-Null Count   Dtype  \n",
            "---  ------                         --------------   -----  \n",
            " 0   Drought_resistant              340000 non-null  float64\n",
            " 1   Flood_Resistant                340000 non-null  float64\n",
            " 2   Min_Temp                       340000 non-null  float64\n",
            " 3   Max_Temp                       340000 non-null  float64\n",
            " 4   pH_Min                         340000 non-null  float64\n",
            " 5   pH_Max                         340000 non-null  float64\n",
            " 6   Soil_Salinity_Min              340000 non-null  float64\n",
            " 7   Soil_Salinity_Max              340000 non-null  float64\n",
            " 8   Rainfall_Min                   340000 non-null  float64\n",
            " 9   Rainfall_Max                   340000 non-null  float64\n",
            " 10  Altitude_Min                   340000 non-null  float64\n",
            " 11  Altitude_Max                   340000 non-null  float64\n",
            " 12  Soil_Temp_Min                  340000 non-null  float64\n",
            " 13  Soil_Temp_Max                  340000 non-null  float64\n",
            " 14  Soil_Moisture_Min              340000 non-null  int64  \n",
            " 15  Soil_Moisture_Max              340000 non-null  int64  \n",
            " 16  Light_Duration_Min             340000 non-null  float64\n",
            " 17  Light_Duration_Max             340000 non-null  float64\n",
            " 18  Prodcutivity_Min               340000 non-null  float64\n",
            " 19  Prodcutivity_Max               340000 non-null  float64\n",
            " 20  Seeding_Rate_Min               340000 non-null  float64\n",
            " 21  Seeding_Rate_Max               340000 non-null  float64\n",
            " 22  Maturity_Time_Min              340000 non-null  float64\n",
            " 23  Maturity_time_Max              340000 non-null  float64\n",
            " 24  Planting_Depth_Min             340000 non-null  float64\n",
            " 25  Planting_Depth_Max             340000 non-null  float64\n",
            " 26  Protein (g)                    340000 non-null  float64\n",
            " 27  Fat(g)                         340000 non-null  float64\n",
            " 28  Ash(g)                         340000 non-null  float64\n",
            " 29  Crude_Fibre(g)                 340000 non-null  float64\n",
            " 30  Carbohydrates_(g)              340000 non-null  float64\n",
            " 31  Energy(kcal)                   340000 non-null  float64\n",
            " 32  Calcium(mg)                    340000 non-null  float64\n",
            " 33  Iron(mg)                       340000 non-null  float64\n",
            " 34  Thiamine(mg)                   340000 non-null  float64\n",
            " 35  Riboflavin(mg)                 340000 non-null  float64\n",
            " 36  Niacin(mg)                     340000 non-null  float64\n",
            " 37  Price(US$ / Kg)                340000 non-null  float64\n",
            " 38  Types_of_Millets_LabelEncoded  340000 non-null  int64  \n",
            " 39  Soil_Type_LabelEncoded         340000 non-null  int64  \n",
            " 40  Planting_Geometry(cm-1)        340000 non-null  int64  \n",
            " 41  Planting_Geometry(cm-2)        340000 non-null  int64  \n",
            "dtypes: float64(36), int64(6)\n",
            "memory usage: 108.9 MB\n"
          ]
        }
      ]
    },
    {
      "cell_type": "code",
      "source": [
        "# build the lightgbm model\n",
        "import lightgbm as lgb\n",
        "\n",
        "model = lgb.LGBMClassifier()\n",
        "model.fit(X_train, y_train)"
      ],
      "metadata": {
        "colab": {
          "base_uri": "https://localhost:8080/",
          "height": 74
        },
        "id": "tzq2iBch9XnZ",
        "outputId": "5077bcba-0498-42da-dab7-3833ce5cf536"
      },
      "execution_count": 63,
      "outputs": [
        {
          "output_type": "execute_result",
          "data": {
            "text/plain": [
              "LGBMClassifier()"
            ],
            "text/html": [
              "<style>#sk-container-id-1 {color: black;background-color: white;}#sk-container-id-1 pre{padding: 0;}#sk-container-id-1 div.sk-toggleable {background-color: white;}#sk-container-id-1 label.sk-toggleable__label {cursor: pointer;display: block;width: 100%;margin-bottom: 0;padding: 0.3em;box-sizing: border-box;text-align: center;}#sk-container-id-1 label.sk-toggleable__label-arrow:before {content: \"▸\";float: left;margin-right: 0.25em;color: #696969;}#sk-container-id-1 label.sk-toggleable__label-arrow:hover:before {color: black;}#sk-container-id-1 div.sk-estimator:hover label.sk-toggleable__label-arrow:before {color: black;}#sk-container-id-1 div.sk-toggleable__content {max-height: 0;max-width: 0;overflow: hidden;text-align: left;background-color: #f0f8ff;}#sk-container-id-1 div.sk-toggleable__content pre {margin: 0.2em;color: black;border-radius: 0.25em;background-color: #f0f8ff;}#sk-container-id-1 input.sk-toggleable__control:checked~div.sk-toggleable__content {max-height: 200px;max-width: 100%;overflow: auto;}#sk-container-id-1 input.sk-toggleable__control:checked~label.sk-toggleable__label-arrow:before {content: \"▾\";}#sk-container-id-1 div.sk-estimator input.sk-toggleable__control:checked~label.sk-toggleable__label {background-color: #d4ebff;}#sk-container-id-1 div.sk-label input.sk-toggleable__control:checked~label.sk-toggleable__label {background-color: #d4ebff;}#sk-container-id-1 input.sk-hidden--visually {border: 0;clip: rect(1px 1px 1px 1px);clip: rect(1px, 1px, 1px, 1px);height: 1px;margin: -1px;overflow: hidden;padding: 0;position: absolute;width: 1px;}#sk-container-id-1 div.sk-estimator {font-family: monospace;background-color: #f0f8ff;border: 1px dotted black;border-radius: 0.25em;box-sizing: border-box;margin-bottom: 0.5em;}#sk-container-id-1 div.sk-estimator:hover {background-color: #d4ebff;}#sk-container-id-1 div.sk-parallel-item::after {content: \"\";width: 100%;border-bottom: 1px solid gray;flex-grow: 1;}#sk-container-id-1 div.sk-label:hover label.sk-toggleable__label {background-color: #d4ebff;}#sk-container-id-1 div.sk-serial::before {content: \"\";position: absolute;border-left: 1px solid gray;box-sizing: border-box;top: 0;bottom: 0;left: 50%;z-index: 0;}#sk-container-id-1 div.sk-serial {display: flex;flex-direction: column;align-items: center;background-color: white;padding-right: 0.2em;padding-left: 0.2em;position: relative;}#sk-container-id-1 div.sk-item {position: relative;z-index: 1;}#sk-container-id-1 div.sk-parallel {display: flex;align-items: stretch;justify-content: center;background-color: white;position: relative;}#sk-container-id-1 div.sk-item::before, #sk-container-id-1 div.sk-parallel-item::before {content: \"\";position: absolute;border-left: 1px solid gray;box-sizing: border-box;top: 0;bottom: 0;left: 50%;z-index: -1;}#sk-container-id-1 div.sk-parallel-item {display: flex;flex-direction: column;z-index: 1;position: relative;background-color: white;}#sk-container-id-1 div.sk-parallel-item:first-child::after {align-self: flex-end;width: 50%;}#sk-container-id-1 div.sk-parallel-item:last-child::after {align-self: flex-start;width: 50%;}#sk-container-id-1 div.sk-parallel-item:only-child::after {width: 0;}#sk-container-id-1 div.sk-dashed-wrapped {border: 1px dashed gray;margin: 0 0.4em 0.5em 0.4em;box-sizing: border-box;padding-bottom: 0.4em;background-color: white;}#sk-container-id-1 div.sk-label label {font-family: monospace;font-weight: bold;display: inline-block;line-height: 1.2em;}#sk-container-id-1 div.sk-label-container {text-align: center;}#sk-container-id-1 div.sk-container {/* jupyter's `normalize.less` sets `[hidden] { display: none; }` but bootstrap.min.css set `[hidden] { display: none !important; }` so we also need the `!important` here to be able to override the default hidden behavior on the sphinx rendered scikit-learn.org. See: https://github.com/scikit-learn/scikit-learn/issues/21755 */display: inline-block !important;position: relative;}#sk-container-id-1 div.sk-text-repr-fallback {display: none;}</style><div id=\"sk-container-id-1\" class=\"sk-top-container\"><div class=\"sk-text-repr-fallback\"><pre>LGBMClassifier()</pre><b>In a Jupyter environment, please rerun this cell to show the HTML representation or trust the notebook. <br />On GitHub, the HTML representation is unable to render, please try loading this page with nbviewer.org.</b></div><div class=\"sk-container\" hidden><div class=\"sk-item\"><div class=\"sk-estimator sk-toggleable\"><input class=\"sk-toggleable__control sk-hidden--visually\" id=\"sk-estimator-id-1\" type=\"checkbox\" checked><label for=\"sk-estimator-id-1\" class=\"sk-toggleable__label sk-toggleable__label-arrow\">LGBMClassifier</label><div class=\"sk-toggleable__content\"><pre>LGBMClassifier()</pre></div></div></div></div></div>"
            ]
          },
          "metadata": {},
          "execution_count": 63
        }
      ]
    },
    {
      "cell_type": "code",
      "source": [
        "# predict the results\n",
        "y_pred=model.predict(X_test)"
      ],
      "metadata": {
        "id": "xHcdmDrL9cfN"
      },
      "execution_count": 64,
      "outputs": []
    },
    {
      "cell_type": "code",
      "source": [
        "# view accuracy\n",
        "from sklearn.metrics import accuracy_score\n",
        "\n",
        "accuracy=accuracy_score(y_pred, y_test)\n",
        "print('LightGBM Model accuracy score: {0:0.4f}'.format(accuracy_score(y_test, y_pred)))"
      ],
      "metadata": {
        "colab": {
          "base_uri": "https://localhost:8080/"
        },
        "id": "jj91SeCq9f5k",
        "outputId": "ab3c2b3a-59db-4ccd-c41f-abde6db77515"
      },
      "execution_count": 65,
      "outputs": [
        {
          "output_type": "stream",
          "name": "stdout",
          "text": [
            "LightGBM Model accuracy score: 0.9697\n"
          ]
        }
      ]
    },
    {
      "cell_type": "code",
      "source": [
        "y_pred_train = model.predict(X_train)\n",
        "print('Training-set accuracy score: {0:0.4f}'. format(accuracy_score(y_train, y_pred_train)))"
      ],
      "metadata": {
        "colab": {
          "base_uri": "https://localhost:8080/"
        },
        "id": "7yLian9r9nZ9",
        "outputId": "9ed481a3-17c6-4c18-a534-f3a3a9e3104a"
      },
      "execution_count": 66,
      "outputs": [
        {
          "output_type": "stream",
          "name": "stdout",
          "text": [
            "Training-set accuracy score: 0.9710\n"
          ]
        }
      ]
    },
    {
      "cell_type": "code",
      "source": [
        "# print the scores on training and test set\n",
        "\n",
        "print('Training set score: {:.4f}'.format(model.score(X_train, y_train)))\n",
        "print('Test set score: {:.4f}'.format(model.score(X_test, y_test)))"
      ],
      "metadata": {
        "colab": {
          "base_uri": "https://localhost:8080/"
        },
        "id": "WAU5e9s49wCp",
        "outputId": "0d198d8b-2153-4d25-c7b3-54ef1d35e587"
      },
      "execution_count": 67,
      "outputs": [
        {
          "output_type": "stream",
          "name": "stdout",
          "text": [
            "Training set score: 0.9710\n",
            "Test set score: 0.9697\n"
          ]
        }
      ]
    },
    {
      "cell_type": "code",
      "source": [
        "# Initializing empty lists to append all model's name and corresponding name\n",
        "acc = []\n",
        "model = []"
      ],
      "metadata": {
        "id": "xUmcxyBunkpJ"
      },
      "execution_count": 68,
      "outputs": []
    },
    {
      "cell_type": "code",
      "source": [
        "precision =[]\n",
        "recall =[]\n",
        "f1 =[]"
      ],
      "metadata": {
        "id": "xEWHEqofQ6TW"
      },
      "execution_count": 69,
      "outputs": []
    },
    {
      "cell_type": "code",
      "source": [
        "acc.append(accuracy)\n",
        "model.append('LightGBM')\n",
        "print(\"LightGBM's Accuracy is: \",accuracy)"
      ],
      "metadata": {
        "colab": {
          "base_uri": "https://localhost:8080/"
        },
        "id": "cYrWyHHs_VTG",
        "outputId": "951508c2-3a68-4b61-adaa-6649bba4095b"
      },
      "execution_count": 70,
      "outputs": [
        {
          "output_type": "stream",
          "name": "stdout",
          "text": [
            "LightGBM's Accuracy is:  0.9696764705882353\n"
          ]
        }
      ]
    },
    {
      "cell_type": "code",
      "source": [
        "from sklearn.metrics import accuracy_score, precision_score, recall_score, f1_score\n",
        "\n",
        "# Evaluation for LightGBM Model\n",
        "# accuracy.append(accuracy_score(y_test, y_pred))\n",
        "precision.append(precision_score(y_test, y_pred, average='weighted'))\n",
        "recall.append(recall_score(y_test, y_pred, average='weighted'))\n",
        "f1.append(f1_score(y_test, y_pred, average='weighted'))\n",
        "\n",
        "# print(\"Accuracy:\", accuracy)\n",
        "# print(\"Precision:\", precision)\n",
        "# print(\"Recall:\", recall)\n",
        "# print(\"F1-score:\", f1)"
      ],
      "metadata": {
        "id": "QrHC_E9qAHd5"
      },
      "execution_count": 71,
      "outputs": []
    },
    {
      "cell_type": "code",
      "source": [
        "#what millet to grow"
      ],
      "metadata": {
        "id": "wUf7KIfG98yv"
      },
      "execution_count": 72,
      "outputs": []
    },
    {
      "cell_type": "code",
      "source": [
        "features = df_encoded.drop('Types_of_Millets_LabelEncoded', axis =1)\n",
        "target = df_encoded['Types_of_Millets_LabelEncoded']\n",
        "labels = df_encoded['Types_of_Millets_LabelEncoded']"
      ],
      "metadata": {
        "id": "XBml8Xe7m6Q6"
      },
      "execution_count": 73,
      "outputs": []
    },
    {
      "cell_type": "code",
      "source": [
        "features.columns"
      ],
      "metadata": {
        "colab": {
          "base_uri": "https://localhost:8080/"
        },
        "id": "d5hI4rlwI-yv",
        "outputId": "2cd7acb3-cf05-4f2f-8b57-7216953c4bd6"
      },
      "execution_count": 74,
      "outputs": [
        {
          "output_type": "execute_result",
          "data": {
            "text/plain": [
              "Index(['Drought_resistant', 'Flood_Resistant', 'Min_Temp', 'Max_Temp',\n",
              "       'pH_Min', 'pH_Max', 'Soil_Salinity_Min', 'Soil_Salinity_Max',\n",
              "       'Rainfall_Min', 'Rainfall_Max', 'Altitude_Min', 'Altitude_Max',\n",
              "       'Soil_Temp_Min', 'Soil_Temp_Max', 'Soil_Moisture_Min',\n",
              "       'Soil_Moisture_Max', 'Light_Duration_Min', 'Light_Duration_Max',\n",
              "       'Prodcutivity_Min', 'Prodcutivity_Max', 'Seeding_Rate_Min',\n",
              "       'Seeding_Rate_Max', 'Maturity_Time_Min', 'Maturity_time_Max',\n",
              "       'Planting_Depth_Min', 'Planting_Depth_Max', 'Protein (g)', 'Fat(g)',\n",
              "       'Ash(g)', 'Crude_Fibre(g)', 'Carbohydrates_(g)', 'Energy(kcal)',\n",
              "       'Calcium(mg)', 'Iron(mg)', 'Thiamine(mg)', 'Riboflavin(mg)',\n",
              "       'Niacin(mg)', 'Price(US$ / Kg)', 'Soil_Type_LabelEncoded',\n",
              "       'Planting_Geometry(cm-1)', 'Planting_Geometry(cm-2)'],\n",
              "      dtype='object')"
            ]
          },
          "metadata": {},
          "execution_count": 74
        }
      ]
    },
    {
      "cell_type": "code",
      "source": [
        "# Splitting into train and test data\n",
        "from sklearn.model_selection import train_test_split\n",
        "Xtrain, Xtest, Ytrain, Ytest = train_test_split(features,target,test_size = 0.2,random_state =2)"
      ],
      "metadata": {
        "id": "8uJ51EBZnoOp"
      },
      "execution_count": 75,
      "outputs": []
    },
    {
      "cell_type": "markdown",
      "source": [
        "Decision Tree"
      ],
      "metadata": {
        "id": "ZT5mwtM0-T6Q"
      }
    },
    {
      "cell_type": "code",
      "source": [
        "# Decision Tree\n",
        "from sklearn.tree import DecisionTreeClassifier\n",
        "\n",
        "DecisionTree = DecisionTreeClassifier(criterion=\"entropy\",random_state=2,max_depth=5)\n",
        "\n",
        "DecisionTree.fit(Xtrain,Ytrain)\n",
        "\n",
        "predicted_values = DecisionTree.predict(Xtest)\n",
        "x = metrics.accuracy_score(Ytest, predicted_values)\n",
        "acc.append(x)\n",
        "model.append('Decision Tree')\n",
        "print(\"DecisionTrees's Accuracy is: \", x*100)\n",
        "\n",
        "# print(classification_report(Ytest,predicted_values))"
      ],
      "metadata": {
        "colab": {
          "base_uri": "https://localhost:8080/"
        },
        "id": "JQn_9MRXnrj3",
        "outputId": "9511061e-ea7d-4da7-a26e-d75302a921db"
      },
      "execution_count": 76,
      "outputs": [
        {
          "output_type": "stream",
          "name": "stdout",
          "text": [
            "DecisionTrees's Accuracy is:  90.79411764705883\n"
          ]
        }
      ]
    },
    {
      "cell_type": "code",
      "source": [
        "# Evaluation for Decision Tree\n",
        "# accuracy = accuracy_score(Ytest, predicted_values)\n",
        "precision.append(precision_score(Ytest, predicted_values, average='weighted'))\n",
        "recall.append(recall_score(Ytest, predicted_values, average='weighted'))\n",
        "f1.append(f1_score(Ytest, predicted_values, average='weighted'))\n",
        "\n",
        "# print(\"Accuracy:\", accuracy)\n",
        "# print(\"Precision:\", precision)\n",
        "# print(\"Recall:\", recall)\n",
        "# print(\"F1-score:\", f1)"
      ],
      "metadata": {
        "id": "-yrG-eFfQrUN"
      },
      "execution_count": 77,
      "outputs": []
    },
    {
      "cell_type": "markdown",
      "source": [
        "Guassian Naive Bayes"
      ],
      "metadata": {
        "id": "wGtwocqL-nqO"
      }
    },
    {
      "cell_type": "code",
      "source": [
        "from sklearn.naive_bayes import GaussianNB\n",
        "\n",
        "NaiveBayes = GaussianNB()\n",
        "\n",
        "NaiveBayes.fit(Xtrain,Ytrain)\n",
        "\n",
        "predicted_values = NaiveBayes.predict(Xtest)\n",
        "x = metrics.accuracy_score(Ytest, predicted_values)\n",
        "acc.append(x)\n",
        "model.append('Naive Bayes')\n",
        "print(\"Naive Bayes's Accuracy is: \", x)\n",
        "\n",
        "# print(classification_report(Ytest,predicted_values))"
      ],
      "metadata": {
        "colab": {
          "base_uri": "https://localhost:8080/"
        },
        "id": "FzTUW2ctn0mG",
        "outputId": "fcf799a2-2c3e-47fb-9291-29f3d12857fe"
      },
      "execution_count": 78,
      "outputs": [
        {
          "output_type": "stream",
          "name": "stdout",
          "text": [
            "Naive Bayes's Accuracy is:  0.9696911764705882\n"
          ]
        }
      ]
    },
    {
      "cell_type": "code",
      "source": [
        "# Evaluation for NaiveBayes\n",
        "# accuracy = accuracy_score(Ytest, predicted_values)\n",
        "precision.append(precision_score(Ytest, predicted_values, average='weighted'))\n",
        "recall.append(recall_score(Ytest, predicted_values, average='weighted'))\n",
        "f1.append(f1_score(Ytest, predicted_values, average='weighted'))\n",
        "\n",
        "# print(\"Accuracy:\", accuracy)\n",
        "# print(\"Precision:\", precision)\n",
        "# print(\"Recall:\", recall)\n",
        "# print(\"F1-score:\", f1)"
      ],
      "metadata": {
        "id": "85D-N21CLmNM"
      },
      "execution_count": 79,
      "outputs": []
    },
    {
      "cell_type": "markdown",
      "source": [
        "Support Vector Machine (SVM)"
      ],
      "metadata": {
        "id": "4ykAYqsn-3Wc"
      }
    },
    {
      "cell_type": "code",
      "source": [
        "from sklearn.svm import SVC\n",
        "\n",
        "SVM = SVC(gamma='auto')\n",
        "\n",
        "SVM.fit(Xtrain,Ytrain)\n",
        "\n",
        "predicted_values = SVM.predict(Xtest)\n",
        "\n",
        "x = metrics.accuracy_score(Ytest, predicted_values)\n",
        "acc.append(x)\n",
        "model.append('SVM')\n",
        "print(\"SVM's Accuracy is: \", x)\n",
        "\n",
        "# print(classification_report(Ytest,predicted_values))"
      ],
      "metadata": {
        "colab": {
          "base_uri": "https://localhost:8080/"
        },
        "id": "EgLwcgSN-qCn",
        "outputId": "7144b2c1-203f-4762-eab3-d058505a93e8"
      },
      "execution_count": 80,
      "outputs": [
        {
          "output_type": "stream",
          "name": "stdout",
          "text": [
            "SVM's Accuracy is:  0.9696911764705882\n"
          ]
        }
      ]
    },
    {
      "cell_type": "code",
      "source": [
        "# Evaluation for SVM\n",
        "# accuracy = accuracy_score(Ytest, predicted_values)\n",
        "precision.append(precision_score(Ytest, predicted_values, average='weighted'))\n",
        "recall.append(recall_score(Ytest, predicted_values, average='weighted'))\n",
        "f1.append(f1_score(Ytest, predicted_values, average='weighted'))\n",
        "\n",
        "# print(\"Accuracy:\", accuracy)\n",
        "# print(\"Precision:\", precision)\n",
        "# print(\"Recall:\", recall)\n",
        "# print(\"F1-score:\", f1)"
      ],
      "metadata": {
        "id": "DjH-LKhjL0pe"
      },
      "execution_count": 81,
      "outputs": []
    },
    {
      "cell_type": "markdown",
      "source": [
        "Logistic Regression"
      ],
      "metadata": {
        "id": "UbRzilK9-_sB"
      }
    },
    {
      "cell_type": "code",
      "source": [
        "from sklearn.linear_model import LogisticRegression\n",
        "\n",
        "LogReg = LogisticRegression(random_state=2)\n",
        "\n",
        "LogReg.fit(Xtrain,Ytrain)\n",
        "\n",
        "predicted_values = LogReg.predict(Xtest)\n",
        "\n",
        "x = metrics.accuracy_score(Ytest, predicted_values)\n",
        "acc.append(x)\n",
        "model.append('Logistic Regression')\n",
        "print(\"Logistic Regression's Accuracy is: \", x)\n",
        "\n",
        "# print(classification_report(Ytest,predicted_values))"
      ],
      "metadata": {
        "colab": {
          "base_uri": "https://localhost:8080/"
        },
        "id": "eSiynHNc-7xT",
        "outputId": "80296710-dd5f-44cf-ac57-c3eee4acde66"
      },
      "execution_count": 82,
      "outputs": [
        {
          "output_type": "stream",
          "name": "stdout",
          "text": [
            "Logistic Regression's Accuracy is:  0.9708529411764706\n"
          ]
        }
      ]
    },
    {
      "cell_type": "code",
      "source": [
        "# Evaluation for Logistic Regression\n",
        "# accuracy = accuracy_score(Ytest, predicted_values)\n",
        "precision.append(precision_score(Ytest, predicted_values, average='weighted'))\n",
        "recall.append(recall_score(Ytest, predicted_values, average='weighted'))\n",
        "f1.append(f1_score(Ytest, predicted_values, average='weighted'))\n",
        "\n",
        "# print(\"Accuracy:\", accuracy)\n",
        "# print(\"Precision:\", precision)\n",
        "# print(\"Recall:\", recall)\n",
        "# print(\"F1-score:\", f1)"
      ],
      "metadata": {
        "id": "pkijE6MnL4FM"
      },
      "execution_count": 83,
      "outputs": []
    },
    {
      "cell_type": "markdown",
      "source": [
        "Random Forest"
      ],
      "metadata": {
        "id": "wk6PQgCm_Gu_"
      }
    },
    {
      "cell_type": "code",
      "source": [
        "from sklearn.ensemble import RandomForestClassifier\n",
        "\n",
        "RF = RandomForestClassifier(n_estimators=20, random_state=0)\n",
        "RF.fit(Xtrain,Ytrain)\n",
        "\n",
        "predicted_values = RF.predict(Xtest)\n",
        "\n",
        "x = metrics.accuracy_score(Ytest, predicted_values)\n",
        "acc.append(x)\n",
        "model.append('RF')\n",
        "print(\"RF's Accuracy is: \", x)\n",
        "\n",
        "# print(classification_report(Ytest,predicted_values))"
      ],
      "metadata": {
        "colab": {
          "base_uri": "https://localhost:8080/"
        },
        "id": "db9ffzHn_B_M",
        "outputId": "5be9ed41-0f2c-49a6-e2db-e2b1c6997b12"
      },
      "execution_count": 84,
      "outputs": [
        {
          "output_type": "stream",
          "name": "stdout",
          "text": [
            "RF's Accuracy is:  0.9696911764705882\n"
          ]
        }
      ]
    },
    {
      "cell_type": "code",
      "source": [
        "# Evaluation for Random forest\n",
        "\n",
        "precision.append(precision_score(Ytest, predicted_values, average='weighted'))\n",
        "recall.append(recall_score(Ytest, predicted_values, average='weighted'))\n",
        "f1.append(f1_score(Ytest, predicted_values, average='weighted'))\n"
      ],
      "metadata": {
        "id": "rhrMTUf4L9FQ"
      },
      "execution_count": 85,
      "outputs": []
    },
    {
      "cell_type": "markdown",
      "source": [
        "XGBoost"
      ],
      "metadata": {
        "id": "0-t04Ds8_VH4"
      }
    },
    {
      "cell_type": "code",
      "source": [
        "import xgboost as xgb\n",
        "XB = xgb.XGBClassifier()\n",
        "XB.fit(Xtrain,Ytrain)\n",
        "predicted_values = XB.predict(Xtest)\n",
        "\n",
        "x = metrics.accuracy_score(Ytest, predicted_values)\n",
        "acc.append(x)\n",
        "model.append('XGBoost')\n",
        "print(\"XGBoost's Accuracy is: \", x)\n",
        "\n",
        "# print(classification_report(Ytest,predicted_values))"
      ],
      "metadata": {
        "id": "f5v9h_l1_KG7",
        "colab": {
          "base_uri": "https://localhost:8080/"
        },
        "outputId": "76c31280-283b-4628-8efb-2180fb12c158"
      },
      "execution_count": 86,
      "outputs": [
        {
          "output_type": "stream",
          "name": "stdout",
          "text": [
            "XGBoost's Accuracy is:  0.9696911764705882\n"
          ]
        }
      ]
    },
    {
      "cell_type": "code",
      "source": [
        "# Evaluation for Xg boost\n",
        "# accuracy = accuracy_score(Ytest, predicted_values)\n",
        "precision.append(precision_score(Ytest, predicted_values, average='weighted'))\n",
        "recall.append(recall_score(Ytest, predicted_values, average='weighted'))\n",
        "f1.append(f1_score(Ytest, predicted_values, average='weighted'))\n",
        "\n",
        "# print(\"Accuracy:\", accuracy)\n",
        "# print(\"Precision:\", precision)\n",
        "# print(\"Recall:\", recall)\n",
        "# print(\"F1-score:\", f1)"
      ],
      "metadata": {
        "id": "Her2o7hUMAWn"
      },
      "execution_count": 87,
      "outputs": []
    },
    {
      "cell_type": "code",
      "source": [
        "# acc"
      ],
      "metadata": {
        "id": "hqlTpSUWIaH0"
      },
      "execution_count": 88,
      "outputs": []
    },
    {
      "cell_type": "code",
      "source": [
        "# plt.figure(figsize=[10,10],dpi = 100)\n",
        "# plt.title('Accuracy Comparison')\n",
        "# plt.xlabel('Accuracy')\n",
        "# plt.ylabel('Algorithm')\n",
        "# sns.barplot(x = acc,y = model,palette='dark')"
      ],
      "metadata": {
        "id": "6l4kA9TC_YL5"
      },
      "execution_count": 89,
      "outputs": []
    },
    {
      "cell_type": "markdown",
      "source": [
        "Making a prediction"
      ],
      "metadata": {
        "id": "AsEePOnS_yvB"
      }
    },
    {
      "cell_type": "code",
      "source": [
        "# data = np.array([[1,0,20.88,31.61,5.57,7.15,2,1.52,3.80,370,559.42,96.18,1947.06,\n",
        "#                   0,31.75,20.5,68.08,11.81,13.90,1.00,2.15,10.65,\n",
        "#                   17.84,71.21,96.81,1.84,6.47,18.54,27.65,10.40,\n",
        "#                   2.96,1.87,5.10,72.12,350.635,52.60,4.88,0.30,0.14,1.57,17.24]])\n",
        "# prediction = RF.predict(data)\n",
        "# print(prediction)"
      ],
      "metadata": {
        "id": "kLeJwQrL_ziN"
      },
      "execution_count": 90,
      "outputs": []
    },
    {
      "cell_type": "code",
      "source": [
        "performance = pd.DataFrame(list(zip(model, acc ,precision,recall, f1)),\n",
        "               columns =['Model', 'Accuracy','Precision','Recall','F1-score'])"
      ],
      "metadata": {
        "id": "8x1-D5TbJRmB"
      },
      "execution_count": 91,
      "outputs": []
    },
    {
      "cell_type": "code",
      "source": [
        "performance"
      ],
      "metadata": {
        "colab": {
          "base_uri": "https://localhost:8080/",
          "height": 269
        },
        "id": "FQBN5B9_WpeB",
        "outputId": "22caa51d-c015-4a28-886b-e6d043b04775"
      },
      "execution_count": 92,
      "outputs": [
        {
          "output_type": "execute_result",
          "data": {
            "text/plain": [
              "                 Model  Accuracy  Precision    Recall  F1-score\n",
              "0             LightGBM  0.969676   0.955040  0.969676  0.959805\n",
              "1        Decision Tree  0.907941   0.862584  0.907941  0.877555\n",
              "2          Naive Bayes  0.969691   0.954833  0.969691  0.959721\n",
              "3                  SVM  0.969691   0.954833  0.969691  0.959721\n",
              "4  Logistic Regression  0.970853   0.955995  0.970853  0.961012\n",
              "5                   RF  0.969691   0.954833  0.969691  0.959721\n",
              "6              XGBoost  0.969691   0.954833  0.969691  0.959721"
            ],
            "text/html": [
              "\n",
              "  <div id=\"df-8a31708c-1e17-4de6-98f3-89ec9e9af02c\">\n",
              "    <div class=\"colab-df-container\">\n",
              "      <div>\n",
              "<style scoped>\n",
              "    .dataframe tbody tr th:only-of-type {\n",
              "        vertical-align: middle;\n",
              "    }\n",
              "\n",
              "    .dataframe tbody tr th {\n",
              "        vertical-align: top;\n",
              "    }\n",
              "\n",
              "    .dataframe thead th {\n",
              "        text-align: right;\n",
              "    }\n",
              "</style>\n",
              "<table border=\"1\" class=\"dataframe\">\n",
              "  <thead>\n",
              "    <tr style=\"text-align: right;\">\n",
              "      <th></th>\n",
              "      <th>Model</th>\n",
              "      <th>Accuracy</th>\n",
              "      <th>Precision</th>\n",
              "      <th>Recall</th>\n",
              "      <th>F1-score</th>\n",
              "    </tr>\n",
              "  </thead>\n",
              "  <tbody>\n",
              "    <tr>\n",
              "      <th>0</th>\n",
              "      <td>LightGBM</td>\n",
              "      <td>0.969676</td>\n",
              "      <td>0.955040</td>\n",
              "      <td>0.969676</td>\n",
              "      <td>0.959805</td>\n",
              "    </tr>\n",
              "    <tr>\n",
              "      <th>1</th>\n",
              "      <td>Decision Tree</td>\n",
              "      <td>0.907941</td>\n",
              "      <td>0.862584</td>\n",
              "      <td>0.907941</td>\n",
              "      <td>0.877555</td>\n",
              "    </tr>\n",
              "    <tr>\n",
              "      <th>2</th>\n",
              "      <td>Naive Bayes</td>\n",
              "      <td>0.969691</td>\n",
              "      <td>0.954833</td>\n",
              "      <td>0.969691</td>\n",
              "      <td>0.959721</td>\n",
              "    </tr>\n",
              "    <tr>\n",
              "      <th>3</th>\n",
              "      <td>SVM</td>\n",
              "      <td>0.969691</td>\n",
              "      <td>0.954833</td>\n",
              "      <td>0.969691</td>\n",
              "      <td>0.959721</td>\n",
              "    </tr>\n",
              "    <tr>\n",
              "      <th>4</th>\n",
              "      <td>Logistic Regression</td>\n",
              "      <td>0.970853</td>\n",
              "      <td>0.955995</td>\n",
              "      <td>0.970853</td>\n",
              "      <td>0.961012</td>\n",
              "    </tr>\n",
              "    <tr>\n",
              "      <th>5</th>\n",
              "      <td>RF</td>\n",
              "      <td>0.969691</td>\n",
              "      <td>0.954833</td>\n",
              "      <td>0.969691</td>\n",
              "      <td>0.959721</td>\n",
              "    </tr>\n",
              "    <tr>\n",
              "      <th>6</th>\n",
              "      <td>XGBoost</td>\n",
              "      <td>0.969691</td>\n",
              "      <td>0.954833</td>\n",
              "      <td>0.969691</td>\n",
              "      <td>0.959721</td>\n",
              "    </tr>\n",
              "  </tbody>\n",
              "</table>\n",
              "</div>\n",
              "      <button class=\"colab-df-convert\" onclick=\"convertToInteractive('df-8a31708c-1e17-4de6-98f3-89ec9e9af02c')\"\n",
              "              title=\"Convert this dataframe to an interactive table.\"\n",
              "              style=\"display:none;\">\n",
              "        \n",
              "  <svg xmlns=\"http://www.w3.org/2000/svg\" height=\"24px\"viewBox=\"0 0 24 24\"\n",
              "       width=\"24px\">\n",
              "    <path d=\"M0 0h24v24H0V0z\" fill=\"none\"/>\n",
              "    <path d=\"M18.56 5.44l.94 2.06.94-2.06 2.06-.94-2.06-.94-.94-2.06-.94 2.06-2.06.94zm-11 1L8.5 8.5l.94-2.06 2.06-.94-2.06-.94L8.5 2.5l-.94 2.06-2.06.94zm10 10l.94 2.06.94-2.06 2.06-.94-2.06-.94-.94-2.06-.94 2.06-2.06.94z\"/><path d=\"M17.41 7.96l-1.37-1.37c-.4-.4-.92-.59-1.43-.59-.52 0-1.04.2-1.43.59L10.3 9.45l-7.72 7.72c-.78.78-.78 2.05 0 2.83L4 21.41c.39.39.9.59 1.41.59.51 0 1.02-.2 1.41-.59l7.78-7.78 2.81-2.81c.8-.78.8-2.07 0-2.86zM5.41 20L4 18.59l7.72-7.72 1.47 1.35L5.41 20z\"/>\n",
              "  </svg>\n",
              "      </button>\n",
              "      \n",
              "  <style>\n",
              "    .colab-df-container {\n",
              "      display:flex;\n",
              "      flex-wrap:wrap;\n",
              "      gap: 12px;\n",
              "    }\n",
              "\n",
              "    .colab-df-convert {\n",
              "      background-color: #E8F0FE;\n",
              "      border: none;\n",
              "      border-radius: 50%;\n",
              "      cursor: pointer;\n",
              "      display: none;\n",
              "      fill: #1967D2;\n",
              "      height: 32px;\n",
              "      padding: 0 0 0 0;\n",
              "      width: 32px;\n",
              "    }\n",
              "\n",
              "    .colab-df-convert:hover {\n",
              "      background-color: #E2EBFA;\n",
              "      box-shadow: 0px 1px 2px rgba(60, 64, 67, 0.3), 0px 1px 3px 1px rgba(60, 64, 67, 0.15);\n",
              "      fill: #174EA6;\n",
              "    }\n",
              "\n",
              "    [theme=dark] .colab-df-convert {\n",
              "      background-color: #3B4455;\n",
              "      fill: #D2E3FC;\n",
              "    }\n",
              "\n",
              "    [theme=dark] .colab-df-convert:hover {\n",
              "      background-color: #434B5C;\n",
              "      box-shadow: 0px 1px 3px 1px rgba(0, 0, 0, 0.15);\n",
              "      filter: drop-shadow(0px 1px 2px rgba(0, 0, 0, 0.3));\n",
              "      fill: #FFFFFF;\n",
              "    }\n",
              "  </style>\n",
              "\n",
              "      <script>\n",
              "        const buttonEl =\n",
              "          document.querySelector('#df-8a31708c-1e17-4de6-98f3-89ec9e9af02c button.colab-df-convert');\n",
              "        buttonEl.style.display =\n",
              "          google.colab.kernel.accessAllowed ? 'block' : 'none';\n",
              "\n",
              "        async function convertToInteractive(key) {\n",
              "          const element = document.querySelector('#df-8a31708c-1e17-4de6-98f3-89ec9e9af02c');\n",
              "          const dataTable =\n",
              "            await google.colab.kernel.invokeFunction('convertToInteractive',\n",
              "                                                     [key], {});\n",
              "          if (!dataTable) return;\n",
              "\n",
              "          const docLinkHtml = 'Like what you see? Visit the ' +\n",
              "            '<a target=\"_blank\" href=https://colab.research.google.com/notebooks/data_table.ipynb>data table notebook</a>'\n",
              "            + ' to learn more about interactive tables.';\n",
              "          element.innerHTML = '';\n",
              "          dataTable['output_type'] = 'display_data';\n",
              "          await google.colab.output.renderOutput(dataTable, element);\n",
              "          const docLink = document.createElement('div');\n",
              "          docLink.innerHTML = docLinkHtml;\n",
              "          element.appendChild(docLink);\n",
              "        }\n",
              "      </script>\n",
              "    </div>\n",
              "  </div>\n",
              "  "
            ]
          },
          "metadata": {},
          "execution_count": 92
        }
      ]
    },
    {
      "cell_type": "code",
      "source": [
        "features.columns"
      ],
      "metadata": {
        "colab": {
          "base_uri": "https://localhost:8080/"
        },
        "id": "jVo4fjDsJI_Q",
        "outputId": "e80b953a-9803-4659-e7b6-6d3d0560926c"
      },
      "execution_count": 93,
      "outputs": [
        {
          "output_type": "execute_result",
          "data": {
            "text/plain": [
              "Index(['Drought_resistant', 'Flood_Resistant', 'Min_Temp', 'Max_Temp',\n",
              "       'pH_Min', 'pH_Max', 'Soil_Salinity_Min', 'Soil_Salinity_Max',\n",
              "       'Rainfall_Min', 'Rainfall_Max', 'Altitude_Min', 'Altitude_Max',\n",
              "       'Soil_Temp_Min', 'Soil_Temp_Max', 'Soil_Moisture_Min',\n",
              "       'Soil_Moisture_Max', 'Light_Duration_Min', 'Light_Duration_Max',\n",
              "       'Prodcutivity_Min', 'Prodcutivity_Max', 'Seeding_Rate_Min',\n",
              "       'Seeding_Rate_Max', 'Maturity_Time_Min', 'Maturity_time_Max',\n",
              "       'Planting_Depth_Min', 'Planting_Depth_Max', 'Protein (g)', 'Fat(g)',\n",
              "       'Ash(g)', 'Crude_Fibre(g)', 'Carbohydrates_(g)', 'Energy(kcal)',\n",
              "       'Calcium(mg)', 'Iron(mg)', 'Thiamine(mg)', 'Riboflavin(mg)',\n",
              "       'Niacin(mg)', 'Price(US$ / Kg)', 'Soil_Type_LabelEncoded',\n",
              "       'Planting_Geometry(cm-1)', 'Planting_Geometry(cm-2)'],\n",
              "      dtype='object')"
            ]
          },
          "metadata": {},
          "execution_count": 93
        }
      ]
    },
    {
      "cell_type": "code",
      "source": [
        "test_data =pd.DataFrame({\n",
        "    'Drought_resistant': [1],\n",
        "    'Flood_Resistant': [0],\n",
        "    'Min_Temp': [20.88],\n",
        "    'Max_Temp': [31.61],\n",
        "    'pH_Min':[5.57],\n",
        "    'pH_Max': [7.15],\n",
        "    'Soil_Salinity_Min': [1.52],\n",
        "    'Soil_Salinity_Max': [3.80],\n",
        "    'Rainfall_Min': [370],\n",
        "    'Rainfall_Max': [559.42],\n",
        "    'Altitude_Min': [96.18],\n",
        "    'Altitude_Max': [1947.06],\n",
        "    'Soil_Temp_Min': [0],\n",
        "    'Soil_Temp_Max': [31.75],\n",
        "    'Soil_Moisture_Min': [20.5],\n",
        "    'Soil_Moisture_Max': [68.08],\n",
        "    'Light_Duration_Min': [11.81],\n",
        "    'Light_Duration_Max': [13.90],\n",
        "    'Prodcutivity_Min': [1.00],\n",
        "    'Prodcutivity_Max': [2.15],\n",
        "    'Seeding_Rate_Min': [10.65],\n",
        "    'Seeding_Rate_Max': [17.84],\n",
        "    'Maturity_Time_Min': [71.21],\n",
        "    'Maturity_time_Max': [96.81],\n",
        "    'Planting_Depth_Min': [1.84],\n",
        "    'Planting_Depth_Max': [6.47],\n",
        "    'Protein (g)': [10.40],\n",
        "    'Fat(g)': [2.96],\n",
        "    'Ash(g)': [1.87],\n",
        "    'Crude_Fibre(g)': [5.10],\n",
        "    'Carbohydrates_(g)': [72.12],\n",
        "    'Energy(kcal)': [350.635],\n",
        "    'Calcium(mg)': [52.60],\n",
        "    'Iron(mg)': [4.88],\n",
        "    'Thiamine(mg)': [0.30],\n",
        "    'Riboflavin(mg)': [0.14],\n",
        "    'Niacin(mg)': [1.57],\n",
        "    'Price(US$ / Kg)': [17.24],\n",
        "    'Soil_Type_LabelEncoded': ['L'],\n",
        "    'Planting_Geometry(cm-1)': [18.54],\n",
        "    'Planting_Geometry(cm-2)': [27.65]\n",
        "})\n",
        "test_data['Soil_Type_LabelEncoded']=label_encoder.transform(test_data['Soil_Type_LabelEncoded'])\n",
        "\n",
        "result = LogReg.predict(test_data)"
      ],
      "metadata": {
        "id": "m5cWZHFIWt8I"
      },
      "execution_count": 99,
      "outputs": []
    },
    {
      "cell_type": "code",
      "source": [
        "Millets"
      ],
      "metadata": {
        "colab": {
          "base_uri": "https://localhost:8080/",
          "height": 1000
        },
        "id": "K6RcvtfXJRUW",
        "outputId": "7ae67634-5ae1-4a71-b991-9af069bf2fa4"
      },
      "execution_count": 110,
      "outputs": [
        {
          "output_type": "execute_result",
          "data": {
            "text/plain": [
              "                                          Millet Type  Label\n",
              "0                   Pearl millet (Pennisetum glaucum)     26\n",
              "1                   Finger millet (Eleusine coracana)      9\n",
              "2                    Foxtail millet (Setaria italica)     11\n",
              "3   Proso millet (Panicum miliaceum) (Chena in India)     27\n",
              "4                  Little millet (Panicum sumatrense)     23\n",
              "5                Kodo millet (Paspalum scrobiculatum)     22\n",
              "6                 Browntop millet (Brachiaria ramosa)      7\n",
              "7                        Teff millet (Eragrostis tef)     32\n",
              "8             Japanese millet (Echinochloa esculenta)     20\n",
              "9         Indian barnyard millet (Echinochloa colona)     15\n",
              "10                   African millet (Eleusine indica)      0\n",
              "11                   Italian millet (Setaria italica)     18\n",
              "12                    Job's tears (Coix lacryma-jobi)     21\n",
              "13                 Guinea millet (Brachiaria deflexa)     13\n",
              "14                             Sorghum Millet (Jowar)     31\n",
              "15                           Buckwheat Millet (Kuttu)      8\n",
              "16                          Amaranth Millet (Rajgira)      1\n",
              "17          Barnyard millet (Echinochloa frumentacea)      5\n",
              "18                     White fonio (Digitaria exilis)     33\n",
              "19                     Black fonio (Digitaria iburua)      6\n",
              "20                                         Ameranthus      2\n",
              "21                     Great millet (Sorghum bicolor)     12\n",
              "22     Barnyard grass millet (Echinochloa crus-galli)      4\n",
              "23          Naked barley (Hordeum vulgare var. nudum)     24\n",
              "24   Panic millet (Panicum miliaceum subsp. ruderale)     25\n",
              "25                          Sorghum (Sorghum bicolor)     30\n",
              "26                 Sawa millet (Echinochloa stagnina)     28\n",
              "27     Barnyard Grass Millet (Echinochloa crus-galli)      3\n",
              "28  Japanese Barnyard Millet (Echinochloa frumenta...     19\n",
              "29  Himalayan Foxtail Millet (Setaria italica subs...     14\n",
              "30   Italian Barnyard Millet (Echinochloa crus-galli)     16\n",
              "31  Foxtail Barnyard Millet (Echinochloa frumentacea)     10\n",
              "32  Siberian Millet (Panicum miliaceum subsp. sibi...     29\n",
              "33  Italian Foxtail Millet (Setaria italica subsp....     17"
            ],
            "text/html": [
              "\n",
              "  <div id=\"df-27dbefae-2099-43fc-93d2-97867fb6514a\">\n",
              "    <div class=\"colab-df-container\">\n",
              "      <div>\n",
              "<style scoped>\n",
              "    .dataframe tbody tr th:only-of-type {\n",
              "        vertical-align: middle;\n",
              "    }\n",
              "\n",
              "    .dataframe tbody tr th {\n",
              "        vertical-align: top;\n",
              "    }\n",
              "\n",
              "    .dataframe thead th {\n",
              "        text-align: right;\n",
              "    }\n",
              "</style>\n",
              "<table border=\"1\" class=\"dataframe\">\n",
              "  <thead>\n",
              "    <tr style=\"text-align: right;\">\n",
              "      <th></th>\n",
              "      <th>Millet Type</th>\n",
              "      <th>Label</th>\n",
              "    </tr>\n",
              "  </thead>\n",
              "  <tbody>\n",
              "    <tr>\n",
              "      <th>0</th>\n",
              "      <td>Pearl millet (Pennisetum glaucum)</td>\n",
              "      <td>26</td>\n",
              "    </tr>\n",
              "    <tr>\n",
              "      <th>1</th>\n",
              "      <td>Finger millet (Eleusine coracana)</td>\n",
              "      <td>9</td>\n",
              "    </tr>\n",
              "    <tr>\n",
              "      <th>2</th>\n",
              "      <td>Foxtail millet (Setaria italica)</td>\n",
              "      <td>11</td>\n",
              "    </tr>\n",
              "    <tr>\n",
              "      <th>3</th>\n",
              "      <td>Proso millet (Panicum miliaceum) (Chena in India)</td>\n",
              "      <td>27</td>\n",
              "    </tr>\n",
              "    <tr>\n",
              "      <th>4</th>\n",
              "      <td>Little millet (Panicum sumatrense)</td>\n",
              "      <td>23</td>\n",
              "    </tr>\n",
              "    <tr>\n",
              "      <th>5</th>\n",
              "      <td>Kodo millet (Paspalum scrobiculatum)</td>\n",
              "      <td>22</td>\n",
              "    </tr>\n",
              "    <tr>\n",
              "      <th>6</th>\n",
              "      <td>Browntop millet (Brachiaria ramosa)</td>\n",
              "      <td>7</td>\n",
              "    </tr>\n",
              "    <tr>\n",
              "      <th>7</th>\n",
              "      <td>Teff millet (Eragrostis tef)</td>\n",
              "      <td>32</td>\n",
              "    </tr>\n",
              "    <tr>\n",
              "      <th>8</th>\n",
              "      <td>Japanese millet (Echinochloa esculenta)</td>\n",
              "      <td>20</td>\n",
              "    </tr>\n",
              "    <tr>\n",
              "      <th>9</th>\n",
              "      <td>Indian barnyard millet (Echinochloa colona)</td>\n",
              "      <td>15</td>\n",
              "    </tr>\n",
              "    <tr>\n",
              "      <th>10</th>\n",
              "      <td>African millet (Eleusine indica)</td>\n",
              "      <td>0</td>\n",
              "    </tr>\n",
              "    <tr>\n",
              "      <th>11</th>\n",
              "      <td>Italian millet (Setaria italica)</td>\n",
              "      <td>18</td>\n",
              "    </tr>\n",
              "    <tr>\n",
              "      <th>12</th>\n",
              "      <td>Job's tears (Coix lacryma-jobi)</td>\n",
              "      <td>21</td>\n",
              "    </tr>\n",
              "    <tr>\n",
              "      <th>13</th>\n",
              "      <td>Guinea millet (Brachiaria deflexa)</td>\n",
              "      <td>13</td>\n",
              "    </tr>\n",
              "    <tr>\n",
              "      <th>14</th>\n",
              "      <td>Sorghum Millet (Jowar)</td>\n",
              "      <td>31</td>\n",
              "    </tr>\n",
              "    <tr>\n",
              "      <th>15</th>\n",
              "      <td>Buckwheat Millet (Kuttu)</td>\n",
              "      <td>8</td>\n",
              "    </tr>\n",
              "    <tr>\n",
              "      <th>16</th>\n",
              "      <td>Amaranth Millet (Rajgira)</td>\n",
              "      <td>1</td>\n",
              "    </tr>\n",
              "    <tr>\n",
              "      <th>17</th>\n",
              "      <td>Barnyard millet (Echinochloa frumentacea)</td>\n",
              "      <td>5</td>\n",
              "    </tr>\n",
              "    <tr>\n",
              "      <th>18</th>\n",
              "      <td>White fonio (Digitaria exilis)</td>\n",
              "      <td>33</td>\n",
              "    </tr>\n",
              "    <tr>\n",
              "      <th>19</th>\n",
              "      <td>Black fonio (Digitaria iburua)</td>\n",
              "      <td>6</td>\n",
              "    </tr>\n",
              "    <tr>\n",
              "      <th>20</th>\n",
              "      <td>Ameranthus</td>\n",
              "      <td>2</td>\n",
              "    </tr>\n",
              "    <tr>\n",
              "      <th>21</th>\n",
              "      <td>Great millet (Sorghum bicolor)</td>\n",
              "      <td>12</td>\n",
              "    </tr>\n",
              "    <tr>\n",
              "      <th>22</th>\n",
              "      <td>Barnyard grass millet (Echinochloa crus-galli)</td>\n",
              "      <td>4</td>\n",
              "    </tr>\n",
              "    <tr>\n",
              "      <th>23</th>\n",
              "      <td>Naked barley (Hordeum vulgare var. nudum)</td>\n",
              "      <td>24</td>\n",
              "    </tr>\n",
              "    <tr>\n",
              "      <th>24</th>\n",
              "      <td>Panic millet (Panicum miliaceum subsp. ruderale)</td>\n",
              "      <td>25</td>\n",
              "    </tr>\n",
              "    <tr>\n",
              "      <th>25</th>\n",
              "      <td>Sorghum (Sorghum bicolor)</td>\n",
              "      <td>30</td>\n",
              "    </tr>\n",
              "    <tr>\n",
              "      <th>26</th>\n",
              "      <td>Sawa millet (Echinochloa stagnina)</td>\n",
              "      <td>28</td>\n",
              "    </tr>\n",
              "    <tr>\n",
              "      <th>27</th>\n",
              "      <td>Barnyard Grass Millet (Echinochloa crus-galli)</td>\n",
              "      <td>3</td>\n",
              "    </tr>\n",
              "    <tr>\n",
              "      <th>28</th>\n",
              "      <td>Japanese Barnyard Millet (Echinochloa frumenta...</td>\n",
              "      <td>19</td>\n",
              "    </tr>\n",
              "    <tr>\n",
              "      <th>29</th>\n",
              "      <td>Himalayan Foxtail Millet (Setaria italica subs...</td>\n",
              "      <td>14</td>\n",
              "    </tr>\n",
              "    <tr>\n",
              "      <th>30</th>\n",
              "      <td>Italian Barnyard Millet (Echinochloa crus-galli)</td>\n",
              "      <td>16</td>\n",
              "    </tr>\n",
              "    <tr>\n",
              "      <th>31</th>\n",
              "      <td>Foxtail Barnyard Millet (Echinochloa frumentacea)</td>\n",
              "      <td>10</td>\n",
              "    </tr>\n",
              "    <tr>\n",
              "      <th>32</th>\n",
              "      <td>Siberian Millet (Panicum miliaceum subsp. sibi...</td>\n",
              "      <td>29</td>\n",
              "    </tr>\n",
              "    <tr>\n",
              "      <th>33</th>\n",
              "      <td>Italian Foxtail Millet (Setaria italica subsp....</td>\n",
              "      <td>17</td>\n",
              "    </tr>\n",
              "  </tbody>\n",
              "</table>\n",
              "</div>\n",
              "      <button class=\"colab-df-convert\" onclick=\"convertToInteractive('df-27dbefae-2099-43fc-93d2-97867fb6514a')\"\n",
              "              title=\"Convert this dataframe to an interactive table.\"\n",
              "              style=\"display:none;\">\n",
              "        \n",
              "  <svg xmlns=\"http://www.w3.org/2000/svg\" height=\"24px\"viewBox=\"0 0 24 24\"\n",
              "       width=\"24px\">\n",
              "    <path d=\"M0 0h24v24H0V0z\" fill=\"none\"/>\n",
              "    <path d=\"M18.56 5.44l.94 2.06.94-2.06 2.06-.94-2.06-.94-.94-2.06-.94 2.06-2.06.94zm-11 1L8.5 8.5l.94-2.06 2.06-.94-2.06-.94L8.5 2.5l-.94 2.06-2.06.94zm10 10l.94 2.06.94-2.06 2.06-.94-2.06-.94-.94-2.06-.94 2.06-2.06.94z\"/><path d=\"M17.41 7.96l-1.37-1.37c-.4-.4-.92-.59-1.43-.59-.52 0-1.04.2-1.43.59L10.3 9.45l-7.72 7.72c-.78.78-.78 2.05 0 2.83L4 21.41c.39.39.9.59 1.41.59.51 0 1.02-.2 1.41-.59l7.78-7.78 2.81-2.81c.8-.78.8-2.07 0-2.86zM5.41 20L4 18.59l7.72-7.72 1.47 1.35L5.41 20z\"/>\n",
              "  </svg>\n",
              "      </button>\n",
              "      \n",
              "  <style>\n",
              "    .colab-df-container {\n",
              "      display:flex;\n",
              "      flex-wrap:wrap;\n",
              "      gap: 12px;\n",
              "    }\n",
              "\n",
              "    .colab-df-convert {\n",
              "      background-color: #E8F0FE;\n",
              "      border: none;\n",
              "      border-radius: 50%;\n",
              "      cursor: pointer;\n",
              "      display: none;\n",
              "      fill: #1967D2;\n",
              "      height: 32px;\n",
              "      padding: 0 0 0 0;\n",
              "      width: 32px;\n",
              "    }\n",
              "\n",
              "    .colab-df-convert:hover {\n",
              "      background-color: #E2EBFA;\n",
              "      box-shadow: 0px 1px 2px rgba(60, 64, 67, 0.3), 0px 1px 3px 1px rgba(60, 64, 67, 0.15);\n",
              "      fill: #174EA6;\n",
              "    }\n",
              "\n",
              "    [theme=dark] .colab-df-convert {\n",
              "      background-color: #3B4455;\n",
              "      fill: #D2E3FC;\n",
              "    }\n",
              "\n",
              "    [theme=dark] .colab-df-convert:hover {\n",
              "      background-color: #434B5C;\n",
              "      box-shadow: 0px 1px 3px 1px rgba(0, 0, 0, 0.15);\n",
              "      filter: drop-shadow(0px 1px 2px rgba(0, 0, 0, 0.3));\n",
              "      fill: #FFFFFF;\n",
              "    }\n",
              "  </style>\n",
              "\n",
              "      <script>\n",
              "        const buttonEl =\n",
              "          document.querySelector('#df-27dbefae-2099-43fc-93d2-97867fb6514a button.colab-df-convert');\n",
              "        buttonEl.style.display =\n",
              "          google.colab.kernel.accessAllowed ? 'block' : 'none';\n",
              "\n",
              "        async function convertToInteractive(key) {\n",
              "          const element = document.querySelector('#df-27dbefae-2099-43fc-93d2-97867fb6514a');\n",
              "          const dataTable =\n",
              "            await google.colab.kernel.invokeFunction('convertToInteractive',\n",
              "                                                     [key], {});\n",
              "          if (!dataTable) return;\n",
              "\n",
              "          const docLinkHtml = 'Like what you see? Visit the ' +\n",
              "            '<a target=\"_blank\" href=https://colab.research.google.com/notebooks/data_table.ipynb>data table notebook</a>'\n",
              "            + ' to learn more about interactive tables.';\n",
              "          element.innerHTML = '';\n",
              "          dataTable['output_type'] = 'display_data';\n",
              "          await google.colab.output.renderOutput(dataTable, element);\n",
              "          const docLink = document.createElement('div');\n",
              "          docLink.innerHTML = docLinkHtml;\n",
              "          element.appendChild(docLink);\n",
              "        }\n",
              "      </script>\n",
              "    </div>\n",
              "  </div>\n",
              "  "
            ]
          },
          "metadata": {},
          "execution_count": 110
        }
      ]
    },
    {
      "cell_type": "code",
      "source": [
        "len(Millets['Label'])"
      ],
      "metadata": {
        "colab": {
          "base_uri": "https://localhost:8080/"
        },
        "id": "18GgKWuPcFH7",
        "outputId": "a9b497ee-3f55-40b0-f976-8016d26ae69a"
      },
      "execution_count": 111,
      "outputs": [
        {
          "output_type": "execute_result",
          "data": {
            "text/plain": [
              "34"
            ]
          },
          "metadata": {},
          "execution_count": 111
        }
      ]
    },
    {
      "cell_type": "code",
      "source": [
        "Millets['Label'][0]"
      ],
      "metadata": {
        "colab": {
          "base_uri": "https://localhost:8080/"
        },
        "id": "gZTN1VeQb2cm",
        "outputId": "a0da2327-dafc-4849-96e3-889df5ecc74f"
      },
      "execution_count": 112,
      "outputs": [
        {
          "output_type": "execute_result",
          "data": {
            "text/plain": [
              "26"
            ]
          },
          "metadata": {},
          "execution_count": 112
        }
      ]
    },
    {
      "cell_type": "code",
      "source": [
        "for i in range(len(Millets['Label'])):\n",
        "  if Millets['Label'][i] == result:\n",
        "    print(\"Predcited Millet is : \" , Millets['Millet Type'][i])"
      ],
      "metadata": {
        "colab": {
          "base_uri": "https://localhost:8080/"
        },
        "id": "R6--ooKTJbzy",
        "outputId": "c0376a5f-e8c2-4f8f-be5d-be6d1cc401c4"
      },
      "execution_count": 115,
      "outputs": [
        {
          "output_type": "stream",
          "name": "stdout",
          "text": [
            "Predcited Millet is :  Siberian Millet (Panicum miliaceum subsp. sibiricum)\n"
          ]
        }
      ]
    },
    {
      "cell_type": "markdown",
      "source": [
        "Used Logistic regression as it gave best results"
      ],
      "metadata": {
        "id": "zWNoQlF5dDHC"
      }
    }
  ]
}