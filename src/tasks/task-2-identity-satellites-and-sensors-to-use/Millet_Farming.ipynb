{
  "nbformat": 4,
  "nbformat_minor": 0,
  "metadata": {
    "colab": {
      "provenance": []
    },
    "kernelspec": {
      "name": "python3",
      "display_name": "Python 3"
    },
    "language_info": {
      "name": "python"
    },
    "widgets": {
      "application/vnd.jupyter.widget-state+json": {
        "0067252916a94ff297d3e5a9f54a242a": {
          "model_module": "jupyter-leaflet",
          "model_name": "LeafletMapModel",
          "model_module_version": "^0.17",
          "state": {
            "_dom_classes": [],
            "_model_module": "jupyter-leaflet",
            "_model_module_version": "^0.17",
            "_model_name": "LeafletMapModel",
            "_view_count": null,
            "_view_module": "jupyter-leaflet",
            "_view_module_version": "^0.17",
            "_view_name": "LeafletMapView",
            "bottom": 14545,
            "bounce_at_zoom_limits": true,
            "box_zoom": true,
            "center": [
              22.867087887359588,
              76.09178509191233
            ],
            "close_popup_on_click": true,
            "controls": [
              "IPY_MODEL_161a13d6c9b84e50a72557d871590662",
              "IPY_MODEL_85aacf4e29e6421387f8b9b6221b7369",
              "IPY_MODEL_a1b2a9f385fb4fc79512cffe3e7f82d6",
              "IPY_MODEL_41baf8a7b6784a56a86d4e2e25a5285f",
              "IPY_MODEL_b20bf7127ab34e7cb4c509d8cb203672",
              "IPY_MODEL_6b80bbe2fea1412b8b7f605b4f25a96a",
              "IPY_MODEL_250d9e4f68054cc7a760adfc6efad9d8",
              "IPY_MODEL_6faf24213ade4b5fa84cd9e7ed2b6ce4",
              "IPY_MODEL_f440b3db5d704374aebc5bf35f4ea62d"
            ],
            "crs": {
              "name": "EPSG3857",
              "custom": false
            },
            "default_style": "IPY_MODEL_b3702e8a4ca84eac9147c965d6eb4b32",
            "double_click_zoom": true,
            "dragging": true,
            "dragging_style": "IPY_MODEL_de738629ae9b4e39ba6bd3d944eb7a47",
            "east": 88.18725585937501,
            "fullscreen": false,
            "inertia": true,
            "inertia_deceleration": 3000,
            "inertia_max_speed": 1500,
            "interpolation": "bilinear",
            "keyboard": true,
            "keyboard_pan_offset": 80,
            "keyboard_zoom_offset": 1,
            "layers": [
              "IPY_MODEL_ca0a13c9034b4c9da3048498ce1b5fa8",
              "IPY_MODEL_aab19e0e1e0549a4830c6464b1af13c4",
              "IPY_MODEL_0ef359b1b9ae4fa39bd54e707f95f84e"
            ],
            "layout": "IPY_MODEL_ec508e4c751a41d896d72bcd58bbb4fb",
            "left": 22209,
            "max_zoom": 24,
            "min_zoom": null,
            "modisdate": "2023-06-11",
            "north": 25.86910939099931,
            "options": [
              "bounce_at_zoom_limits",
              "box_zoom",
              "center",
              "close_popup_on_click",
              "double_click_zoom",
              "dragging",
              "fullscreen",
              "inertia",
              "inertia_deceleration",
              "inertia_max_speed",
              "interpolation",
              "keyboard",
              "keyboard_pan_offset",
              "keyboard_zoom_offset",
              "max_zoom",
              "min_zoom",
              "prefer_canvas",
              "scroll_wheel_zoom",
              "tap",
              "tap_tolerance",
              "touch_zoom",
              "world_copy_jump",
              "zoom",
              "zoom_animation_threshold",
              "zoom_delta",
              "zoom_snap"
            ],
            "panes": {},
            "prefer_canvas": false,
            "right": 24411,
            "scroll_wheel_zoom": true,
            "south": 19.797717490704738,
            "style": "IPY_MODEL_b3702e8a4ca84eac9147c965d6eb4b32",
            "tap": true,
            "tap_tolerance": 15,
            "top": 13945,
            "touch_zoom": true,
            "west": 63.99536132812501,
            "window_url": "https://ljlt2t7ycve-496ff2e9c6d22116-0-colab.googleusercontent.com/outputframe.html?vrz=colab-20230601-060133-RC01_537142640",
            "world_copy_jump": false,
            "zoom": 7,
            "zoom_animation_threshold": 4,
            "zoom_delta": 1,
            "zoom_snap": 1
          }
        },
        "161a13d6c9b84e50a72557d871590662": {
          "model_module": "jupyter-leaflet",
          "model_name": "LeafletWidgetControlModel",
          "model_module_version": "^0.17",
          "state": {
            "_model_module": "jupyter-leaflet",
            "_model_module_version": "^0.17",
            "_model_name": "LeafletWidgetControlModel",
            "_view_count": null,
            "_view_module": "jupyter-leaflet",
            "_view_module_version": "^0.17",
            "_view_name": "LeafletWidgetControlView",
            "max_height": null,
            "max_width": null,
            "min_height": null,
            "min_width": null,
            "options": [
              "position",
              "transparent_bg"
            ],
            "position": "topleft",
            "transparent_bg": false,
            "widget": "IPY_MODEL_40d0225d267e42af83aae7d6e33d51c1"
          }
        },
        "85aacf4e29e6421387f8b9b6221b7369": {
          "model_module": "jupyter-leaflet",
          "model_name": "LeafletZoomControlModel",
          "model_module_version": "^0.17",
          "state": {
            "_model_module": "jupyter-leaflet",
            "_model_module_version": "^0.17",
            "_model_name": "LeafletZoomControlModel",
            "_view_count": null,
            "_view_module": "jupyter-leaflet",
            "_view_module_version": "^0.17",
            "_view_name": "LeafletZoomControlView",
            "options": [
              "position",
              "zoom_in_text",
              "zoom_in_title",
              "zoom_out_text",
              "zoom_out_title"
            ],
            "position": "topleft",
            "zoom_in_text": "+",
            "zoom_in_title": "Zoom in",
            "zoom_out_text": "-",
            "zoom_out_title": "Zoom out"
          }
        },
        "a1b2a9f385fb4fc79512cffe3e7f82d6": {
          "model_module": "jupyter-leaflet",
          "model_name": "LeafletScaleControlModel",
          "model_module_version": "^0.17",
          "state": {
            "_model_module": "jupyter-leaflet",
            "_model_module_version": "^0.17",
            "_model_name": "LeafletScaleControlModel",
            "_view_count": null,
            "_view_module": "jupyter-leaflet",
            "_view_module_version": "^0.17",
            "_view_name": "LeafletScaleControlView",
            "imperial": true,
            "max_width": 100,
            "metric": true,
            "options": [
              "imperial",
              "max_width",
              "metric",
              "position",
              "update_when_idle"
            ],
            "position": "bottomleft",
            "update_when_idle": false
          }
        },
        "41baf8a7b6784a56a86d4e2e25a5285f": {
          "model_module": "jupyter-leaflet",
          "model_name": "LeafletFullScreenControlModel",
          "model_module_version": "^0.17",
          "state": {
            "_model_module": "jupyter-leaflet",
            "_model_module_version": "^0.17",
            "_model_name": "LeafletFullScreenControlModel",
            "_view_count": null,
            "_view_module": "jupyter-leaflet",
            "_view_module_version": "^0.17",
            "_view_name": "LeafletFullScreenControlView",
            "options": [
              "position"
            ],
            "position": "topleft"
          }
        },
        "b20bf7127ab34e7cb4c509d8cb203672": {
          "model_module": "jupyter-leaflet",
          "model_name": "LeafletMeasureControlModel",
          "model_module_version": "^0.17",
          "state": {
            "_custom_units": {},
            "_model_module": "jupyter-leaflet",
            "_model_module_version": "^0.17",
            "_model_name": "LeafletMeasureControlModel",
            "_view_count": null,
            "_view_module": "jupyter-leaflet",
            "_view_module_version": "^0.17",
            "_view_name": "LeafletMeasureControlView",
            "active_color": "orange",
            "capture_z_index": 10000,
            "completed_color": "#C8F2BE",
            "options": [
              "active_color",
              "capture_z_index",
              "completed_color",
              "popup_options",
              "position",
              "primary_area_unit",
              "primary_length_unit",
              "secondary_area_unit",
              "secondary_length_unit"
            ],
            "popup_options": {
              "className": "leaflet-measure-resultpopup",
              "autoPanPadding": [
                10,
                10
              ]
            },
            "position": "bottomleft",
            "primary_area_unit": "acres",
            "primary_length_unit": "kilometers",
            "secondary_area_unit": null,
            "secondary_length_unit": null
          }
        },
        "6b80bbe2fea1412b8b7f605b4f25a96a": {
          "model_module": "jupyter-leaflet",
          "model_name": "LeafletAttributionControlModel",
          "model_module_version": "^0.17",
          "state": {
            "_model_module": "jupyter-leaflet",
            "_model_module_version": "^0.17",
            "_model_name": "LeafletAttributionControlModel",
            "_view_count": null,
            "_view_module": "jupyter-leaflet",
            "_view_module_version": "^0.17",
            "_view_name": "LeafletAttributionControlView",
            "options": [
              "position",
              "prefix"
            ],
            "position": "bottomright",
            "prefix": "ipyleaflet"
          }
        },
        "250d9e4f68054cc7a760adfc6efad9d8": {
          "model_module": "jupyter-leaflet",
          "model_name": "LeafletDrawControlModel",
          "model_module_version": "^0.17",
          "state": {
            "_model_module": "jupyter-leaflet",
            "_model_module_version": "^0.17",
            "_model_name": "LeafletDrawControlModel",
            "_view_count": null,
            "_view_module": "jupyter-leaflet",
            "_view_module_version": "^0.17",
            "_view_name": "LeafletDrawControlView",
            "circle": {
              "shapeOptions": {
                "color": "#3388ff"
              }
            },
            "circlemarker": {},
            "data": [],
            "edit": true,
            "marker": {
              "shapeOptions": {
                "color": "#3388ff"
              }
            },
            "options": [
              "position"
            ],
            "polygon": {
              "shapeOptions": {}
            },
            "polyline": {
              "shapeOptions": {}
            },
            "position": "topleft",
            "rectangle": {
              "shapeOptions": {
                "color": "#3388ff"
              }
            },
            "remove": true
          }
        },
        "6faf24213ade4b5fa84cd9e7ed2b6ce4": {
          "model_module": "jupyter-leaflet",
          "model_name": "LeafletWidgetControlModel",
          "model_module_version": "^0.17",
          "state": {
            "_model_module": "jupyter-leaflet",
            "_model_module_version": "^0.17",
            "_model_name": "LeafletWidgetControlModel",
            "_view_count": null,
            "_view_module": "jupyter-leaflet",
            "_view_module_version": "^0.17",
            "_view_name": "LeafletWidgetControlView",
            "max_height": null,
            "max_width": null,
            "min_height": null,
            "min_width": null,
            "options": [
              "position",
              "transparent_bg"
            ],
            "position": "topright",
            "transparent_bg": false,
            "widget": "IPY_MODEL_ce4923ea942448af8496555125c52908"
          }
        },
        "f440b3db5d704374aebc5bf35f4ea62d": {
          "model_module": "jupyter-leaflet",
          "model_name": "LeafletLayersControlModel",
          "model_module_version": "^0.17",
          "state": {
            "_model_module": "jupyter-leaflet",
            "_model_module_version": "^0.17",
            "_model_name": "LeafletLayersControlModel",
            "_view_count": null,
            "_view_module": "jupyter-leaflet",
            "_view_module_version": "^0.17",
            "_view_name": "LeafletLayersControlView",
            "options": [
              "position"
            ],
            "position": "topright"
          }
        },
        "b3702e8a4ca84eac9147c965d6eb4b32": {
          "model_module": "jupyter-leaflet",
          "model_name": "LeafletMapStyleModel",
          "model_module_version": "^0.17",
          "state": {
            "_model_module": "jupyter-leaflet",
            "_model_module_version": "^0.17",
            "_model_name": "LeafletMapStyleModel",
            "_view_count": null,
            "_view_module": "@jupyter-widgets/base",
            "_view_module_version": "1.2.0",
            "_view_name": "StyleView",
            "cursor": "grab"
          }
        },
        "de738629ae9b4e39ba6bd3d944eb7a47": {
          "model_module": "jupyter-leaflet",
          "model_name": "LeafletMapStyleModel",
          "model_module_version": "^0.17",
          "state": {
            "_model_module": "jupyter-leaflet",
            "_model_module_version": "^0.17",
            "_model_name": "LeafletMapStyleModel",
            "_view_count": null,
            "_view_module": "@jupyter-widgets/base",
            "_view_module_version": "1.2.0",
            "_view_name": "StyleView",
            "cursor": "move"
          }
        },
        "ca0a13c9034b4c9da3048498ce1b5fa8": {
          "model_module": "jupyter-leaflet",
          "model_name": "LeafletTileLayerModel",
          "model_module_version": "^0.17",
          "state": {
            "_model_module": "jupyter-leaflet",
            "_model_module_version": "^0.17",
            "_model_name": "LeafletTileLayerModel",
            "_view_count": null,
            "_view_module": "jupyter-leaflet",
            "_view_module_version": "^0.17",
            "_view_name": "LeafletTileLayerView",
            "attribution": "&copy; <a href=\"https://www.openstreetmap.org/copyright\">OpenStreetMap</a> contributors",
            "base": true,
            "bottom": true,
            "bounds": null,
            "detect_retina": false,
            "loading": false,
            "max_native_zoom": null,
            "max_zoom": 19,
            "min_native_zoom": null,
            "min_zoom": 1,
            "name": "OpenStreetMap.Mapnik",
            "no_wrap": false,
            "opacity": 1,
            "options": [
              "attribution",
              "bounds",
              "detect_retina",
              "max_native_zoom",
              "max_zoom",
              "min_native_zoom",
              "min_zoom",
              "no_wrap",
              "tile_size",
              "tms",
              "zoom_offset"
            ],
            "pane": "",
            "popup": null,
            "popup_max_height": null,
            "popup_max_width": 300,
            "popup_min_width": 50,
            "show_loading": false,
            "subitems": [],
            "tile_size": 256,
            "tms": false,
            "url": "https://tile.openstreetmap.org/{z}/{x}/{y}.png",
            "visible": true,
            "zoom_offset": 0
          }
        },
        "aab19e0e1e0549a4830c6464b1af13c4": {
          "model_module": "jupyter-leaflet",
          "model_name": "LeafletTileLayerModel",
          "model_module_version": "^0.17",
          "state": {
            "_model_module": "jupyter-leaflet",
            "_model_module_version": "^0.17",
            "_model_name": "LeafletTileLayerModel",
            "_view_count": null,
            "_view_module": "jupyter-leaflet",
            "_view_module_version": "^0.17",
            "_view_name": "LeafletTileLayerView",
            "attribution": "Google",
            "base": false,
            "bottom": true,
            "bounds": null,
            "detect_retina": false,
            "loading": false,
            "max_native_zoom": null,
            "max_zoom": 24,
            "min_native_zoom": null,
            "min_zoom": 0,
            "name": "Google Maps",
            "no_wrap": false,
            "opacity": 1,
            "options": [
              "attribution",
              "bounds",
              "detect_retina",
              "max_native_zoom",
              "max_zoom",
              "min_native_zoom",
              "min_zoom",
              "no_wrap",
              "tile_size",
              "tms",
              "zoom_offset"
            ],
            "pane": "",
            "popup": null,
            "popup_max_height": null,
            "popup_max_width": 300,
            "popup_min_width": 50,
            "show_loading": false,
            "subitems": [],
            "tile_size": 256,
            "tms": false,
            "url": "https://mt1.google.com/vt/lyrs=m&x={x}&y={y}&z={z}",
            "visible": true,
            "zoom_offset": 0
          }
        },
        "0ef359b1b9ae4fa39bd54e707f95f84e": {
          "model_module": "jupyter-leaflet",
          "model_name": "LeafletTileLayerModel",
          "model_module_version": "^0.17",
          "state": {
            "_model_module": "jupyter-leaflet",
            "_model_module_version": "^0.17",
            "_model_name": "LeafletTileLayerModel",
            "_view_count": null,
            "_view_module": "jupyter-leaflet",
            "_view_module_version": "^0.17",
            "_view_name": "LeafletTileLayerView",
            "attribution": "Google Earth Engine",
            "base": false,
            "bottom": true,
            "bounds": null,
            "detect_retina": false,
            "loading": false,
            "max_native_zoom": null,
            "max_zoom": 24,
            "min_native_zoom": null,
            "min_zoom": 0,
            "name": "Temp",
            "no_wrap": false,
            "opacity": 1,
            "options": [
              "attribution",
              "bounds",
              "detect_retina",
              "max_native_zoom",
              "max_zoom",
              "min_native_zoom",
              "min_zoom",
              "no_wrap",
              "tile_size",
              "tms",
              "zoom_offset"
            ],
            "pane": "",
            "popup": null,
            "popup_max_height": null,
            "popup_max_width": 300,
            "popup_min_width": 50,
            "show_loading": false,
            "subitems": [],
            "tile_size": 256,
            "tms": false,
            "url": "https://earthengine.googleapis.com/v1alpha/projects/earthengine-legacy/maps/de6f7e63bf99aa8cfb619d239b748321-b7af5ae59954398f26b9de69e4c68f82/tiles/{z}/{x}/{y}",
            "visible": true,
            "zoom_offset": 0
          }
        },
        "ec508e4c751a41d896d72bcd58bbb4fb": {
          "model_module": "@jupyter-widgets/base",
          "model_name": "LayoutModel",
          "model_module_version": "1.2.0",
          "state": {
            "_model_module": "@jupyter-widgets/base",
            "_model_module_version": "1.2.0",
            "_model_name": "LayoutModel",
            "_view_count": null,
            "_view_module": "@jupyter-widgets/base",
            "_view_module_version": "1.2.0",
            "_view_name": "LayoutView",
            "align_content": null,
            "align_items": null,
            "align_self": null,
            "border": null,
            "bottom": null,
            "display": null,
            "flex": null,
            "flex_flow": null,
            "grid_area": null,
            "grid_auto_columns": null,
            "grid_auto_flow": null,
            "grid_auto_rows": null,
            "grid_column": null,
            "grid_gap": null,
            "grid_row": null,
            "grid_template_areas": null,
            "grid_template_columns": null,
            "grid_template_rows": null,
            "height": "600px",
            "justify_content": null,
            "justify_items": null,
            "left": null,
            "margin": null,
            "max_height": null,
            "max_width": null,
            "min_height": null,
            "min_width": null,
            "object_fit": null,
            "object_position": null,
            "order": null,
            "overflow": null,
            "overflow_x": null,
            "overflow_y": null,
            "padding": null,
            "right": null,
            "top": null,
            "visibility": null,
            "width": null
          }
        },
        "49da7b594c06449ab250ff1e9c3d7b45": {
          "model_module": "jupyter-leaflet",
          "model_name": "LeafletMapStyleModel",
          "model_module_version": "^0.17",
          "state": {
            "_model_module": "jupyter-leaflet",
            "_model_module_version": "^0.17",
            "_model_name": "LeafletMapStyleModel",
            "_view_count": null,
            "_view_module": "@jupyter-widgets/base",
            "_view_module_version": "1.2.0",
            "_view_name": "StyleView",
            "cursor": "grab"
          }
        },
        "40d0225d267e42af83aae7d6e33d51c1": {
          "model_module": "@jupyter-widgets/controls",
          "model_name": "HBoxModel",
          "model_module_version": "1.5.0",
          "state": {
            "_dom_classes": [],
            "_model_module": "@jupyter-widgets/controls",
            "_model_module_version": "1.5.0",
            "_model_name": "HBoxModel",
            "_view_count": null,
            "_view_module": "@jupyter-widgets/controls",
            "_view_module_version": "1.5.0",
            "_view_name": "HBoxView",
            "box_style": "",
            "children": [
              "IPY_MODEL_dbd0b81e19864adf91f6a39591062394"
            ],
            "layout": "IPY_MODEL_7821ebaac8054dc999571e544a2d60e8"
          }
        },
        "ce4923ea942448af8496555125c52908": {
          "model_module": "@jupyter-widgets/controls",
          "model_name": "VBoxModel",
          "model_module_version": "1.5.0",
          "state": {
            "_dom_classes": [],
            "_model_module": "@jupyter-widgets/controls",
            "_model_module_version": "1.5.0",
            "_model_name": "VBoxModel",
            "_view_count": null,
            "_view_module": "@jupyter-widgets/controls",
            "_view_module_version": "1.5.0",
            "_view_name": "VBoxView",
            "box_style": "",
            "children": [
              "IPY_MODEL_f73b7522938f41e293cd79849386f464"
            ],
            "layout": "IPY_MODEL_064b4a5ddcb24e1a95537af6afc5b1e8"
          }
        },
        "dbd0b81e19864adf91f6a39591062394": {
          "model_module": "@jupyter-widgets/controls",
          "model_name": "ToggleButtonModel",
          "model_module_version": "1.5.0",
          "state": {
            "_dom_classes": [],
            "_model_module": "@jupyter-widgets/controls",
            "_model_module_version": "1.5.0",
            "_model_name": "ToggleButtonModel",
            "_view_count": null,
            "_view_module": "@jupyter-widgets/controls",
            "_view_module_version": "1.5.0",
            "_view_name": "ToggleButtonView",
            "button_style": "",
            "description": "",
            "description_tooltip": null,
            "disabled": false,
            "icon": "globe",
            "layout": "IPY_MODEL_06987b5abf324a94a87854fa8cdfb688",
            "style": "IPY_MODEL_f0ff6dfdd5cc43d59f10f1c88302e91a",
            "tooltip": "Search location/data",
            "value": false
          }
        },
        "7821ebaac8054dc999571e544a2d60e8": {
          "model_module": "@jupyter-widgets/base",
          "model_name": "LayoutModel",
          "model_module_version": "1.2.0",
          "state": {
            "_model_module": "@jupyter-widgets/base",
            "_model_module_version": "1.2.0",
            "_model_name": "LayoutModel",
            "_view_count": null,
            "_view_module": "@jupyter-widgets/base",
            "_view_module_version": "1.2.0",
            "_view_name": "LayoutView",
            "align_content": null,
            "align_items": null,
            "align_self": null,
            "border": null,
            "bottom": null,
            "display": null,
            "flex": null,
            "flex_flow": null,
            "grid_area": null,
            "grid_auto_columns": null,
            "grid_auto_flow": null,
            "grid_auto_rows": null,
            "grid_column": null,
            "grid_gap": null,
            "grid_row": null,
            "grid_template_areas": null,
            "grid_template_columns": null,
            "grid_template_rows": null,
            "height": null,
            "justify_content": null,
            "justify_items": null,
            "left": null,
            "margin": null,
            "max_height": null,
            "max_width": null,
            "min_height": null,
            "min_width": null,
            "object_fit": null,
            "object_position": null,
            "order": null,
            "overflow": null,
            "overflow_x": null,
            "overflow_y": null,
            "padding": null,
            "right": null,
            "top": null,
            "visibility": null,
            "width": null
          }
        },
        "f73b7522938f41e293cd79849386f464": {
          "model_module": "@jupyter-widgets/controls",
          "model_name": "ToggleButtonModel",
          "model_module_version": "1.5.0",
          "state": {
            "_dom_classes": [],
            "_model_module": "@jupyter-widgets/controls",
            "_model_module_version": "1.5.0",
            "_model_name": "ToggleButtonModel",
            "_view_count": null,
            "_view_module": "@jupyter-widgets/controls",
            "_view_module_version": "1.5.0",
            "_view_name": "ToggleButtonView",
            "button_style": "",
            "description": "",
            "description_tooltip": null,
            "disabled": false,
            "icon": "wrench",
            "layout": "IPY_MODEL_9a857e94694c4dcfa590cd064948a352",
            "style": "IPY_MODEL_58d6575509b14a7c95d6b524401f9cb4",
            "tooltip": "Toolbar",
            "value": false
          }
        },
        "064b4a5ddcb24e1a95537af6afc5b1e8": {
          "model_module": "@jupyter-widgets/base",
          "model_name": "LayoutModel",
          "model_module_version": "1.2.0",
          "state": {
            "_model_module": "@jupyter-widgets/base",
            "_model_module_version": "1.2.0",
            "_model_name": "LayoutModel",
            "_view_count": null,
            "_view_module": "@jupyter-widgets/base",
            "_view_module_version": "1.2.0",
            "_view_name": "LayoutView",
            "align_content": null,
            "align_items": null,
            "align_self": null,
            "border": null,
            "bottom": null,
            "display": null,
            "flex": null,
            "flex_flow": null,
            "grid_area": null,
            "grid_auto_columns": null,
            "grid_auto_flow": null,
            "grid_auto_rows": null,
            "grid_column": null,
            "grid_gap": null,
            "grid_row": null,
            "grid_template_areas": null,
            "grid_template_columns": null,
            "grid_template_rows": null,
            "height": null,
            "justify_content": null,
            "justify_items": null,
            "left": null,
            "margin": null,
            "max_height": null,
            "max_width": null,
            "min_height": null,
            "min_width": null,
            "object_fit": null,
            "object_position": null,
            "order": null,
            "overflow": null,
            "overflow_x": null,
            "overflow_y": null,
            "padding": null,
            "right": null,
            "top": null,
            "visibility": null,
            "width": null
          }
        },
        "06987b5abf324a94a87854fa8cdfb688": {
          "model_module": "@jupyter-widgets/base",
          "model_name": "LayoutModel",
          "model_module_version": "1.2.0",
          "state": {
            "_model_module": "@jupyter-widgets/base",
            "_model_module_version": "1.2.0",
            "_model_name": "LayoutModel",
            "_view_count": null,
            "_view_module": "@jupyter-widgets/base",
            "_view_module_version": "1.2.0",
            "_view_name": "LayoutView",
            "align_content": null,
            "align_items": null,
            "align_self": null,
            "border": null,
            "bottom": null,
            "display": null,
            "flex": null,
            "flex_flow": null,
            "grid_area": null,
            "grid_auto_columns": null,
            "grid_auto_flow": null,
            "grid_auto_rows": null,
            "grid_column": null,
            "grid_gap": null,
            "grid_row": null,
            "grid_template_areas": null,
            "grid_template_columns": null,
            "grid_template_rows": null,
            "height": "28px",
            "justify_content": null,
            "justify_items": null,
            "left": null,
            "margin": null,
            "max_height": null,
            "max_width": null,
            "min_height": null,
            "min_width": null,
            "object_fit": null,
            "object_position": null,
            "order": null,
            "overflow": null,
            "overflow_x": null,
            "overflow_y": null,
            "padding": "0px 0px 0px 4px",
            "right": null,
            "top": null,
            "visibility": null,
            "width": "28px"
          }
        },
        "f0ff6dfdd5cc43d59f10f1c88302e91a": {
          "model_module": "@jupyter-widgets/controls",
          "model_name": "DescriptionStyleModel",
          "model_module_version": "1.5.0",
          "state": {
            "_model_module": "@jupyter-widgets/controls",
            "_model_module_version": "1.5.0",
            "_model_name": "DescriptionStyleModel",
            "_view_count": null,
            "_view_module": "@jupyter-widgets/base",
            "_view_module_version": "1.2.0",
            "_view_name": "StyleView",
            "description_width": ""
          }
        },
        "9a857e94694c4dcfa590cd064948a352": {
          "model_module": "@jupyter-widgets/base",
          "model_name": "LayoutModel",
          "model_module_version": "1.2.0",
          "state": {
            "_model_module": "@jupyter-widgets/base",
            "_model_module_version": "1.2.0",
            "_model_name": "LayoutModel",
            "_view_count": null,
            "_view_module": "@jupyter-widgets/base",
            "_view_module_version": "1.2.0",
            "_view_name": "LayoutView",
            "align_content": null,
            "align_items": null,
            "align_self": null,
            "border": null,
            "bottom": null,
            "display": null,
            "flex": null,
            "flex_flow": null,
            "grid_area": null,
            "grid_auto_columns": null,
            "grid_auto_flow": null,
            "grid_auto_rows": null,
            "grid_column": null,
            "grid_gap": null,
            "grid_row": null,
            "grid_template_areas": null,
            "grid_template_columns": null,
            "grid_template_rows": null,
            "height": "28px",
            "justify_content": null,
            "justify_items": null,
            "left": null,
            "margin": null,
            "max_height": null,
            "max_width": null,
            "min_height": null,
            "min_width": null,
            "object_fit": null,
            "object_position": null,
            "order": null,
            "overflow": null,
            "overflow_x": null,
            "overflow_y": null,
            "padding": "0px 0px 0px 4px",
            "right": null,
            "top": null,
            "visibility": null,
            "width": "28px"
          }
        },
        "58d6575509b14a7c95d6b524401f9cb4": {
          "model_module": "@jupyter-widgets/controls",
          "model_name": "DescriptionStyleModel",
          "model_module_version": "1.5.0",
          "state": {
            "_model_module": "@jupyter-widgets/controls",
            "_model_module_version": "1.5.0",
            "_model_name": "DescriptionStyleModel",
            "_view_count": null,
            "_view_module": "@jupyter-widgets/base",
            "_view_module_version": "1.2.0",
            "_view_name": "StyleView",
            "description_width": ""
          }
        }
      }
    }
  },
  "cells": [
    {
      "cell_type": "code",
      "execution_count": 1,
      "metadata": {
        "colab": {
          "base_uri": "https://localhost:8080/"
        },
        "id": "yRKuHtp2Haok",
        "outputId": "980a3a29-586a-4fd2-d9d7-0ab81d1a116d"
      },
      "outputs": [
        {
          "output_type": "stream",
          "name": "stdout",
          "text": [
            "Looking in indexes: https://pypi.org/simple, https://us-python.pkg.dev/colab-wheels/public/simple/\n",
            "Collecting geemap\n",
            "  Downloading geemap-0.22.1-py2.py3-none-any.whl (2.2 MB)\n",
            "\u001b[2K     \u001b[90m━━━━━━━━━━━━━━━━━━━━━━━━━━━━━━━━━━━━━━━━\u001b[0m \u001b[32m2.2/2.2 MB\u001b[0m \u001b[31m24.2 MB/s\u001b[0m eta \u001b[36m0:00:00\u001b[0m\n",
            "\u001b[?25hCollecting bqplot (from geemap)\n",
            "  Downloading bqplot-0.12.39-py2.py3-none-any.whl (1.2 MB)\n",
            "\u001b[2K     \u001b[90m━━━━━━━━━━━━━━━━━━━━━━━━━━━━━━━━━━━━━━━━\u001b[0m \u001b[32m1.2/1.2 MB\u001b[0m \u001b[31m60.6 MB/s\u001b[0m eta \u001b[36m0:00:00\u001b[0m\n",
            "\u001b[?25hCollecting colour (from geemap)\n",
            "  Downloading colour-0.1.5-py2.py3-none-any.whl (23 kB)\n",
            "Requirement already satisfied: earthengine-api>=0.1.347 in /usr/local/lib/python3.10/dist-packages (from geemap) (0.1.350)\n",
            "Collecting eerepr>=0.0.4 (from geemap)\n",
            "  Downloading eerepr-0.0.4-py3-none-any.whl (9.7 kB)\n",
            "Requirement already satisfied: folium>=0.13.0 in /usr/local/lib/python3.10/dist-packages (from geemap) (0.14.0)\n",
            "Collecting geocoder (from geemap)\n",
            "  Downloading geocoder-1.38.1-py2.py3-none-any.whl (98 kB)\n",
            "\u001b[2K     \u001b[90m━━━━━━━━━━━━━━━━━━━━━━━━━━━━━━━━━━━━━━━━\u001b[0m \u001b[32m98.6/98.6 kB\u001b[0m \u001b[31m9.1 MB/s\u001b[0m eta \u001b[36m0:00:00\u001b[0m\n",
            "\u001b[?25hCollecting ipyevents (from geemap)\n",
            "  Downloading ipyevents-2.0.1-py2.py3-none-any.whl (130 kB)\n",
            "\u001b[2K     \u001b[90m━━━━━━━━━━━━━━━━━━━━━━━━━━━━━━━━━━━━━━\u001b[0m \u001b[32m130.5/130.5 kB\u001b[0m \u001b[31m13.5 MB/s\u001b[0m eta \u001b[36m0:00:00\u001b[0m\n",
            "\u001b[?25hCollecting ipyfilechooser>=0.6.0 (from geemap)\n",
            "  Downloading ipyfilechooser-0.6.0-py3-none-any.whl (11 kB)\n",
            "Collecting ipyleaflet>=0.17.0 (from geemap)\n",
            "  Downloading ipyleaflet-0.17.3-py3-none-any.whl (3.4 MB)\n",
            "\u001b[2K     \u001b[90m━━━━━━━━━━━━━━━━━━━━━━━━━━━━━━━━━━━━━━━━\u001b[0m \u001b[32m3.4/3.4 MB\u001b[0m \u001b[31m88.5 MB/s\u001b[0m eta \u001b[36m0:00:00\u001b[0m\n",
            "\u001b[?25hCollecting ipytree (from geemap)\n",
            "  Downloading ipytree-0.2.2-py2.py3-none-any.whl (1.3 MB)\n",
            "\u001b[2K     \u001b[90m━━━━━━━━━━━━━━━━━━━━━━━━━━━━━━━━━━━━━━━━\u001b[0m \u001b[32m1.3/1.3 MB\u001b[0m \u001b[31m54.4 MB/s\u001b[0m eta \u001b[36m0:00:00\u001b[0m\n",
            "\u001b[?25hRequirement already satisfied: matplotlib in /usr/local/lib/python3.10/dist-packages (from geemap) (3.7.1)\n",
            "Requirement already satisfied: numpy in /usr/local/lib/python3.10/dist-packages (from geemap) (1.22.4)\n",
            "Requirement already satisfied: pandas in /usr/local/lib/python3.10/dist-packages (from geemap) (1.5.3)\n",
            "Requirement already satisfied: plotly in /usr/local/lib/python3.10/dist-packages (from geemap) (5.13.1)\n",
            "Collecting pyperclip (from geemap)\n",
            "  Downloading pyperclip-1.8.2.tar.gz (20 kB)\n",
            "  Preparing metadata (setup.py) ... \u001b[?25l\u001b[?25hdone\n",
            "Collecting pyshp>=2.1.3 (from geemap)\n",
            "  Downloading pyshp-2.3.1-py2.py3-none-any.whl (46 kB)\n",
            "\u001b[2K     \u001b[90m━━━━━━━━━━━━━━━━━━━━━━━━━━━━━━━━━━━━━━━━\u001b[0m \u001b[32m46.5/46.5 kB\u001b[0m \u001b[31m5.1 MB/s\u001b[0m eta \u001b[36m0:00:00\u001b[0m\n",
            "\u001b[?25hCollecting python-box (from geemap)\n",
            "  Downloading python_box-7.0.1-cp310-cp310-manylinux_2_5_x86_64.manylinux1_x86_64.manylinux_2_12_x86_64.manylinux2010_x86_64.whl (3.2 MB)\n",
            "\u001b[2K     \u001b[90m━━━━━━━━━━━━━━━━━━━━━━━━━━━━━━━━━━━━━━━━\u001b[0m \u001b[32m3.2/3.2 MB\u001b[0m \u001b[31m70.3 MB/s\u001b[0m eta \u001b[36m0:00:00\u001b[0m\n",
            "\u001b[?25hCollecting scooby (from geemap)\n",
            "  Downloading scooby-0.7.2-py3-none-any.whl (16 kB)\n",
            "Requirement already satisfied: google-cloud-storage in /usr/local/lib/python3.10/dist-packages (from earthengine-api>=0.1.347->geemap) (2.8.0)\n",
            "Requirement already satisfied: google-api-python-client>=1.12.1 in /usr/local/lib/python3.10/dist-packages (from earthengine-api>=0.1.347->geemap) (2.84.0)\n",
            "Requirement already satisfied: google-auth>=1.4.1 in /usr/local/lib/python3.10/dist-packages (from earthengine-api>=0.1.347->geemap) (2.17.3)\n",
            "Requirement already satisfied: google-auth-httplib2>=0.0.3 in /usr/local/lib/python3.10/dist-packages (from earthengine-api>=0.1.347->geemap) (0.1.0)\n",
            "Requirement already satisfied: httplib2<1dev,>=0.9.2 in /usr/local/lib/python3.10/dist-packages (from earthengine-api>=0.1.347->geemap) (0.21.0)\n",
            "Requirement already satisfied: requests in /usr/local/lib/python3.10/dist-packages (from earthengine-api>=0.1.347->geemap) (2.27.1)\n",
            "Requirement already satisfied: branca>=0.6.0 in /usr/local/lib/python3.10/dist-packages (from folium>=0.13.0->geemap) (0.6.0)\n",
            "Requirement already satisfied: jinja2>=2.9 in /usr/local/lib/python3.10/dist-packages (from folium>=0.13.0->geemap) (3.1.2)\n",
            "Requirement already satisfied: ipywidgets in /usr/local/lib/python3.10/dist-packages (from ipyfilechooser>=0.6.0->geemap) (7.7.1)\n",
            "Collecting traittypes<3,>=0.2.1 (from ipyleaflet>=0.17.0->geemap)\n",
            "  Downloading traittypes-0.2.1-py2.py3-none-any.whl (8.6 kB)\n",
            "Collecting xyzservices>=2021.8.1 (from ipyleaflet>=0.17.0->geemap)\n",
            "  Downloading xyzservices-2023.5.0-py3-none-any.whl (56 kB)\n",
            "\u001b[2K     \u001b[90m━━━━━━━━━━━━━━━━━━━━━━━━━━━━━━━━━━━━━━━━\u001b[0m \u001b[32m56.5/56.5 kB\u001b[0m \u001b[31m5.9 MB/s\u001b[0m eta \u001b[36m0:00:00\u001b[0m\n",
            "\u001b[?25hRequirement already satisfied: traitlets>=4.3.0 in /usr/local/lib/python3.10/dist-packages (from bqplot->geemap) (5.7.1)\n",
            "Requirement already satisfied: python-dateutil>=2.8.1 in /usr/local/lib/python3.10/dist-packages (from pandas->geemap) (2.8.2)\n",
            "Requirement already satisfied: pytz>=2020.1 in /usr/local/lib/python3.10/dist-packages (from pandas->geemap) (2022.7.1)\n",
            "Requirement already satisfied: click in /usr/local/lib/python3.10/dist-packages (from geocoder->geemap) (8.1.3)\n",
            "Requirement already satisfied: future in /usr/local/lib/python3.10/dist-packages (from geocoder->geemap) (0.18.3)\n",
            "Collecting ratelim (from geocoder->geemap)\n",
            "  Downloading ratelim-0.1.6-py2.py3-none-any.whl (4.0 kB)\n",
            "Requirement already satisfied: six in /usr/local/lib/python3.10/dist-packages (from geocoder->geemap) (1.16.0)\n",
            "Requirement already satisfied: contourpy>=1.0.1 in /usr/local/lib/python3.10/dist-packages (from matplotlib->geemap) (1.0.7)\n",
            "Requirement already satisfied: cycler>=0.10 in /usr/local/lib/python3.10/dist-packages (from matplotlib->geemap) (0.11.0)\n",
            "Requirement already satisfied: fonttools>=4.22.0 in /usr/local/lib/python3.10/dist-packages (from matplotlib->geemap) (4.39.3)\n",
            "Requirement already satisfied: kiwisolver>=1.0.1 in /usr/local/lib/python3.10/dist-packages (from matplotlib->geemap) (1.4.4)\n",
            "Requirement already satisfied: packaging>=20.0 in /usr/local/lib/python3.10/dist-packages (from matplotlib->geemap) (23.1)\n",
            "Requirement already satisfied: pillow>=6.2.0 in /usr/local/lib/python3.10/dist-packages (from matplotlib->geemap) (8.4.0)\n",
            "Requirement already satisfied: pyparsing>=2.3.1 in /usr/local/lib/python3.10/dist-packages (from matplotlib->geemap) (3.0.9)\n",
            "Requirement already satisfied: tenacity>=6.2.0 in /usr/local/lib/python3.10/dist-packages (from plotly->geemap) (8.2.2)\n",
            "Requirement already satisfied: google-api-core!=2.0.*,!=2.1.*,!=2.2.*,!=2.3.0,<3.0.0dev,>=1.31.5 in /usr/local/lib/python3.10/dist-packages (from google-api-python-client>=1.12.1->earthengine-api>=0.1.347->geemap) (2.11.0)\n",
            "Requirement already satisfied: uritemplate<5,>=3.0.1 in /usr/local/lib/python3.10/dist-packages (from google-api-python-client>=1.12.1->earthengine-api>=0.1.347->geemap) (4.1.1)\n",
            "Requirement already satisfied: cachetools<6.0,>=2.0.0 in /usr/local/lib/python3.10/dist-packages (from google-auth>=1.4.1->earthengine-api>=0.1.347->geemap) (5.3.0)\n",
            "Requirement already satisfied: pyasn1-modules>=0.2.1 in /usr/local/lib/python3.10/dist-packages (from google-auth>=1.4.1->earthengine-api>=0.1.347->geemap) (0.3.0)\n",
            "Requirement already satisfied: rsa<5,>=3.1.4 in /usr/local/lib/python3.10/dist-packages (from google-auth>=1.4.1->earthengine-api>=0.1.347->geemap) (4.9)\n",
            "Requirement already satisfied: ipykernel>=4.5.1 in /usr/local/lib/python3.10/dist-packages (from ipywidgets->ipyfilechooser>=0.6.0->geemap) (5.5.6)\n",
            "Requirement already satisfied: ipython-genutils~=0.2.0 in /usr/local/lib/python3.10/dist-packages (from ipywidgets->ipyfilechooser>=0.6.0->geemap) (0.2.0)\n",
            "Requirement already satisfied: widgetsnbextension~=3.6.0 in /usr/local/lib/python3.10/dist-packages (from ipywidgets->ipyfilechooser>=0.6.0->geemap) (3.6.4)\n",
            "Requirement already satisfied: ipython>=4.0.0 in /usr/local/lib/python3.10/dist-packages (from ipywidgets->ipyfilechooser>=0.6.0->geemap) (7.34.0)\n",
            "Requirement already satisfied: jupyterlab-widgets>=1.0.0 in /usr/local/lib/python3.10/dist-packages (from ipywidgets->ipyfilechooser>=0.6.0->geemap) (3.0.7)\n",
            "Requirement already satisfied: MarkupSafe>=2.0 in /usr/local/lib/python3.10/dist-packages (from jinja2>=2.9->folium>=0.13.0->geemap) (2.1.2)\n",
            "Requirement already satisfied: google-cloud-core<3.0dev,>=2.3.0 in /usr/local/lib/python3.10/dist-packages (from google-cloud-storage->earthengine-api>=0.1.347->geemap) (2.3.2)\n",
            "Requirement already satisfied: google-resumable-media>=2.3.2 in /usr/local/lib/python3.10/dist-packages (from google-cloud-storage->earthengine-api>=0.1.347->geemap) (2.5.0)\n",
            "Requirement already satisfied: urllib3<1.27,>=1.21.1 in /usr/local/lib/python3.10/dist-packages (from requests->earthengine-api>=0.1.347->geemap) (1.26.15)\n",
            "Requirement already satisfied: certifi>=2017.4.17 in /usr/local/lib/python3.10/dist-packages (from requests->earthengine-api>=0.1.347->geemap) (2022.12.7)\n",
            "Requirement already satisfied: charset-normalizer~=2.0.0 in /usr/local/lib/python3.10/dist-packages (from requests->earthengine-api>=0.1.347->geemap) (2.0.12)\n",
            "Requirement already satisfied: idna<4,>=2.5 in /usr/local/lib/python3.10/dist-packages (from requests->earthengine-api>=0.1.347->geemap) (3.4)\n",
            "Requirement already satisfied: decorator in /usr/local/lib/python3.10/dist-packages (from ratelim->geocoder->geemap) (4.4.2)\n",
            "Requirement already satisfied: googleapis-common-protos<2.0dev,>=1.56.2 in /usr/local/lib/python3.10/dist-packages (from google-api-core!=2.0.*,!=2.1.*,!=2.2.*,!=2.3.0,<3.0.0dev,>=1.31.5->google-api-python-client>=1.12.1->earthengine-api>=0.1.347->geemap) (1.59.0)\n",
            "Requirement already satisfied: protobuf!=3.20.0,!=3.20.1,!=4.21.0,!=4.21.1,!=4.21.2,!=4.21.3,!=4.21.4,!=4.21.5,<5.0.0dev,>=3.19.5 in /usr/local/lib/python3.10/dist-packages (from google-api-core!=2.0.*,!=2.1.*,!=2.2.*,!=2.3.0,<3.0.0dev,>=1.31.5->google-api-python-client>=1.12.1->earthengine-api>=0.1.347->geemap) (3.20.3)\n",
            "Requirement already satisfied: google-crc32c<2.0dev,>=1.0 in /usr/local/lib/python3.10/dist-packages (from google-resumable-media>=2.3.2->google-cloud-storage->earthengine-api>=0.1.347->geemap) (1.5.0)\n",
            "Requirement already satisfied: jupyter-client in /usr/local/lib/python3.10/dist-packages (from ipykernel>=4.5.1->ipywidgets->ipyfilechooser>=0.6.0->geemap) (6.1.12)\n",
            "Requirement already satisfied: tornado>=4.2 in /usr/local/lib/python3.10/dist-packages (from ipykernel>=4.5.1->ipywidgets->ipyfilechooser>=0.6.0->geemap) (6.3.1)\n",
            "Requirement already satisfied: setuptools>=18.5 in /usr/local/lib/python3.10/dist-packages (from ipython>=4.0.0->ipywidgets->ipyfilechooser>=0.6.0->geemap) (67.7.2)\n",
            "Collecting jedi>=0.16 (from ipython>=4.0.0->ipywidgets->ipyfilechooser>=0.6.0->geemap)\n",
            "  Downloading jedi-0.18.2-py2.py3-none-any.whl (1.6 MB)\n",
            "\u001b[2K     \u001b[90m━━━━━━━━━━━━━━━━━━━━━━━━━━━━━━━━━━━━━━━━\u001b[0m \u001b[32m1.6/1.6 MB\u001b[0m \u001b[31m76.0 MB/s\u001b[0m eta \u001b[36m0:00:00\u001b[0m\n",
            "\u001b[?25hRequirement already satisfied: pickleshare in /usr/local/lib/python3.10/dist-packages (from ipython>=4.0.0->ipywidgets->ipyfilechooser>=0.6.0->geemap) (0.7.5)\n",
            "Requirement already satisfied: prompt-toolkit!=3.0.0,!=3.0.1,<3.1.0,>=2.0.0 in /usr/local/lib/python3.10/dist-packages (from ipython>=4.0.0->ipywidgets->ipyfilechooser>=0.6.0->geemap) (3.0.38)\n",
            "Requirement already satisfied: pygments in /usr/local/lib/python3.10/dist-packages (from ipython>=4.0.0->ipywidgets->ipyfilechooser>=0.6.0->geemap) (2.14.0)\n",
            "Requirement already satisfied: backcall in /usr/local/lib/python3.10/dist-packages (from ipython>=4.0.0->ipywidgets->ipyfilechooser>=0.6.0->geemap) (0.2.0)\n",
            "Requirement already satisfied: matplotlib-inline in /usr/local/lib/python3.10/dist-packages (from ipython>=4.0.0->ipywidgets->ipyfilechooser>=0.6.0->geemap) (0.1.6)\n",
            "Requirement already satisfied: pexpect>4.3 in /usr/local/lib/python3.10/dist-packages (from ipython>=4.0.0->ipywidgets->ipyfilechooser>=0.6.0->geemap) (4.8.0)\n",
            "Requirement already satisfied: pyasn1<0.6.0,>=0.4.6 in /usr/local/lib/python3.10/dist-packages (from pyasn1-modules>=0.2.1->google-auth>=1.4.1->earthengine-api>=0.1.347->geemap) (0.5.0)\n",
            "Requirement already satisfied: notebook>=4.4.1 in /usr/local/lib/python3.10/dist-packages (from widgetsnbextension~=3.6.0->ipywidgets->ipyfilechooser>=0.6.0->geemap) (6.4.8)\n",
            "Requirement already satisfied: parso<0.9.0,>=0.8.0 in /usr/local/lib/python3.10/dist-packages (from jedi>=0.16->ipython>=4.0.0->ipywidgets->ipyfilechooser>=0.6.0->geemap) (0.8.3)\n",
            "Requirement already satisfied: pyzmq>=17 in /usr/local/lib/python3.10/dist-packages (from notebook>=4.4.1->widgetsnbextension~=3.6.0->ipywidgets->ipyfilechooser>=0.6.0->geemap) (23.2.1)\n",
            "Requirement already satisfied: argon2-cffi in /usr/local/lib/python3.10/dist-packages (from notebook>=4.4.1->widgetsnbextension~=3.6.0->ipywidgets->ipyfilechooser>=0.6.0->geemap) (21.3.0)\n",
            "Requirement already satisfied: jupyter-core>=4.6.1 in /usr/local/lib/python3.10/dist-packages (from notebook>=4.4.1->widgetsnbextension~=3.6.0->ipywidgets->ipyfilechooser>=0.6.0->geemap) (5.3.0)\n",
            "Requirement already satisfied: nbformat in /usr/local/lib/python3.10/dist-packages (from notebook>=4.4.1->widgetsnbextension~=3.6.0->ipywidgets->ipyfilechooser>=0.6.0->geemap) (5.8.0)\n",
            "Requirement already satisfied: nbconvert in /usr/local/lib/python3.10/dist-packages (from notebook>=4.4.1->widgetsnbextension~=3.6.0->ipywidgets->ipyfilechooser>=0.6.0->geemap) (6.5.4)\n",
            "Requirement already satisfied: nest-asyncio>=1.5 in /usr/local/lib/python3.10/dist-packages (from notebook>=4.4.1->widgetsnbextension~=3.6.0->ipywidgets->ipyfilechooser>=0.6.0->geemap) (1.5.6)\n",
            "Requirement already satisfied: Send2Trash>=1.8.0 in /usr/local/lib/python3.10/dist-packages (from notebook>=4.4.1->widgetsnbextension~=3.6.0->ipywidgets->ipyfilechooser>=0.6.0->geemap) (1.8.0)\n",
            "Requirement already satisfied: terminado>=0.8.3 in /usr/local/lib/python3.10/dist-packages (from notebook>=4.4.1->widgetsnbextension~=3.6.0->ipywidgets->ipyfilechooser>=0.6.0->geemap) (0.17.1)\n",
            "Requirement already satisfied: prometheus-client in /usr/local/lib/python3.10/dist-packages (from notebook>=4.4.1->widgetsnbextension~=3.6.0->ipywidgets->ipyfilechooser>=0.6.0->geemap) (0.16.0)\n",
            "Requirement already satisfied: ptyprocess>=0.5 in /usr/local/lib/python3.10/dist-packages (from pexpect>4.3->ipython>=4.0.0->ipywidgets->ipyfilechooser>=0.6.0->geemap) (0.7.0)\n",
            "Requirement already satisfied: wcwidth in /usr/local/lib/python3.10/dist-packages (from prompt-toolkit!=3.0.0,!=3.0.1,<3.1.0,>=2.0.0->ipython>=4.0.0->ipywidgets->ipyfilechooser>=0.6.0->geemap) (0.2.6)\n",
            "Requirement already satisfied: platformdirs>=2.5 in /usr/local/lib/python3.10/dist-packages (from jupyter-core>=4.6.1->notebook>=4.4.1->widgetsnbextension~=3.6.0->ipywidgets->ipyfilechooser>=0.6.0->geemap) (3.3.0)\n",
            "Requirement already satisfied: argon2-cffi-bindings in /usr/local/lib/python3.10/dist-packages (from argon2-cffi->notebook>=4.4.1->widgetsnbextension~=3.6.0->ipywidgets->ipyfilechooser>=0.6.0->geemap) (21.2.0)\n",
            "Requirement already satisfied: lxml in /usr/local/lib/python3.10/dist-packages (from nbconvert->notebook>=4.4.1->widgetsnbextension~=3.6.0->ipywidgets->ipyfilechooser>=0.6.0->geemap) (4.9.2)\n",
            "Requirement already satisfied: beautifulsoup4 in /usr/local/lib/python3.10/dist-packages (from nbconvert->notebook>=4.4.1->widgetsnbextension~=3.6.0->ipywidgets->ipyfilechooser>=0.6.0->geemap) (4.11.2)\n",
            "Requirement already satisfied: bleach in /usr/local/lib/python3.10/dist-packages (from nbconvert->notebook>=4.4.1->widgetsnbextension~=3.6.0->ipywidgets->ipyfilechooser>=0.6.0->geemap) (6.0.0)\n",
            "Requirement already satisfied: defusedxml in /usr/local/lib/python3.10/dist-packages (from nbconvert->notebook>=4.4.1->widgetsnbextension~=3.6.0->ipywidgets->ipyfilechooser>=0.6.0->geemap) (0.7.1)\n",
            "Requirement already satisfied: entrypoints>=0.2.2 in /usr/local/lib/python3.10/dist-packages (from nbconvert->notebook>=4.4.1->widgetsnbextension~=3.6.0->ipywidgets->ipyfilechooser>=0.6.0->geemap) (0.4)\n",
            "Requirement already satisfied: jupyterlab-pygments in /usr/local/lib/python3.10/dist-packages (from nbconvert->notebook>=4.4.1->widgetsnbextension~=3.6.0->ipywidgets->ipyfilechooser>=0.6.0->geemap) (0.2.2)\n",
            "Requirement already satisfied: mistune<2,>=0.8.1 in /usr/local/lib/python3.10/dist-packages (from nbconvert->notebook>=4.4.1->widgetsnbextension~=3.6.0->ipywidgets->ipyfilechooser>=0.6.0->geemap) (0.8.4)\n",
            "Requirement already satisfied: nbclient>=0.5.0 in /usr/local/lib/python3.10/dist-packages (from nbconvert->notebook>=4.4.1->widgetsnbextension~=3.6.0->ipywidgets->ipyfilechooser>=0.6.0->geemap) (0.7.4)\n",
            "Requirement already satisfied: pandocfilters>=1.4.1 in /usr/local/lib/python3.10/dist-packages (from nbconvert->notebook>=4.4.1->widgetsnbextension~=3.6.0->ipywidgets->ipyfilechooser>=0.6.0->geemap) (1.5.0)\n",
            "Requirement already satisfied: tinycss2 in /usr/local/lib/python3.10/dist-packages (from nbconvert->notebook>=4.4.1->widgetsnbextension~=3.6.0->ipywidgets->ipyfilechooser>=0.6.0->geemap) (1.2.1)\n",
            "Requirement already satisfied: fastjsonschema in /usr/local/lib/python3.10/dist-packages (from nbformat->notebook>=4.4.1->widgetsnbextension~=3.6.0->ipywidgets->ipyfilechooser>=0.6.0->geemap) (2.16.3)\n",
            "Requirement already satisfied: jsonschema>=2.6 in /usr/local/lib/python3.10/dist-packages (from nbformat->notebook>=4.4.1->widgetsnbextension~=3.6.0->ipywidgets->ipyfilechooser>=0.6.0->geemap) (4.3.3)\n",
            "Requirement already satisfied: attrs>=17.4.0 in /usr/local/lib/python3.10/dist-packages (from jsonschema>=2.6->nbformat->notebook>=4.4.1->widgetsnbextension~=3.6.0->ipywidgets->ipyfilechooser>=0.6.0->geemap) (23.1.0)\n",
            "Requirement already satisfied: pyrsistent!=0.17.0,!=0.17.1,!=0.17.2,>=0.14.0 in /usr/local/lib/python3.10/dist-packages (from jsonschema>=2.6->nbformat->notebook>=4.4.1->widgetsnbextension~=3.6.0->ipywidgets->ipyfilechooser>=0.6.0->geemap) (0.19.3)\n",
            "Requirement already satisfied: cffi>=1.0.1 in /usr/local/lib/python3.10/dist-packages (from argon2-cffi-bindings->argon2-cffi->notebook>=4.4.1->widgetsnbextension~=3.6.0->ipywidgets->ipyfilechooser>=0.6.0->geemap) (1.15.1)\n",
            "Requirement already satisfied: soupsieve>1.2 in /usr/local/lib/python3.10/dist-packages (from beautifulsoup4->nbconvert->notebook>=4.4.1->widgetsnbextension~=3.6.0->ipywidgets->ipyfilechooser>=0.6.0->geemap) (2.4.1)\n",
            "Requirement already satisfied: webencodings in /usr/local/lib/python3.10/dist-packages (from bleach->nbconvert->notebook>=4.4.1->widgetsnbextension~=3.6.0->ipywidgets->ipyfilechooser>=0.6.0->geemap) (0.5.1)\n",
            "Requirement already satisfied: pycparser in /usr/local/lib/python3.10/dist-packages (from cffi>=1.0.1->argon2-cffi-bindings->argon2-cffi->notebook>=4.4.1->widgetsnbextension~=3.6.0->ipywidgets->ipyfilechooser>=0.6.0->geemap) (2.21)\n",
            "Building wheels for collected packages: pyperclip\n",
            "  Building wheel for pyperclip (setup.py) ... \u001b[?25l\u001b[?25hdone\n",
            "  Created wheel for pyperclip: filename=pyperclip-1.8.2-py3-none-any.whl size=11124 sha256=a580b6d16182dc1e19b1d9d4f20c7ca8ce02cc4deacea1984f38c0d6584f4840\n",
            "  Stored in directory: /root/.cache/pip/wheels/04/24/fe/140a94a7f1036003ede94579e6b4227fe96c840c6f4dcbe307\n",
            "Successfully built pyperclip\n",
            "Installing collected packages: pyperclip, colour, xyzservices, traittypes, scooby, ratelim, python-box, pyshp, jedi, geocoder, eerepr, ipytree, ipyleaflet, ipyfilechooser, ipyevents, bqplot, geemap\n",
            "Successfully installed bqplot-0.12.39 colour-0.1.5 eerepr-0.0.4 geemap-0.22.1 geocoder-1.38.1 ipyevents-2.0.1 ipyfilechooser-0.6.0 ipyleaflet-0.17.3 ipytree-0.2.2 jedi-0.18.2 pyperclip-1.8.2 pyshp-2.3.1 python-box-7.0.1 ratelim-0.1.6 scooby-0.7.2 traittypes-0.2.1 xyzservices-2023.5.0\n"
          ]
        }
      ],
      "source": [
        "!pip install geemap"
      ]
    },
    {
      "cell_type": "code",
      "source": [
        "import ee\n",
        "import geemap\n",
        "import numpy as np"
      ],
      "metadata": {
        "id": "qa2go0WJHsa9"
      },
      "execution_count": 9,
      "outputs": []
    },
    {
      "cell_type": "code",
      "source": [
        "ee.Authenticate()"
      ],
      "metadata": {
        "colab": {
          "base_uri": "https://localhost:8080/"
        },
        "id": "Dnv-ODnOIok-",
        "outputId": "56965a2c-1ac9-47f8-b599-54364ed632e4"
      },
      "execution_count": 3,
      "outputs": [
        {
          "output_type": "stream",
          "name": "stdout",
          "text": [
            "To authorize access needed by Earth Engine, open the following URL in a web browser and follow the instructions. If the web browser does not start automatically, please manually browse the URL below.\n",
            "\n",
            "    https://code.earthengine.google.com/client-auth?scopes=https%3A//www.googleapis.com/auth/earthengine%20https%3A//www.googleapis.com/auth/devstorage.full_control&request_id=tNH2dz9sp7nLexyKtv0jpyBunRWyqcdIqd0Tiz_VfuM&tc=sSJRaeObZC9FThio09JlhAk7zoDtbqvSMgLZhNKO3oo&cc=qCdv0Vx9_dpR4O8zlD97o6UxFTP77i0XLORG8bHhMF0\n",
            "\n",
            "The authorization workflow will generate a code, which you should paste in the box below.\n",
            "Enter verification code: 4/1AbUR2VOWiJl9H3sWy7Z9USf6JrshtFZ17SDsnFkrp-KjJigJAFlJ1lCsJ7A\n",
            "\n",
            "Successfully saved authorization token.\n"
          ]
        }
      ]
    },
    {
      "cell_type": "code",
      "source": [
        "ee.Initialize()"
      ],
      "metadata": {
        "id": "-Q3DaZskIrIR"
      },
      "execution_count": 4,
      "outputs": []
    },
    {
      "cell_type": "code",
      "source": [
        "Map = geemap.Map()"
      ],
      "metadata": {
        "id": "FDSi3iUJJyV7"
      },
      "execution_count": 5,
      "outputs": []
    },
    {
      "cell_type": "code",
      "source": [
        "geojson_str = \"\"\"\n",
        "{\n",
        "  \"last_clicked\": {\n",
        "    \"lat\": 19.9526963975442,\n",
        "    \"lng\": 80.83740234375001\n",
        "  },\n",
        "  \"last_object_clicked_tooltip\": null,\n",
        "  \"all_drawings\": [\n",
        "    {\n",
        "      \"type\": \"Feature\",\n",
        "      \"properties\": {},\n",
        "      \"geometry\": {\n",
        "        \"type\": \"Polygon\",\n",
        "        \"coordinates\": [\n",
        "          [\n",
        "            [\n",
        "              75.541992,\n",
        "              21.575719\n",
        "            ],\n",
        "            [\n",
        "              75.541992,\n",
        "              23.039298\n",
        "            ],\n",
        "            [\n",
        "              81.210938,\n",
        "              23.039298\n",
        "            ],\n",
        "            [\n",
        "              81.210938,\n",
        "              21.575719\n",
        "            ],\n",
        "            [\n",
        "              75.541992,\n",
        "              21.575719\n",
        "            ]\n",
        "          ]\n",
        "        ]\n",
        "      }\n",
        "    },\n",
        "    {\n",
        "      \"type\": \"Feature\",\n",
        "      \"properties\": {},\n",
        "      \"geometry\": {\n",
        "        \"type\": \"Polygon\",\n",
        "        \"coordinates\": [\n",
        "          [\n",
        "            [\n",
        "              74.003906,\n",
        "              21.371244\n",
        "            ],\n",
        "            [\n",
        "              78.33252,\n",
        "              20.055931\n",
        "            ],\n",
        "            [\n",
        "              74.223633,\n",
        "              17.497389\n",
        "            ],\n",
        "            [\n",
        "              73.78418,\n",
        "              19.746024\n",
        "            ],\n",
        "            [\n",
        "              74.003906,\n",
        "              21.371244\n",
        "            ]\n",
        "          ]\n",
        "        ]\n",
        "      }\n",
        "    },\n",
        "    {\n",
        "      \"type\": \"Feature\",\n",
        "      \"properties\": {\n",
        "        \"radius\": 129738.39801084361\n",
        "      },\n",
        "      \"geometry\": {\n",
        "        \"type\": \"Point\",\n",
        "        \"coordinates\": [\n",
        "          79.782715,\n",
        "          20.571082\n",
        "        ]\n",
        "      }\n",
        "    }\n",
        "  ],\n",
        "  \"last_active_drawing\": {\n",
        "    \"type\": \"Feature\",\n",
        "    \"properties\": {\n",
        "      \"radius\": 129738.39801084361\n",
        "    },\n",
        "    \"geometry\": {\n",
        "      \"type\": \"Point\",\n",
        "      \"coordinates\": [\n",
        "        79.782715,\n",
        "        20.571082\n",
        "      ]\n",
        "    }\n",
        "  },\n",
        "  \"bounds\": {\n",
        "    \"_southWest\": {\n",
        "      \"lat\": 16.341225619207496,\n",
        "      \"lng\": 68.99414062500001\n",
        "    },\n",
        "    \"_northEast\": {\n",
        "      \"lat\": 26.54922257769204,\n",
        "      \"lng\": 84.37500000000001\n",
        "    }\n",
        "  },\n",
        "  \"zoom\": 6,\n",
        "  \"last_circle_radius\": 129.7383980108436,\n",
        "  \"last_circle_polygon\": {\n",
        "    \"type\": \"Polygon\",\n",
        "    \"coordinates\": [\n",
        "      [\n",
        "        [\n",
        "          79.78271484375001,\n",
        "          21.73654175221142\n",
        "        ],\n",
        "        [\n",
        "          80.02743452490488,\n",
        "          21.71397413144097\n",
        "        ],\n",
        "        [\n",
        "          80.2625314202732,\n",
        "          21.647159272633584\n",
        "        ],\n",
        "        [\n",
        "          80.478787951357,\n",
        "          21.538723621583063\n",
        "        ],\n",
        "        [\n",
        "          80.66777523223335,\n",
        "          21.392921438329267\n",
        "        ],\n",
        "        [\n",
        "          80.82219515544898,\n",
        "          21.215457094083828\n",
        "        ],\n",
        "        [\n",
        "          80.93616512438655,\n",
        "          21.013249615141067\n",
        "        ],\n",
        "        [\n",
        "          81.00543424763379,\n",
        "          20.794151275173792\n",
        "        ],\n",
        "        [\n",
        "          81.02752489212537,\n",
        "          20.566633547599213\n",
        "        ],\n",
        "        [\n",
        "          81.00179821921546,\n",
        "          20.339454305408772\n",
        "        ],\n",
        "        [\n",
        "          80.92944623380968,\n",
        "          20.121319944340534\n",
        "        ],\n",
        "        [\n",
        "          80.81341574673782,\n",
        "          19.92055531134102\n",
        "        ],\n",
        "        [\n",
        "          80.65827150440543,\n",
        "          19.744793150494694\n",
        "        ],\n",
        "        [\n",
        "          80.47000676061818,\n",
        "          19.60069340026805\n",
        "        ],\n",
        "        [\n",
        "          80.25581000952853,\n",
        "          19.493701197816154\n",
        "        ],\n",
        "        [\n",
        "          80.02379671445877,\n",
        "          19.42785092056322\n",
        "        ],\n",
        "        [\n",
        "          79.78271484375001,\n",
        "          19.40562203480497\n",
        "        ],\n",
        "        [\n",
        "          79.54163297304125,\n",
        "          19.42785092056322\n",
        "        ],\n",
        "        [\n",
        "          79.30961967797147,\n",
        "          19.493701197816154\n",
        "        ],\n",
        "        [\n",
        "          79.09542292688184,\n",
        "          19.60069340026805\n",
        "        ],\n",
        "        [\n",
        "          78.90715818309458,\n",
        "          19.744793150494694\n",
        "        ],\n",
        "        [\n",
        "          78.7520139407622,\n",
        "          19.92055531134102\n",
        "        ],\n",
        "        [\n",
        "          78.63598345369034,\n",
        "          20.121319944340534\n",
        "        ],\n",
        "        [\n",
        "          78.56363146828456,\n",
        "          20.339454305408772\n",
        "        ],\n",
        "        [\n",
        "          78.53790479537464,\n",
        "          20.566633547599213\n",
        "        ],\n",
        "        [\n",
        "          78.55999543986623,\n",
        "          20.794151275173792\n",
        "        ],\n",
        "        [\n",
        "          78.62926456311347,\n",
        "          21.013249615141067\n",
        "        ],\n",
        "        [\n",
        "          78.74323453205103,\n",
        "          21.215457094083828\n",
        "        ],\n",
        "        [\n",
        "          78.89765445526666,\n",
        "          21.392921438329267\n",
        "        ],\n",
        "        [\n",
        "          79.08664173614301,\n",
        "          21.538723621583063\n",
        "        ],\n",
        "        [\n",
        "          79.30289826722681,\n",
        "          21.647159272633584\n",
        "        ],\n",
        "        [\n",
        "          79.53799516259514,\n",
        "          21.71397413144097\n",
        "        ],\n",
        "        [\n",
        "          79.78271484375001,\n",
        "          21.73654175221142\n",
        "        ]\n",
        "      ]\n",
        "    ]\n",
        "  },\n",
        "  \"center\": {\n",
        "    \"lat\": 21.53484700204879,\n",
        "    \"lng\": 76.68457031250001\n",
        "  }\n",
        "}\n",
        "\"\"\""
      ],
      "metadata": {
        "id": "S63tZcwAybH2"
      },
      "execution_count": 33,
      "outputs": []
    },
    {
      "cell_type": "code",
      "source": [
        "import json"
      ],
      "metadata": {
        "id": "Qu1_neZIybFk"
      },
      "execution_count": 34,
      "outputs": []
    },
    {
      "cell_type": "code",
      "source": [
        "geojson_data = json.loads(geojson_str)\n",
        "coordinates = geojson_data[\"all_drawings\"][0][\"geometry\"][\"coordinates\"][0]\n",
        "\n"
      ],
      "metadata": {
        "id": "05fn72YEybDJ"
      },
      "execution_count": 36,
      "outputs": []
    },
    {
      "cell_type": "code",
      "source": [
        "list_ = []\n",
        "new_coordinates = []\n",
        "for pair in coordinates:\n",
        "  list_.append(pair[1])\n",
        "  list_.append(pair[0])\n",
        "  new_coordinates.append(list_)\n",
        "  list_ = []"
      ],
      "metadata": {
        "id": "IgSK4QzZzYbO"
      },
      "execution_count": 43,
      "outputs": []
    },
    {
      "cell_type": "code",
      "source": [
        "print(new_coordinates)\n",
        "roi = ee.Geometry.Polygon(coordinates)"
      ],
      "metadata": {
        "colab": {
          "base_uri": "https://localhost:8080/"
        },
        "id": "MaB_zlQmzEwW",
        "outputId": "bcc405f9-8e6b-4062-e887-2d9b23602b37"
      },
      "execution_count": 54,
      "outputs": [
        {
          "output_type": "stream",
          "name": "stdout",
          "text": [
            "[[21.575719, 75.541992], [23.039298, 75.541992], [23.039298, 81.210938], [21.575719, 81.210938], [21.575719, 75.541992]]\n"
          ]
        }
      ]
    },
    {
      "cell_type": "code",
      "source": [
        "# xmin = 68.1623866\n",
        "# ymin = 6.4626999\n",
        "# xmax = 75.395561\n",
        "# ymax = 15.674541\n",
        "\n",
        "# # Create a bounding box geometry for India\n",
        "# roi = ee.Geometry.Rectangle([xmin, ymin, xmax, ymax])\n",
        "# roi = ee.Geometry.Polygon([21.575719, 75.541992, 23.039298, 75.541992, 23.039298, 81.210938, 21.575719, 81.210938, 21.575719, 75.541992])\n",
        "# geometry = ee.Geometry.Point([70.01319, 23.13231])\n",
        "# roi = geometry.buffer(1500)"
      ],
      "metadata": {
        "id": "p9mAo2r_Otbu"
      },
      "execution_count": 29,
      "outputs": []
    },
    {
      "cell_type": "code",
      "source": [
        "start_date = '2019-01-01'\n",
        "end_date = '2019-02-04'"
      ],
      "metadata": {
        "id": "Cb4PCEiiYASb"
      },
      "execution_count": 55,
      "outputs": []
    },
    {
      "cell_type": "code",
      "source": [
        "col = ee.ImageCollection('LANDSAT/LC08/C02/T1_L2') \\\n",
        ".filterDate(start_date, end_date) \\\n",
        ".filterBounds(roi).mean()\n",
        "\n",
        "temp  = col.select('ST_B.*').multiply(0.00341802).add(149.0).subtract(273.15).rename('temp')\n"
      ],
      "metadata": {
        "id": "rgYBWgFfOzOd"
      },
      "execution_count": 56,
      "outputs": []
    },
    {
      "cell_type": "code",
      "source": [
        "latlon = ee.Image.pixelLonLat().addBands(temp)\n",
        "\n",
        "\n",
        "latlon = latlon.reduceRegion(\n",
        "  reducer=ee.Reducer.toList(),\n",
        "  geometry=roi,\n",
        "  scale=100,\n",
        "  tileScale = 16,\n",
        "  bestEffort=True);\n",
        "\n",
        "data_lst = np.array((ee.Array(latlon.get(\"temp\")).getInfo()))"
      ],
      "metadata": {
        "id": "yzTSCTvlgxIV"
      },
      "execution_count": 57,
      "outputs": []
    },
    {
      "cell_type": "code",
      "source": [
        "data_lst.max()"
      ],
      "metadata": {
        "colab": {
          "base_uri": "https://localhost:8080/"
        },
        "id": "hECrjXbarTJL",
        "outputId": "47335367-181f-45ab-d812-060797b0809a"
      },
      "execution_count": 58,
      "outputs": [
        {
          "output_type": "execute_result",
          "data": {
            "text/plain": [
              "63.70608821000002"
            ]
          },
          "metadata": {},
          "execution_count": 58
        }
      ]
    },
    {
      "cell_type": "code",
      "source": [
        "data_lst.min()"
      ],
      "metadata": {
        "colab": {
          "base_uri": "https://localhost:8080/"
        },
        "id": "Zmrv3EHhsyoN",
        "outputId": "a2f71a8c-5a4c-4bf3-d758-1bdcaa2b3ecc"
      },
      "execution_count": 59,
      "outputs": [
        {
          "output_type": "execute_result",
          "data": {
            "text/plain": [
              "-23.687556159999986"
            ]
          },
          "metadata": {},
          "execution_count": 59
        }
      ]
    },
    {
      "cell_type": "code",
      "source": [],
      "metadata": {
        "id": "p8r2eYP_syl_"
      },
      "execution_count": null,
      "outputs": []
    },
    {
      "cell_type": "code",
      "source": [
        "# start_date = '2019-01-01'\n",
        "# end_date = '2019-10-04'"
      ],
      "metadata": {
        "id": "X0dCkj17syjS"
      },
      "execution_count": null,
      "outputs": []
    },
    {
      "cell_type": "code",
      "source": [
        "sentinel = ee.ImageCollection(\"COPERNICUS/S2_SR\").filterBounds(roi) \\\n",
        "               .filterDate(start_date,end_date) \\\n",
        "               .filter(ee.Filter.lt('CLOUDY_PIXEL_PERCENTAGE',20)) \\\n",
        "               .mean()"
      ],
      "metadata": {
        "id": "Bc6o1Bn9r-Ja"
      },
      "execution_count": 18,
      "outputs": []
    },
    {
      "cell_type": "code",
      "source": [
        "ph  = ee.Image(8.339).subtract(ee.Image(0.827).multiply(sentinel.select('B1').divide(sentinel.select('B8')))).rename('ph')"
      ],
      "metadata": {
        "id": "HNOcBh4qs7Ak"
      },
      "execution_count": 19,
      "outputs": []
    },
    {
      "cell_type": "code",
      "source": [
        "latlon = ee.Image.pixelLonLat().addBands(ph)\n",
        "# apply reducer to list\n",
        "latlon = latlon.reduceRegion(\n",
        "  reducer=ee.Reducer.toList(),\n",
        "  geometry=roi,\n",
        "  scale=100,\n",
        "  tileScale = 16,\n",
        "  bestEffort=True);\n",
        "# get data into three different arrays\n",
        "data_ph = np.array((ee.Array(latlon.get(\"ph\")).getInfo()))"
      ],
      "metadata": {
        "id": "4Hn1dCmts-_O",
        "colab": {
          "base_uri": "https://localhost:8080/",
          "height": 451
        },
        "outputId": "93e70eab-8b90-4b26-8151-3a080f8dd74f"
      },
      "execution_count": 20,
      "outputs": [
        {
          "output_type": "error",
          "ename": "EEException",
          "evalue": "ignored",
          "traceback": [
            "\u001b[0;31m---------------------------------------------------------------------------\u001b[0m",
            "\u001b[0;31mHttpError\u001b[0m                                 Traceback (most recent call last)",
            "\u001b[0;32m/usr/local/lib/python3.10/dist-packages/ee/data.py\u001b[0m in \u001b[0;36m_execute_cloud_call\u001b[0;34m(call, num_retries)\u001b[0m\n\u001b[1;32m    336\u001b[0m   \u001b[0;32mtry\u001b[0m\u001b[0;34m:\u001b[0m\u001b[0;34m\u001b[0m\u001b[0;34m\u001b[0m\u001b[0m\n\u001b[0;32m--> 337\u001b[0;31m     \u001b[0;32mreturn\u001b[0m \u001b[0mcall\u001b[0m\u001b[0;34m.\u001b[0m\u001b[0mexecute\u001b[0m\u001b[0;34m(\u001b[0m\u001b[0mnum_retries\u001b[0m\u001b[0;34m=\u001b[0m\u001b[0mnum_retries\u001b[0m\u001b[0;34m)\u001b[0m\u001b[0;34m\u001b[0m\u001b[0;34m\u001b[0m\u001b[0m\n\u001b[0m\u001b[1;32m    338\u001b[0m   \u001b[0;32mexcept\u001b[0m \u001b[0mgoogleapiclient\u001b[0m\u001b[0;34m.\u001b[0m\u001b[0merrors\u001b[0m\u001b[0;34m.\u001b[0m\u001b[0mHttpError\u001b[0m \u001b[0;32mas\u001b[0m \u001b[0me\u001b[0m\u001b[0;34m:\u001b[0m\u001b[0;34m\u001b[0m\u001b[0;34m\u001b[0m\u001b[0m\n",
            "\u001b[0;32m/usr/local/lib/python3.10/dist-packages/googleapiclient/_helpers.py\u001b[0m in \u001b[0;36mpositional_wrapper\u001b[0;34m(*args, **kwargs)\u001b[0m\n\u001b[1;32m    129\u001b[0m                     \u001b[0mlogger\u001b[0m\u001b[0;34m.\u001b[0m\u001b[0mwarning\u001b[0m\u001b[0;34m(\u001b[0m\u001b[0mmessage\u001b[0m\u001b[0;34m)\u001b[0m\u001b[0;34m\u001b[0m\u001b[0;34m\u001b[0m\u001b[0m\n\u001b[0;32m--> 130\u001b[0;31m             \u001b[0;32mreturn\u001b[0m \u001b[0mwrapped\u001b[0m\u001b[0;34m(\u001b[0m\u001b[0;34m*\u001b[0m\u001b[0margs\u001b[0m\u001b[0;34m,\u001b[0m \u001b[0;34m**\u001b[0m\u001b[0mkwargs\u001b[0m\u001b[0;34m)\u001b[0m\u001b[0;34m\u001b[0m\u001b[0;34m\u001b[0m\u001b[0m\n\u001b[0m\u001b[1;32m    131\u001b[0m \u001b[0;34m\u001b[0m\u001b[0m\n",
            "\u001b[0;32m/usr/local/lib/python3.10/dist-packages/googleapiclient/http.py\u001b[0m in \u001b[0;36mexecute\u001b[0;34m(self, http, num_retries)\u001b[0m\n\u001b[1;32m    937\u001b[0m         \u001b[0;32mif\u001b[0m \u001b[0mresp\u001b[0m\u001b[0;34m.\u001b[0m\u001b[0mstatus\u001b[0m \u001b[0;34m>=\u001b[0m \u001b[0;36m300\u001b[0m\u001b[0;34m:\u001b[0m\u001b[0;34m\u001b[0m\u001b[0;34m\u001b[0m\u001b[0m\n\u001b[0;32m--> 938\u001b[0;31m             \u001b[0;32mraise\u001b[0m \u001b[0mHttpError\u001b[0m\u001b[0;34m(\u001b[0m\u001b[0mresp\u001b[0m\u001b[0;34m,\u001b[0m \u001b[0mcontent\u001b[0m\u001b[0;34m,\u001b[0m \u001b[0muri\u001b[0m\u001b[0;34m=\u001b[0m\u001b[0mself\u001b[0m\u001b[0;34m.\u001b[0m\u001b[0muri\u001b[0m\u001b[0;34m)\u001b[0m\u001b[0;34m\u001b[0m\u001b[0;34m\u001b[0m\u001b[0m\n\u001b[0m\u001b[1;32m    939\u001b[0m         \u001b[0;32mreturn\u001b[0m \u001b[0mself\u001b[0m\u001b[0;34m.\u001b[0m\u001b[0mpostproc\u001b[0m\u001b[0;34m(\u001b[0m\u001b[0mresp\u001b[0m\u001b[0;34m,\u001b[0m \u001b[0mcontent\u001b[0m\u001b[0;34m)\u001b[0m\u001b[0;34m\u001b[0m\u001b[0;34m\u001b[0m\u001b[0m\n",
            "\u001b[0;31mHttpError\u001b[0m: <HttpError 400 when requesting https://earthengine.googleapis.com/v1alpha/projects/earthengine-legacy/value:compute?prettyPrint=false&alt=json returned \"Image.select: Pattern 'B8' did not match any bands.\". Details: \"Image.select: Pattern 'B8' did not match any bands.\">",
            "\nDuring handling of the above exception, another exception occurred:\n",
            "\u001b[0;31mEEException\u001b[0m                               Traceback (most recent call last)",
            "\u001b[0;32m<ipython-input-20-8186421e4ef0>\u001b[0m in \u001b[0;36m<cell line: 10>\u001b[0;34m()\u001b[0m\n\u001b[1;32m      8\u001b[0m   bestEffort=True);\n\u001b[1;32m      9\u001b[0m \u001b[0;31m# get data into three different arrays\u001b[0m\u001b[0;34m\u001b[0m\u001b[0;34m\u001b[0m\u001b[0m\n\u001b[0;32m---> 10\u001b[0;31m \u001b[0mdata_ph\u001b[0m \u001b[0;34m=\u001b[0m \u001b[0mnp\u001b[0m\u001b[0;34m.\u001b[0m\u001b[0marray\u001b[0m\u001b[0;34m(\u001b[0m\u001b[0;34m(\u001b[0m\u001b[0mee\u001b[0m\u001b[0;34m.\u001b[0m\u001b[0mArray\u001b[0m\u001b[0;34m(\u001b[0m\u001b[0mlatlon\u001b[0m\u001b[0;34m.\u001b[0m\u001b[0mget\u001b[0m\u001b[0;34m(\u001b[0m\u001b[0;34m\"ph\"\u001b[0m\u001b[0;34m)\u001b[0m\u001b[0;34m)\u001b[0m\u001b[0;34m.\u001b[0m\u001b[0mgetInfo\u001b[0m\u001b[0;34m(\u001b[0m\u001b[0;34m)\u001b[0m\u001b[0;34m)\u001b[0m\u001b[0;34m)\u001b[0m\u001b[0;34m\u001b[0m\u001b[0;34m\u001b[0m\u001b[0m\n\u001b[0m",
            "\u001b[0;32m/usr/local/lib/python3.10/dist-packages/ee/computedobject.py\u001b[0m in \u001b[0;36mgetInfo\u001b[0;34m(self)\u001b[0m\n\u001b[1;32m     94\u001b[0m       \u001b[0mThe\u001b[0m \u001b[0mobject\u001b[0m \u001b[0mcan\u001b[0m \u001b[0mevaluate\u001b[0m \u001b[0mto\u001b[0m \u001b[0manything\u001b[0m\u001b[0;34m.\u001b[0m\u001b[0;34m\u001b[0m\u001b[0;34m\u001b[0m\u001b[0m\n\u001b[1;32m     95\u001b[0m     \"\"\"\n\u001b[0;32m---> 96\u001b[0;31m     \u001b[0;32mreturn\u001b[0m \u001b[0mdata\u001b[0m\u001b[0;34m.\u001b[0m\u001b[0mcomputeValue\u001b[0m\u001b[0;34m(\u001b[0m\u001b[0mself\u001b[0m\u001b[0;34m)\u001b[0m\u001b[0;34m\u001b[0m\u001b[0;34m\u001b[0m\u001b[0m\n\u001b[0m\u001b[1;32m     97\u001b[0m \u001b[0;34m\u001b[0m\u001b[0m\n\u001b[1;32m     98\u001b[0m   \u001b[0;32mdef\u001b[0m \u001b[0mencode\u001b[0m\u001b[0;34m(\u001b[0m\u001b[0mself\u001b[0m\u001b[0;34m,\u001b[0m \u001b[0mencoder\u001b[0m\u001b[0;34m)\u001b[0m\u001b[0;34m:\u001b[0m\u001b[0;34m\u001b[0m\u001b[0;34m\u001b[0m\u001b[0m\n",
            "\u001b[0;32m/usr/local/lib/python3.10/dist-packages/ee/data.py\u001b[0m in \u001b[0;36mcomputeValue\u001b[0;34m(obj)\u001b[0m\n\u001b[1;32m    914\u001b[0m   \u001b[0m_maybe_populate_workload_tag\u001b[0m\u001b[0;34m(\u001b[0m\u001b[0mbody\u001b[0m\u001b[0;34m)\u001b[0m\u001b[0;34m\u001b[0m\u001b[0;34m\u001b[0m\u001b[0m\n\u001b[1;32m    915\u001b[0m \u001b[0;34m\u001b[0m\u001b[0m\n\u001b[0;32m--> 916\u001b[0;31m   return _execute_cloud_call(\n\u001b[0m\u001b[1;32m    917\u001b[0m       _get_cloud_api_resource().projects().value().compute(\n\u001b[1;32m    918\u001b[0m           \u001b[0mbody\u001b[0m\u001b[0;34m=\u001b[0m\u001b[0mbody\u001b[0m\u001b[0;34m,\u001b[0m\u001b[0;34m\u001b[0m\u001b[0;34m\u001b[0m\u001b[0m\n",
            "\u001b[0;32m/usr/local/lib/python3.10/dist-packages/ee/data.py\u001b[0m in \u001b[0;36m_execute_cloud_call\u001b[0;34m(call, num_retries)\u001b[0m\n\u001b[1;32m    337\u001b[0m     \u001b[0;32mreturn\u001b[0m \u001b[0mcall\u001b[0m\u001b[0;34m.\u001b[0m\u001b[0mexecute\u001b[0m\u001b[0;34m(\u001b[0m\u001b[0mnum_retries\u001b[0m\u001b[0;34m=\u001b[0m\u001b[0mnum_retries\u001b[0m\u001b[0;34m)\u001b[0m\u001b[0;34m\u001b[0m\u001b[0;34m\u001b[0m\u001b[0m\n\u001b[1;32m    338\u001b[0m   \u001b[0;32mexcept\u001b[0m \u001b[0mgoogleapiclient\u001b[0m\u001b[0;34m.\u001b[0m\u001b[0merrors\u001b[0m\u001b[0;34m.\u001b[0m\u001b[0mHttpError\u001b[0m \u001b[0;32mas\u001b[0m \u001b[0me\u001b[0m\u001b[0;34m:\u001b[0m\u001b[0;34m\u001b[0m\u001b[0;34m\u001b[0m\u001b[0m\n\u001b[0;32m--> 339\u001b[0;31m     \u001b[0;32mraise\u001b[0m \u001b[0m_translate_cloud_exception\u001b[0m\u001b[0;34m(\u001b[0m\u001b[0me\u001b[0m\u001b[0;34m)\u001b[0m\u001b[0;34m\u001b[0m\u001b[0;34m\u001b[0m\u001b[0m\n\u001b[0m\u001b[1;32m    340\u001b[0m \u001b[0;34m\u001b[0m\u001b[0m\n\u001b[1;32m    341\u001b[0m \u001b[0;34m\u001b[0m\u001b[0m\n",
            "\u001b[0;31mEEException\u001b[0m: Image.select: Pattern 'B8' did not match any bands."
          ]
        }
      ]
    },
    {
      "cell_type": "code",
      "source": [
        "data_ph.min() # min and max"
      ],
      "metadata": {
        "colab": {
          "base_uri": "https://localhost:8080/"
        },
        "id": "zI5fxMjJtRRK",
        "outputId": "2d5ce94f-8dec-445f-ff1e-99a3823ddd74"
      },
      "execution_count": null,
      "outputs": [
        {
          "output_type": "execute_result",
          "data": {
            "text/plain": [
              "7.8290735028568355"
            ]
          },
          "metadata": {},
          "execution_count": 17
        }
      ]
    },
    {
      "cell_type": "code",
      "source": [
        "data_ph.max()"
      ],
      "metadata": {
        "id": "hWtAAH_Qt1iH",
        "colab": {
          "base_uri": "https://localhost:8080/"
        },
        "outputId": "5d34ddf7-ab7b-466e-c907-c611c581bfd7"
      },
      "execution_count": null,
      "outputs": [
        {
          "output_type": "execute_result",
          "data": {
            "text/plain": [
              "8.220054765484983"
            ]
          },
          "metadata": {},
          "execution_count": 18
        }
      ]
    },
    {
      "cell_type": "code",
      "source": [
        "rainfall_dataset = ee.ImageCollection('ECMWF/ERA5_LAND/MONTHLY').select('total_precipitation')\n",
        "rainfall = rainfall_dataset.filterDate(start_date, end_date).sum().clip(roi).rename('rainfall')"
      ],
      "metadata": {
        "id": "4NtH4E9Et25u"
      },
      "execution_count": null,
      "outputs": []
    },
    {
      "cell_type": "code",
      "source": [
        "latlon = ee.Image.pixelLonLat().addBands(rainfall)\n",
        "# apply reducer to list\n",
        "latlon = latlon.reduceRegion(\n",
        "  reducer=ee.Reducer.toList(),\n",
        "  geometry=roi,\n",
        "  scale=100,\n",
        "  tileScale = 16,\n",
        "  bestEffort=True);\n",
        "# get data into three different arrays\n",
        "data_rainfall = np.array((ee.Array(latlon.get(\"rainfall\")).getInfo()))"
      ],
      "metadata": {
        "id": "vsKHgTUOt23J"
      },
      "execution_count": null,
      "outputs": []
    },
    {
      "cell_type": "code",
      "source": [
        "data_rainfall"
      ],
      "metadata": {
        "id": "q2uyPd5jaF4L"
      },
      "execution_count": null,
      "outputs": []
    },
    {
      "cell_type": "code",
      "source": [
        "data_rainfall.min()*100 # min and max"
      ],
      "metadata": {
        "colab": {
          "base_uri": "https://localhost:8080/"
        },
        "id": "YZ5KvDQuuYKD",
        "outputId": "6e401406-150d-4c43-d4b2-675a64e8801d"
      },
      "execution_count": null,
      "outputs": [
        {
          "output_type": "execute_result",
          "data": {
            "text/plain": [
              "1.8392022951047693"
            ]
          },
          "metadata": {},
          "execution_count": 23
        }
      ]
    },
    {
      "cell_type": "code",
      "source": [
        "data_rainfall.max()*100"
      ],
      "metadata": {
        "id": "jJQobqUhueBZ",
        "colab": {
          "base_uri": "https://localhost:8080/"
        },
        "outputId": "9fb1d31e-7b4f-4ed2-ddfa-716d3ca45ec9"
      },
      "execution_count": null,
      "outputs": [
        {
          "output_type": "execute_result",
          "data": {
            "text/plain": [
              "1.8392022951047693"
            ]
          },
          "metadata": {},
          "execution_count": 24
        }
      ]
    },
    {
      "cell_type": "code",
      "source": [
        "rainfall_dataset = ee.ImageCollection('ECMWF/ERA5_LAND/MONTHLY_AGGR').select('total_precipitation_min')\n",
        "rainfall_min = rainfall_dataset.filterDate(start_date, end_date).sum().clip(roi).rename('rainfallMin')\n",
        "rainfall_dataset = ee.ImageCollection('ECMWF/ERA5_LAND/MONTHLY_AGGR').select('total_precipitation_max')\n",
        "rainfall_max = rainfall_dataset.filterDate(start_date, end_date).sum().clip(roi).rename('rainfallMax')"
      ],
      "metadata": {
        "id": "s-nT6Dw-adq3"
      },
      "execution_count": null,
      "outputs": []
    },
    {
      "cell_type": "code",
      "source": [
        "latlon = ee.Image.pixelLonLat().addBands(rainfall_min)\n",
        "# apply reducer to list\n",
        "latlon = latlon.reduceRegion(\n",
        "  reducer=ee.Reducer.toList(),\n",
        "  geometry=roi,\n",
        "  scale=100,\n",
        "  tileScale = 16,\n",
        "  bestEffort=True);\n",
        "# get data into three different arrays\n",
        "data_rainfall_min = np.array((ee.Array(latlon.get(\"rainfallMin\")).getInfo()))\n",
        "latlon = ee.Image.pixelLonLat().addBands(rainfall_max)\n",
        "# apply reducer to list\n",
        "latlon = latlon.reduceRegion(\n",
        "  reducer=ee.Reducer.toList(),\n",
        "  geometry=roi,\n",
        "  scale=100,\n",
        "  tileScale = 16,\n",
        "  bestEffort=True);\n",
        "# get data into three different arrays\n",
        "data_rainfall_max = np.array((ee.Array(latlon.get(\"rainfallMax\")).getInfo()))"
      ],
      "metadata": {
        "id": "R34f5F5Vadta"
      },
      "execution_count": null,
      "outputs": []
    },
    {
      "cell_type": "code",
      "source": [
        "data_rainfall_max.mean()*100"
      ],
      "metadata": {
        "colab": {
          "base_uri": "https://localhost:8080/"
        },
        "id": "DPy-Pv8uadvv",
        "outputId": "3cd70fb6-741b-4433-d084-5a0d5c6b1d9c"
      },
      "execution_count": null,
      "outputs": [
        {
          "output_type": "execute_result",
          "data": {
            "text/plain": [
              "17.95370509047416"
            ]
          },
          "metadata": {},
          "execution_count": 35
        }
      ]
    },
    {
      "cell_type": "code",
      "source": [
        "data_rainfall_min.mean()*100"
      ],
      "metadata": {
        "colab": {
          "base_uri": "https://localhost:8080/"
        },
        "id": "3f8SWZXcady3",
        "outputId": "a4253802-fbb6-4616-d84b-7cb9df4cd3fa"
      },
      "execution_count": null,
      "outputs": [
        {
          "output_type": "execute_result",
          "data": {
            "text/plain": [
              "0.0045973062508863904"
            ]
          },
          "metadata": {},
          "execution_count": 34
        }
      ]
    },
    {
      "cell_type": "code",
      "source": [],
      "metadata": {
        "id": "tbmhpiBfvtu8"
      },
      "execution_count": null,
      "outputs": []
    },
    {
      "cell_type": "code",
      "source": [],
      "metadata": {
        "id": "rs_BYRJBvtsm"
      },
      "execution_count": null,
      "outputs": []
    },
    {
      "cell_type": "code",
      "source": [
        "wind_speed = ee.ImageCollection('NASA/GSFC/MERRA/flx/2').filter(ee.Filter.date(start_date, end_date)).filterBounds(roi).median()\n",
        "wind_speed = wind_speed.select('SPEED').rename('windSpeed')"
      ],
      "metadata": {
        "id": "QGd74csdvtpY"
      },
      "execution_count": null,
      "outputs": []
    },
    {
      "cell_type": "code",
      "source": [
        "latlon = ee.Image.pixelLonLat().addBands(wind_speed)\n",
        "# apply reducer to list\n",
        "latlon = latlon.reduceRegion(\n",
        "  reducer=ee.Reducer.toList(),\n",
        "  geometry=roi,\n",
        "  scale=30,\n",
        "  tileScale = 16,\n",
        "  bestEffort=True);\n",
        "# get data into three different arrays\n",
        "data_wind_speed = np.array((ee.Array(latlon.get(\"windSpeed\")).getInfo()))"
      ],
      "metadata": {
        "id": "5qMxybl6v9sn"
      },
      "execution_count": null,
      "outputs": []
    },
    {
      "cell_type": "code",
      "source": [
        "data_wind_speed.min() # min and max"
      ],
      "metadata": {
        "colab": {
          "base_uri": "https://localhost:8080/"
        },
        "id": "-bIm6O66BzJd",
        "outputId": "fea2b2a1-e1d1-45fc-bdbe-dd2f9d9e15f6"
      },
      "execution_count": null,
      "outputs": [
        {
          "output_type": "execute_result",
          "data": {
            "text/plain": [
              "6.655200958251953"
            ]
          },
          "metadata": {},
          "execution_count": 38
        }
      ]
    },
    {
      "cell_type": "code",
      "source": [
        "data_wind_speed.max() # m/s"
      ],
      "metadata": {
        "colab": {
          "base_uri": "https://localhost:8080/"
        },
        "id": "x28UbDKtbToK",
        "outputId": "319c3147-0417-48d5-fdb3-e6e4bde05498"
      },
      "execution_count": null,
      "outputs": [
        {
          "output_type": "execute_result",
          "data": {
            "text/plain": [
              "6.655200958251953"
            ]
          },
          "metadata": {},
          "execution_count": 39
        }
      ]
    },
    {
      "cell_type": "code",
      "source": [],
      "metadata": {
        "id": "o8S1vz2abTlD"
      },
      "execution_count": null,
      "outputs": []
    },
    {
      "cell_type": "code",
      "source": [
        "def qualityMask(im):\n",
        "  return im.updateMask(im.select('l2b_quality_flag').eq(1)).updateMask(im.select('degrade_flag').eq(0))"
      ],
      "metadata": {
        "id": "zY9fjJv_Fgbd"
      },
      "execution_count": null,
      "outputs": []
    },
    {
      "cell_type": "code",
      "source": [
        "canopy_cover = ee.ImageCollection('LARSE/GEDI/GEDI02_B_002_MONTHLY').map(qualityMask).filter(ee.Filter.date('2021-01-01', '2021-01-02')).filterBounds(roi).median().select('cover').rename(\"canopyCover\")\n",
        "latlon = ee.Image.pixelLonLat().addBands(canopy_cover)\n",
        "# apply reducer to list\n",
        "latlon = latlon.reduceRegion(\n",
        "  reducer=ee.Reducer.toList(),\n",
        "  geometry=roi,\n",
        "  scale=30,\n",
        "  tileScale = 16,\n",
        "  bestEffort=True);\n",
        "# get data into three different arrays\n",
        "data_canopy_cover = np.array((ee.Array(latlon.get(\"canopyCover\")).getInfo()))"
      ],
      "metadata": {
        "id": "Vv_eVmjbF3XA"
      },
      "execution_count": null,
      "outputs": []
    },
    {
      "cell_type": "code",
      "source": [
        "data_canopy_cover.mean() # average in %"
      ],
      "metadata": {
        "colab": {
          "base_uri": "https://localhost:8080/"
        },
        "id": "9yac2c3eGboz",
        "outputId": "5096e374-8ee6-4536-ba7c-30aff44b69a4"
      },
      "execution_count": null,
      "outputs": [
        {
          "output_type": "execute_result",
          "data": {
            "text/plain": [
              "0.1844889352718989"
            ]
          },
          "metadata": {},
          "execution_count": 42
        }
      ]
    },
    {
      "cell_type": "code",
      "source": [
        "# soil moisture, min max, mean dataset "
      ],
      "metadata": {
        "id": "JyEd3LrRGe4z"
      },
      "execution_count": null,
      "outputs": []
    },
    {
      "cell_type": "code",
      "source": [
        "# https://developers.google.com/earth-engine/datasets/catalog/NASA_USDA_HSL_SMAP10KM_soil_moisture"
      ],
      "metadata": {
        "id": "eITS4N355yM-"
      },
      "execution_count": null,
      "outputs": []
    },
    {
      "cell_type": "code",
      "source": [
        "soil_moisture = ee.ImageCollection('NASA_USDA/HSL/SMAP10KM_soil_moisture').filter(ee.Filter.date(start_date, end_date)).select('ssm').mean().rename('ssm')\n",
        "latlon = ee.Image.pixelLonLat().addBands(soil_moisture)\n",
        "# apply reducer to list\n",
        "latlon = latlon.reduceRegion(\n",
        "  reducer=ee.Reducer.toList(),\n",
        "  geometry=roi,\n",
        "  scale=30,\n",
        "  tileScale = 16,\n",
        "  bestEffort=True);\n",
        "# get data into three different arrays\n",
        "data_soil_moisture = np.array((ee.Array(latlon.get(\"ssm\")).getInfo()))"
      ],
      "metadata": {
        "id": "0DvEkHuocEH2"
      },
      "execution_count": null,
      "outputs": []
    },
    {
      "cell_type": "code",
      "source": [
        "data_soil_moisture.min() # in mm"
      ],
      "metadata": {
        "colab": {
          "base_uri": "https://localhost:8080/"
        },
        "id": "HDZY8ThkdFQl",
        "outputId": "d9a24a8d-ccc9-42c4-dd68-e3f84dff9f05"
      },
      "execution_count": null,
      "outputs": [
        {
          "output_type": "execute_result",
          "data": {
            "text/plain": [
              "6.525034427642822"
            ]
          },
          "metadata": {},
          "execution_count": 45
        }
      ]
    },
    {
      "cell_type": "code",
      "source": [
        "data_soil_moisture.max() # in mm"
      ],
      "metadata": {
        "colab": {
          "base_uri": "https://localhost:8080/"
        },
        "id": "XmlSsHFYdFNu",
        "outputId": "8a25d30b-b51d-44db-ded3-ff00cc751c28"
      },
      "execution_count": null,
      "outputs": [
        {
          "output_type": "execute_result",
          "data": {
            "text/plain": [
              "6.525034427642822"
            ]
          },
          "metadata": {},
          "execution_count": 46
        }
      ]
    },
    {
      "cell_type": "code",
      "source": [],
      "metadata": {
        "id": "lYU7P5MYcEEu"
      },
      "execution_count": null,
      "outputs": []
    },
    {
      "cell_type": "code",
      "source": [
        "# Surface specific humidity, mean dataset, https://developers.google.com/earth-engine/datasets/catalog/NASA_GSFC_MERRA_flx_2\n",
        "# min, max"
      ],
      "metadata": {
        "id": "Z0pkaHr65zrN"
      },
      "execution_count": null,
      "outputs": []
    },
    {
      "cell_type": "code",
      "source": [
        "humidity = ee.ImageCollection('NASA/GSFC/MERRA/flx/2').filter(ee.Filter.date(start_date, end_date)).select('QLML').mean().rename('humidity')"
      ],
      "metadata": {
        "id": "XS-rm7iZ5zos"
      },
      "execution_count": null,
      "outputs": []
    },
    {
      "cell_type": "code",
      "source": [
        "latlon = ee.Image.pixelLonLat().addBands(humidity)\n",
        "# apply reducer to list\n",
        "latlon = latlon.reduceRegion(\n",
        "  reducer=ee.Reducer.toList(),\n",
        "  geometry=roi,\n",
        "  scale=30,\n",
        "  tileScale = 16,\n",
        "  bestEffort=True);\n",
        "# get data into three different arrays\n",
        "data_humidity = np.array((ee.Array(latlon.get(\"humidity\")).getInfo()))"
      ],
      "metadata": {
        "id": "uRGVg6Lph1vt"
      },
      "execution_count": null,
      "outputs": []
    },
    {
      "cell_type": "code",
      "source": [
        "data_humidity.min()"
      ],
      "metadata": {
        "colab": {
          "base_uri": "https://localhost:8080/"
        },
        "id": "bmzC9MJgh1sk",
        "outputId": "4b7e396a-acb5-419f-8007-b309caf7675b"
      },
      "execution_count": null,
      "outputs": [
        {
          "output_type": "execute_result",
          "data": {
            "text/plain": [
              "0.012713365256786346"
            ]
          },
          "metadata": {},
          "execution_count": 49
        }
      ]
    },
    {
      "cell_type": "code",
      "source": [
        "data_humidity.max()"
      ],
      "metadata": {
        "colab": {
          "base_uri": "https://localhost:8080/"
        },
        "id": "Vb2H4ATlh1pd",
        "outputId": "8c0abe01-f814-4027-f56b-caea27551ae9"
      },
      "execution_count": null,
      "outputs": [
        {
          "output_type": "execute_result",
          "data": {
            "text/plain": [
              "0.012713365256786346"
            ]
          },
          "metadata": {},
          "execution_count": 50
        }
      ]
    },
    {
      "cell_type": "code",
      "source": [
        "elevation = ee.Image('USGS/SRTMGL1_003').clip(roi).rename(\"elevation\")"
      ],
      "metadata": {
        "id": "q3WTdlWw5zmY"
      },
      "execution_count": null,
      "outputs": []
    },
    {
      "cell_type": "code",
      "source": [
        "elevation"
      ],
      "metadata": {
        "colab": {
          "base_uri": "https://localhost:8080/",
          "height": 68
        },
        "id": "zZvpZsrY-VaB",
        "outputId": "3738c43a-489c-4223-8551-f1d39165d034"
      },
      "execution_count": null,
      "outputs": [
        {
          "output_type": "execute_result",
          "data": {
            "text/plain": [
              "<ee.image.Image at 0x7f5fddb94460>"
            ],
            "text/html": [
              "<div><style>:root {\n",
              "  --font-color-primary: var(--jp-content-font-color0, rgba(0, 0, 0, 1));\n",
              "  --font-color-secondary: var(--jp-content-font-color2, rgba(0, 0, 0, 0.6));\n",
              "  --font-color-accent: rgba(123, 31, 162, 1);\n",
              "  --border-color: var(--jp-border-color2, #e0e0e0);\n",
              "  --background-color: var(--jp-layout-color0, white);\n",
              "  --background-color-row-even: var(--jp-layout-color1, white);\n",
              "  --background-color-row-odd: var(--jp-layout-color2, #eeeeee);\n",
              "}\n",
              "\n",
              "html[theme=\"dark\"],\n",
              "body[data-theme=\"dark\"],\n",
              "body.vscode-dark {\n",
              "  --font-color-primary: rgba(255, 255, 255, 1);\n",
              "  --font-color-secondary: rgba(255, 255, 255, 0.6);\n",
              "  --font-color-accent: rgb(173, 132, 190);\n",
              "  --border-color: #2e2e2e;\n",
              "  --background-color: #111111;\n",
              "  --background-color-row-even: #111111;\n",
              "  --background-color-row-odd: #313131;\n",
              "}\n",
              "\n",
              ".ee {\n",
              "  padding: 1em;\n",
              "  line-height: 1.5em;\n",
              "  min-width: 300px;\n",
              "  max-width: 1200px;\n",
              "  overflow-y: scroll;\n",
              "  max-height: 600px;\n",
              "  border: 1px solid var(--border-color);\n",
              "  font-family: monospace;\n",
              "}\n",
              "\n",
              ".ee li {\n",
              "  list-style-type: none;\n",
              "}\n",
              "\n",
              ".ee ul {\n",
              "  padding-left: 1.5em !important;\n",
              "  margin: 0;\n",
              "}\n",
              "\n",
              ".ee > ul {\n",
              "  padding-left: 0 !important;\n",
              "}\n",
              "\n",
              ".ee-open,\n",
              ".ee-shut {\n",
              "  color: var(--font-color-secondary);\n",
              "  cursor: pointer;\n",
              "  margin: 0;\n",
              "}\n",
              "\n",
              ".ee-open:hover,\n",
              ".ee-shut:hover {\n",
              "  color: var(--font-color-primary);\n",
              "}\n",
              "\n",
              ".ee-k {\n",
              "  color: var(--font-color-accent);\n",
              "  margin-right: 6px;\n",
              "}\n",
              "\n",
              ".ee-v {\n",
              "  color: var(--font-color-primary);\n",
              "}\n",
              "\n",
              ".ee-toggle {\n",
              "  display: none;\n",
              "}\n",
              "\n",
              ".ee-shut + ul {\n",
              "  display: none;\n",
              "}\n",
              "\n",
              ".ee-open + ul {\n",
              "  display: block;\n",
              "}\n",
              "\n",
              ".ee-shut::before {\n",
              "  display: inline-block;\n",
              "  content: \"▼\";\n",
              "  margin-right: 6px;\n",
              "  transform: rotate(-90deg);\n",
              "  transition: transform 0.2s;\n",
              "}\n",
              "\n",
              ".ee-open::before {\n",
              "  transform: rotate(0deg);\n",
              "  display: inline-block;\n",
              "  content: \"▼\";\n",
              "  margin-right: 6px;\n",
              "  transition: transform 0.2s;\n",
              "}\n",
              "</style><div class='ee'><ul><li><label class='ee-shut'>Image USGS/SRTMGL1_003 (1 band)<input type='checkbox' class='ee-toggle'></label><ul><li><span class='ee-k'>type:</span><span class='ee-v'>Image</span></li><li><span class='ee-k'>id:</span><span class='ee-v'>USGS/SRTMGL1_003</span></li><li><span class='ee-k'>version:</span><span class='ee-v'>1641990767055141</span></li><li><label class='ee-shut'>bands: List (1 element)<input type='checkbox' class='ee-toggle'></label><ul><li><label class='ee-shut'>0: \"elevation\", signed int16, EPSG:4326, 284x100 px<input type='checkbox' class='ee-toggle'></label><ul><li><span class='ee-k'>id:</span><span class='ee-v'>elevation</span></li><li><span class='ee-k'>crs:</span><span class='ee-v'>EPSG:4326</span></li><li><label class='ee-shut'>crs_transform: List (6 elements)<input type='checkbox' class='ee-toggle'></label><ul><li><span class='ee-k'>0:</span><span class='ee-v'>0.0002777777777777778</span></li><li><span class='ee-k'>1:</span><span class='ee-v'>0</span></li><li><span class='ee-k'>2:</span><span class='ee-v'>-180.0001388888889</span></li><li><span class='ee-k'>3:</span><span class='ee-v'>0</span></li><li><span class='ee-k'>4:</span><span class='ee-v'>-0.0002777777777777778</span></li><li><span class='ee-k'>5:</span><span class='ee-v'>60.00013888888889</span></li></ul></li><li><label class='ee-shut'>data_type: signed int16<input type='checkbox' class='ee-toggle'></label><ul><li><span class='ee-k'>type:</span><span class='ee-v'>PixelType</span></li><li><span class='ee-k'>max:</span><span class='ee-v'>32767</span></li><li><span class='ee-k'>min:</span><span class='ee-v'>-32768</span></li><li><span class='ee-k'>precision:</span><span class='ee-v'>int</span></li></ul></li><li><label class='ee-shut'>dimensions: [284, 100]<input type='checkbox' class='ee-toggle'></label><ul><li><span class='ee-k'>0:</span><span class='ee-v'>284</span></li><li><span class='ee-k'>1:</span><span class='ee-v'>100</span></li></ul></li><li><label class='ee-shut'>origin: [731135, -36097]<input type='checkbox' class='ee-toggle'></label><ul><li><span class='ee-k'>0:</span><span class='ee-v'>731135</span></li><li><span class='ee-k'>1:</span><span class='ee-v'>-36097</span></li></ul></li></ul></li></ul></li><li><label class='ee-shut'>properties: Object (25 properties)<input type='checkbox' class='ee-toggle'></label><ul><li><label class='ee-shut'>date_range: [950227200000, 951177600000]<input type='checkbox' class='ee-toggle'></label><ul><li><span class='ee-k'>0:</span><span class='ee-v'>950227200000</span></li><li><span class='ee-k'>1:</span><span class='ee-v'>951177600000</span></li></ul></li><li><span class='ee-k'>description:</span><span class='ee-v'><p>The Shuttle Radar Topography Mission (SRTM, see <a href=\"https://onlinelibrary.wiley.com/doi/10.1029/2005RG000183/full\">Farr\n",
              "et al. 2007</a>)\n",
              "digital elevation data is an international research effort that\n",
              "obtained digital elevation models on a near-global scale. This\n",
              "SRTM V3 product (SRTM Plus) is provided by NASA JPL\n",
              "at a resolution of 1 arc-second (approximately 30m).</p><p>This dataset has undergone a void-filling process using open-source data\n",
              "(ASTER GDEM2, GMTED2010, and NED), as opposed to other versions that\n",
              "contain voids or have been void-filled with commercial sources.\n",
              "For more information on the different versions see the\n",
              "<a href=\"https://lpdaac.usgs.gov/documents/13/SRTM_Quick_Guide.pdf\">SRTM Quick Guide</a>.</p><p>Documentation:</p><ul><li><p><a href=\"https://lpdaac.usgs.gov/documents/179/SRTM_User_Guide_V3.pdf\">User&#39;s Guide</a></p></li><li><p><a href=\"https://lpdaac.usgs.gov/documents/13/SRTM_Quick_Guide.pdf\">General Documentation</a></p></li><li><p><a href=\"https://doi.org/10.1029/2005RG000183\">Algorithm Theoretical Basis Document (ATBD)</a></p></li></ul><p><b>Provider: <a href=\"https://cmr.earthdata.nasa.gov/search/concepts/C1000000240-LPDAAC_ECS.html\">NASA / USGS / JPL-Caltech</a></b><br><p><b>Bands</b><table class=\"eecat\"><tr><th scope=\"col\">Name</th><th scope=\"col\">Description</th></tr><tr><td>elevation</td><td><p>Elevation</p></td></tr></table><p><b>Terms of Use</b><br><p>Unless otherwise noted, images and video on JPL public\n",
              "web sites (public sites ending with a jpl.nasa.gov address) may\n",
              "be used for any purpose without prior permission. For more information\n",
              "and exceptions visit the <a href=\"https://www.jpl.nasa.gov/imagepolicy/\">JPL Image Use Policy site</a>.</p><p><b>Suggested citation(s)</b><ul><li><p>Farr, T.G., Rosen, P.A., Caro, E., Crippen, R., Duren, R., Hensley,\n",
              "S., Kobrick, M., Paller, M., Rodriguez, E., Roth, L., Seal, D.,\n",
              "Shaffer, S., Shimada, J., Umland, J., Werner, M., Oskin, M., Burbank,\n",
              "D., and Alsdorf, D.E., 2007, The shuttle radar topography mission:\n",
              "Reviews of Geophysics, v. 45, no. 2, RG2004, at\n",
              "<a href=\"https://doi.org/10.1029/2005RG000183\">https://doi.org/10.1029/2005RG000183</a>.</p></li></ul><style>\n",
              "  table.eecat {\n",
              "  border: 1px solid black;\n",
              "  border-collapse: collapse;\n",
              "  font-size: 13px;\n",
              "  }\n",
              "  table.eecat td, tr, th {\n",
              "  text-align: left; vertical-align: top;\n",
              "  border: 1px solid gray; padding: 3px;\n",
              "  }\n",
              "  td.nobreak { white-space: nowrap; }\n",
              "</style></span></li><li><label class='ee-shut'>keywords: List (7 elements)<input type='checkbox' class='ee-toggle'></label><ul><li><span class='ee-k'>0:</span><span class='ee-v'>dem</span></li><li><span class='ee-k'>1:</span><span class='ee-v'>elevation</span></li><li><span class='ee-k'>2:</span><span class='ee-v'>geophysical</span></li><li><span class='ee-k'>3:</span><span class='ee-v'>nasa</span></li><li><span class='ee-k'>4:</span><span class='ee-v'>srtm</span></li><li><span class='ee-k'>5:</span><span class='ee-v'>topography</span></li><li><span class='ee-k'>6:</span><span class='ee-v'>usgs</span></li></ul></li><li><span class='ee-k'>period:</span><span class='ee-v'>0</span></li><li><label class='ee-shut'>product_tags: List (5 elements)<input type='checkbox' class='ee-toggle'></label><ul><li><span class='ee-k'>0:</span><span class='ee-v'>srtm</span></li><li><span class='ee-k'>1:</span><span class='ee-v'>elevation</span></li><li><span class='ee-k'>2:</span><span class='ee-v'>topography</span></li><li><span class='ee-k'>3:</span><span class='ee-v'>dem</span></li><li><span class='ee-k'>4:</span><span class='ee-v'>geophysical</span></li></ul></li><li><span class='ee-k'>provider:</span><span class='ee-v'>NASA / USGS / JPL-Caltech</span></li><li><span class='ee-k'>provider_url:</span><span class='ee-v'>https://cmr.earthdata.nasa.gov/search/concepts/C1000000240-LPDAAC_ECS.html</span></li><li><span class='ee-k'>sample:</span><span class='ee-v'>https://mw1.google.com/ges/dd/images/SRTM90_V4_sample.png</span></li><li><label class='ee-shut'>source_tags: ['nasa', 'usgs']<input type='checkbox' class='ee-toggle'></label><ul><li><span class='ee-k'>0:</span><span class='ee-v'>nasa</span></li><li><span class='ee-k'>1:</span><span class='ee-v'>usgs</span></li></ul></li><li><span class='ee-k'>system:asset_size:</span><span class='ee-v'>132792638252</span></li><li><label class='ee-shut'>system:footprint: Polygon (24 vertices)<input type='checkbox' class='ee-toggle'></label><ul><li><span class='ee-k'>type:</span><span class='ee-v'>Polygon</span></li><li><label class='ee-shut'>coordinates: List (1 element)<input type='checkbox' class='ee-toggle'></label><ul><li><label class='ee-shut'>0: List (24 elements)<input type='checkbox' class='ee-toggle'></label><ul><li><label class='ee-shut'>0: [23.13231, 70.02668829892723]<input type='checkbox' class='ee-toggle'></label><ul><li><span class='ee-k'>0:</span><span class='ee-v'>23.13231</span></li><li><span class='ee-k'>1:</span><span class='ee-v'>70.02668829892723</span></li></ul></li><li><label class='ee-shut'>1: [23.12127266883098, 70.02615072534562]<input type='checkbox' class='ee-toggle'></label><ul><li><span class='ee-k'>0:</span><span class='ee-v'>23.12127266883098</span></li><li><span class='ee-k'>1:</span><span class='ee-v'>70.02615072534562</span></li></ul></li><li><label class='ee-shut'>2: [23.11111550661672, 70.02458087489316]<input type='checkbox' class='ee-toggle'></label><ul><li><span class='ee-k'>0:</span><span class='ee-v'>23.11111550661672</span></li><li><span class='ee-k'>1:</span><span class='ee-v'>70.02458087489316</span></li></ul></li><li><label class='ee-shut'>3: [23.102648121430345, 70.02210392112754]<input type='checkbox' class='ee-toggle'></label><ul><li><span class='ee-k'>0:</span><span class='ee-v'>23.102648121430345</span></li><li><span class='ee-k'>1:</span><span class='ee-v'>70.02210392112754</span></li></ul></li><li><label class='ee-shut'>4: [23.09654477272475, 70.01891731031455]<input type='checkbox' class='ee-toggle'></label><ul><li><span class='ee-k'>0:</span><span class='ee-v'>23.09654477272475</span></li><li><span class='ee-k'>1:</span><span class='ee-v'>70.01891731031455</span></li></ul></li><li><label class='ee-shut'>5: [23.093290621064007, 70.01527495698056]<input type='checkbox' class='ee-toggle'></label><ul><li><span class='ee-k'>0:</span><span class='ee-v'>23.093290621064007</span></li><li><span class='ee-k'>1:</span><span class='ee-v'>70.01527495698056</span></li></ul></li><li><label class='ee-shut'>6: [23.093143318195317, 70.01146695106196]<input type='checkbox' class='ee-toggle'></label><ul><li><span class='ee-k'>0:</span><span class='ee-v'>23.093143318195317</span></li><li><span class='ee-k'>1:</span><span class='ee-v'>70.01146695106196</span></li></ul></li><li><label class='ee-shut'>7: [23.096112929022766, 70.00779641733386]<input type='checkbox' class='ee-toggle'></label><ul><li><span class='ee-k'>0:</span><span class='ee-v'>23.096112929022766</span></li><li><span class='ee-k'>1:</span><span class='ee-v'>70.00779641733386</span></li></ul></li><li><label class='ee-shut'>8: [23.101961648633303, 70.00455538447012]<input type='checkbox' class='ee-toggle'></label><ul><li><span class='ee-k'>0:</span><span class='ee-v'>23.101961648633303</span></li><li><span class='ee-k'>1:</span><span class='ee-v'>70.00455538447012</span></li></ul></li><li><label class='ee-shut'>9: [23.110223175164577, 70.00200158515537]<input type='checkbox' class='ee-toggle'></label><ul><li><span class='ee-k'>0:</span><span class='ee-v'>23.110223175164577</span></li><li><span class='ee-k'>1:</span><span class='ee-v'>70.00200158515537</span></li></ul></li><li><label class='ee-shut'>10: [23.12024005851248, 70.00033801966967]<input type='checkbox' class='ee-toggle'></label><ul><li><span class='ee-k'>0:</span><span class='ee-v'>23.12024005851248</span></li><li><span class='ee-k'>1:</span><span class='ee-v'>70.00033801966967</span></li></ul></li><li><label class='ee-shut'>11: [23.131215980506717, 69.99969688500583]<input type='checkbox' class='ee-toggle'></label><ul><li><span class='ee-k'>0:</span><span class='ee-v'>23.131215980506717</span></li><li><span class='ee-k'>1:</span><span class='ee-v'>69.99969688500583</span></li></ul></li><li><label class='ee-shut'>12: [23.142278821959447, 70.00012912139223]<input type='checkbox' class='ee-toggle'></label><ul><li><span class='ee-k'>0:</span><span class='ee-v'>23.142278821959447</span></li><li><span class='ee-k'>1:</span><span class='ee-v'>70.00012912139223</span></li></ul></li><li><label class='ee-shut'>13: [23.152549596122366, 70.00160038674817]<input type='checkbox' class='ee-toggle'></label><ul><li><span class='ee-k'>0:</span><span class='ee-v'>23.152549596122366</span></li><li><span class='ee-k'>1:</span><span class='ee-v'>70.00160038674817</span></li></ul></li><li><label class='ee-shut'>14: [23.16121191288556, 70.00399377040605]<input type='checkbox' class='ee-toggle'></label><ul><li><span class='ee-k'>0:</span><span class='ee-v'>23.16121191288556</span></li><li><span class='ee-k'>1:</span><span class='ee-v'>70.00399377040605</span></li></ul></li><li><label class='ee-shut'>15: [23.167576600723223, 70.00711903627072]<input type='checkbox' class='ee-toggle'></label><ul><li><span class='ee-k'>0:</span><span class='ee-v'>23.167576600723223</span></li><li><span class='ee-k'>1:</span><span class='ee-v'>70.00711903627072</span></li></ul></li><li><label class='ee-shut'>16: [23.171136455406938, 70.01072767921403]<input type='checkbox' class='ee-toggle'></label><ul><li><span class='ee-k'>0:</span><span class='ee-v'>23.171136455406938</span></li><li><span class='ee-k'>1:</span><span class='ee-v'>70.01072767921403</span></li></ul></li><li><label class='ee-shut'>17: [23.171606791924155, 70.01453262309683]<input type='checkbox' class='ee-toggle'></label><ul><li><span class='ee-k'>0:</span><span class='ee-v'>23.171606791924155</span></li><li><span class='ee-k'>1:</span><span class='ee-v'>70.01453262309683</span></li></ul></li><li><label class='ee-shut'>18: [23.168948516654826, 70.01823101833]<input type='checkbox' class='ee-toggle'></label><ul><li><span class='ee-k'>0:</span><span class='ee-v'>23.168948516654826</span></li><li><span class='ee-k'>1:</span><span class='ee-v'>70.01823101833</span></li></ul></li><li><label class='ee-shut'>19: [23.163371755505874, 70.02152834109684]<input type='checkbox' class='ee-toggle'></label><ul><li><span class='ee-k'>0:</span><span class='ee-v'>23.163371755505874</span></li><li><span class='ee-k'>1:</span><span class='ee-v'>70.02152834109684</span></li></ul></li><li><label class='ee-shut'>20: [23.15531958818137, 70.02416187840234]<input type='checkbox' class='ee-toggle'></label><ul><li><span class='ee-k'>0:</span><span class='ee-v'>23.15531958818137</span></li><li><span class='ee-k'>1:</span><span class='ee-v'>70.02416187840234</span></li></ul></li><li><label class='ee-shut'>21: [23.145433039236817, 70.02592171682743]<input type='checkbox' class='ee-toggle'></label><ul><li><span class='ee-k'>0:</span><span class='ee-v'>23.145433039236817</span></li><li><span class='ee-k'>1:</span><span class='ee-v'>70.02592171682743</span></li></ul></li><li><label class='ee-shut'>22: [23.134500030727704, 70.0266675403172]<input type='checkbox' class='ee-toggle'></label><ul><li><span class='ee-k'>0:</span><span class='ee-v'>23.134500030727704</span></li><li><span class='ee-k'>1:</span><span class='ee-v'>70.0266675403172</span></li></ul></li><li><label class='ee-shut'>23: [23.13231, 70.02668829892723]<input type='checkbox' class='ee-toggle'></label><ul><li><span class='ee-k'>0:</span><span class='ee-v'>23.13231</span></li><li><span class='ee-k'>1:</span><span class='ee-v'>70.02668829892723</span></li></ul></li></ul></li></ul></li></ul></li><li><span class='ee-k'>system:visualization_0_bands:</span><span class='ee-v'>elevation</span></li><li><span class='ee-k'>system:visualization_0_gamma:</span><span class='ee-v'>1.6</span></li><li><span class='ee-k'>system:visualization_0_max:</span><span class='ee-v'>6000.0</span></li><li><span class='ee-k'>system:visualization_0_min:</span><span class='ee-v'>0.0</span></li><li><span class='ee-k'>system:visualization_0_name:</span><span class='ee-v'>Elevation</span></li><li><label class='ee-shut'>tags: List (7 elements)<input type='checkbox' class='ee-toggle'></label><ul><li><span class='ee-k'>0:</span><span class='ee-v'>dem</span></li><li><span class='ee-k'>1:</span><span class='ee-v'>elevation</span></li><li><span class='ee-k'>2:</span><span class='ee-v'>geophysical</span></li><li><span class='ee-k'>3:</span><span class='ee-v'>nasa</span></li><li><span class='ee-k'>4:</span><span class='ee-v'>srtm</span></li><li><span class='ee-k'>5:</span><span class='ee-v'>topography</span></li><li><span class='ee-k'>6:</span><span class='ee-v'>usgs</span></li></ul></li><li><span class='ee-k'>thumb:</span><span class='ee-v'>https://mw1.google.com/ges/dd/images/SRTM90_V4_thumb.png</span></li><li><span class='ee-k'>title:</span><span class='ee-v'>NASA SRTM Digital Elevation 30m</span></li><li><span class='ee-k'>type_name:</span><span class='ee-v'>Image</span></li><li><span class='ee-k'>visualization_0_bands:</span><span class='ee-v'>elevation</span></li><li><span class='ee-k'>visualization_0_gamma:</span><span class='ee-v'>1.6</span></li><li><span class='ee-k'>visualization_0_max:</span><span class='ee-v'>6000.0</span></li><li><span class='ee-k'>visualization_0_min:</span><span class='ee-v'>0.0</span></li><li><span class='ee-k'>visualization_0_name:</span><span class='ee-v'>Elevation</span></li></ul></li></ul></li></ul></div><script>function toggleHeader() {\n",
              "    const parent = this.parentElement;\n",
              "    parent.className = parent.className === \"ee-open\" ? \"ee-shut\" : \"ee-open\";\n",
              "}\n",
              "\n",
              "for (let c of document.getElementsByClassName(\"ee-toggle\")) {\n",
              "    c.onclick = toggleHeader;\n",
              "}</script></div>"
            ]
          },
          "metadata": {},
          "execution_count": 62
        }
      ]
    },
    {
      "cell_type": "code",
      "source": [
        "# latlon = ee.Image.pixelLonLat().addBands(elevation)\n",
        "# # apply reducer to list\n",
        "# latlon = latlon.reduceRegion(\n",
        "#   reducer=ee.Reducer.toList(),\n",
        "#   geometry=roi,\n",
        "#   scale=30,\n",
        "#   tileScale = 16,\n",
        "#   bestEffort=True);\n",
        "# # get data into three different arrays\n",
        "# data_elevation = np.array((ee.Array(latlon.get(\"elevation\")).getInfo()))"
      ],
      "metadata": {
        "id": "2Cm3E1M88Rc9"
      },
      "execution_count": null,
      "outputs": []
    },
    {
      "cell_type": "code",
      "source": [
        "statistics = elevation.reduceRegion(\n",
        "  reducer= ee.Reducer.minMax(),\n",
        "  geometry= roi,\n",
        "  scale= 5\n",
        ")\n",
        "\n",
        "minValue = statistics.getNumber('elevation_min');\n",
        "maxValue = statistics.getNumber('elevation_max');"
      ],
      "metadata": {
        "id": "Jt-EV_oS8nPb"
      },
      "execution_count": null,
      "outputs": []
    },
    {
      "cell_type": "code",
      "source": [
        "minValue"
      ],
      "metadata": {
        "colab": {
          "base_uri": "https://localhost:8080/",
          "height": 68
        },
        "id": "pu9tyShF-IJO",
        "outputId": "afe869f2-f6fa-4010-b79e-124ac0a65ea1"
      },
      "execution_count": null,
      "outputs": [
        {
          "output_type": "execute_result",
          "data": {
            "text/plain": [
              "<ee.ee_number.Number at 0x7f5fdda56170>"
            ],
            "text/html": [
              "<div><style>:root {\n",
              "  --font-color-primary: var(--jp-content-font-color0, rgba(0, 0, 0, 1));\n",
              "  --font-color-secondary: var(--jp-content-font-color2, rgba(0, 0, 0, 0.6));\n",
              "  --font-color-accent: rgba(123, 31, 162, 1);\n",
              "  --border-color: var(--jp-border-color2, #e0e0e0);\n",
              "  --background-color: var(--jp-layout-color0, white);\n",
              "  --background-color-row-even: var(--jp-layout-color1, white);\n",
              "  --background-color-row-odd: var(--jp-layout-color2, #eeeeee);\n",
              "}\n",
              "\n",
              "html[theme=\"dark\"],\n",
              "body[data-theme=\"dark\"],\n",
              "body.vscode-dark {\n",
              "  --font-color-primary: rgba(255, 255, 255, 1);\n",
              "  --font-color-secondary: rgba(255, 255, 255, 0.6);\n",
              "  --font-color-accent: rgb(173, 132, 190);\n",
              "  --border-color: #2e2e2e;\n",
              "  --background-color: #111111;\n",
              "  --background-color-row-even: #111111;\n",
              "  --background-color-row-odd: #313131;\n",
              "}\n",
              "\n",
              ".ee {\n",
              "  padding: 1em;\n",
              "  line-height: 1.5em;\n",
              "  min-width: 300px;\n",
              "  max-width: 1200px;\n",
              "  overflow-y: scroll;\n",
              "  max-height: 600px;\n",
              "  border: 1px solid var(--border-color);\n",
              "  font-family: monospace;\n",
              "}\n",
              "\n",
              ".ee li {\n",
              "  list-style-type: none;\n",
              "}\n",
              "\n",
              ".ee ul {\n",
              "  padding-left: 1.5em !important;\n",
              "  margin: 0;\n",
              "}\n",
              "\n",
              ".ee > ul {\n",
              "  padding-left: 0 !important;\n",
              "}\n",
              "\n",
              ".ee-open,\n",
              ".ee-shut {\n",
              "  color: var(--font-color-secondary);\n",
              "  cursor: pointer;\n",
              "  margin: 0;\n",
              "}\n",
              "\n",
              ".ee-open:hover,\n",
              ".ee-shut:hover {\n",
              "  color: var(--font-color-primary);\n",
              "}\n",
              "\n",
              ".ee-k {\n",
              "  color: var(--font-color-accent);\n",
              "  margin-right: 6px;\n",
              "}\n",
              "\n",
              ".ee-v {\n",
              "  color: var(--font-color-primary);\n",
              "}\n",
              "\n",
              ".ee-toggle {\n",
              "  display: none;\n",
              "}\n",
              "\n",
              ".ee-shut + ul {\n",
              "  display: none;\n",
              "}\n",
              "\n",
              ".ee-open + ul {\n",
              "  display: block;\n",
              "}\n",
              "\n",
              ".ee-shut::before {\n",
              "  display: inline-block;\n",
              "  content: \"▼\";\n",
              "  margin-right: 6px;\n",
              "  transform: rotate(-90deg);\n",
              "  transition: transform 0.2s;\n",
              "}\n",
              "\n",
              ".ee-open::before {\n",
              "  transform: rotate(0deg);\n",
              "  display: inline-block;\n",
              "  content: \"▼\";\n",
              "  margin-right: 6px;\n",
              "  transition: transform 0.2s;\n",
              "}\n",
              "</style><div class='ee'><ul><li><span class='ee-v'>57</span></li></ul></div><script>function toggleHeader() {\n",
              "    const parent = this.parentElement;\n",
              "    parent.className = parent.className === \"ee-open\" ? \"ee-shut\" : \"ee-open\";\n",
              "}\n",
              "\n",
              "for (let c of document.getElementsByClassName(\"ee-toggle\")) {\n",
              "    c.onclick = toggleHeader;\n",
              "}</script></div>"
            ]
          },
          "metadata": {},
          "execution_count": 70
        }
      ]
    },
    {
      "cell_type": "code",
      "source": [
        "statistics"
      ],
      "metadata": {
        "colab": {
          "base_uri": "https://localhost:8080/",
          "height": 110
        },
        "id": "E2bvnUip-JLp",
        "outputId": "2e7fa54d-b3ea-483a-fe72-7db6d5ef4bbc"
      },
      "execution_count": null,
      "outputs": [
        {
          "output_type": "execute_result",
          "data": {
            "text/plain": [
              "<ee.dictionary.Dictionary at 0x7f5fdf89e9e0>"
            ],
            "text/html": [
              "<div><style>:root {\n",
              "  --font-color-primary: var(--jp-content-font-color0, rgba(0, 0, 0, 1));\n",
              "  --font-color-secondary: var(--jp-content-font-color2, rgba(0, 0, 0, 0.6));\n",
              "  --font-color-accent: rgba(123, 31, 162, 1);\n",
              "  --border-color: var(--jp-border-color2, #e0e0e0);\n",
              "  --background-color: var(--jp-layout-color0, white);\n",
              "  --background-color-row-even: var(--jp-layout-color1, white);\n",
              "  --background-color-row-odd: var(--jp-layout-color2, #eeeeee);\n",
              "}\n",
              "\n",
              "html[theme=\"dark\"],\n",
              "body[data-theme=\"dark\"],\n",
              "body.vscode-dark {\n",
              "  --font-color-primary: rgba(255, 255, 255, 1);\n",
              "  --font-color-secondary: rgba(255, 255, 255, 0.6);\n",
              "  --font-color-accent: rgb(173, 132, 190);\n",
              "  --border-color: #2e2e2e;\n",
              "  --background-color: #111111;\n",
              "  --background-color-row-even: #111111;\n",
              "  --background-color-row-odd: #313131;\n",
              "}\n",
              "\n",
              ".ee {\n",
              "  padding: 1em;\n",
              "  line-height: 1.5em;\n",
              "  min-width: 300px;\n",
              "  max-width: 1200px;\n",
              "  overflow-y: scroll;\n",
              "  max-height: 600px;\n",
              "  border: 1px solid var(--border-color);\n",
              "  font-family: monospace;\n",
              "}\n",
              "\n",
              ".ee li {\n",
              "  list-style-type: none;\n",
              "}\n",
              "\n",
              ".ee ul {\n",
              "  padding-left: 1.5em !important;\n",
              "  margin: 0;\n",
              "}\n",
              "\n",
              ".ee > ul {\n",
              "  padding-left: 0 !important;\n",
              "}\n",
              "\n",
              ".ee-open,\n",
              ".ee-shut {\n",
              "  color: var(--font-color-secondary);\n",
              "  cursor: pointer;\n",
              "  margin: 0;\n",
              "}\n",
              "\n",
              ".ee-open:hover,\n",
              ".ee-shut:hover {\n",
              "  color: var(--font-color-primary);\n",
              "}\n",
              "\n",
              ".ee-k {\n",
              "  color: var(--font-color-accent);\n",
              "  margin-right: 6px;\n",
              "}\n",
              "\n",
              ".ee-v {\n",
              "  color: var(--font-color-primary);\n",
              "}\n",
              "\n",
              ".ee-toggle {\n",
              "  display: none;\n",
              "}\n",
              "\n",
              ".ee-shut + ul {\n",
              "  display: none;\n",
              "}\n",
              "\n",
              ".ee-open + ul {\n",
              "  display: block;\n",
              "}\n",
              "\n",
              ".ee-shut::before {\n",
              "  display: inline-block;\n",
              "  content: \"▼\";\n",
              "  margin-right: 6px;\n",
              "  transform: rotate(-90deg);\n",
              "  transition: transform 0.2s;\n",
              "}\n",
              "\n",
              ".ee-open::before {\n",
              "  transform: rotate(0deg);\n",
              "  display: inline-block;\n",
              "  content: \"▼\";\n",
              "  margin-right: 6px;\n",
              "  transition: transform 0.2s;\n",
              "}\n",
              "</style><div class='ee'><ul><li><label class='ee-shut'>Object (2 properties)<input type='checkbox' class='ee-toggle'></label><ul><li><span class='ee-k'>elevation_max:</span><span class='ee-v'>None</span></li><li><span class='ee-k'>elevation_min:</span><span class='ee-v'>None</span></li></ul></li></ul></div><script>function toggleHeader() {\n",
              "    const parent = this.parentElement;\n",
              "    parent.className = parent.className === \"ee-open\" ? \"ee-shut\" : \"ee-open\";\n",
              "}\n",
              "\n",
              "for (let c of document.getElementsByClassName(\"ee-toggle\")) {\n",
              "    c.onclick = toggleHeader;\n",
              "}</script></div>"
            ]
          },
          "metadata": {},
          "execution_count": 58
        }
      ]
    },
    {
      "cell_type": "code",
      "source": [
        "# Map.addLayer(elevation, {'min': 0, 'max': 4000, 'palette': 'terrain'}, 'Elevation (m)')\n",
        "Map.addLayer(temp,{'palette': ['red','yellow','blue']},'Temp')\n",
        "Map.centerObject(roi, 10)\n",
        "Map.addLayerControl()\n",
        "Map"
      ],
      "metadata": {
        "id": "K7Kimn6t-nGL",
        "colab": {
          "base_uri": "https://localhost:8080/",
          "height": 621,
          "referenced_widgets": [
            "0067252916a94ff297d3e5a9f54a242a",
            "161a13d6c9b84e50a72557d871590662",
            "85aacf4e29e6421387f8b9b6221b7369",
            "a1b2a9f385fb4fc79512cffe3e7f82d6",
            "41baf8a7b6784a56a86d4e2e25a5285f",
            "b20bf7127ab34e7cb4c509d8cb203672",
            "6b80bbe2fea1412b8b7f605b4f25a96a",
            "250d9e4f68054cc7a760adfc6efad9d8",
            "6faf24213ade4b5fa84cd9e7ed2b6ce4",
            "f440b3db5d704374aebc5bf35f4ea62d",
            "b3702e8a4ca84eac9147c965d6eb4b32",
            "de738629ae9b4e39ba6bd3d944eb7a47",
            "ca0a13c9034b4c9da3048498ce1b5fa8",
            "aab19e0e1e0549a4830c6464b1af13c4",
            "0ef359b1b9ae4fa39bd54e707f95f84e",
            "ec508e4c751a41d896d72bcd58bbb4fb",
            "49da7b594c06449ab250ff1e9c3d7b45",
            "40d0225d267e42af83aae7d6e33d51c1",
            "ce4923ea942448af8496555125c52908",
            "dbd0b81e19864adf91f6a39591062394",
            "7821ebaac8054dc999571e544a2d60e8",
            "f73b7522938f41e293cd79849386f464",
            "064b4a5ddcb24e1a95537af6afc5b1e8",
            "06987b5abf324a94a87854fa8cdfb688",
            "f0ff6dfdd5cc43d59f10f1c88302e91a",
            "9a857e94694c4dcfa590cd064948a352",
            "58d6575509b14a7c95d6b524401f9cb4"
          ]
        },
        "outputId": "d22f6174-29bc-4570-d10f-e53f429cb653"
      },
      "execution_count": 60,
      "outputs": [
        {
          "output_type": "display_data",
          "data": {
            "text/plain": [
              "Map(center=[22.33086394499106, 78.37646499999998], controls=(WidgetControl(options=['position', 'transparent_b…"
            ],
            "application/vnd.jupyter.widget-view+json": {
              "version_major": 2,
              "version_minor": 0,
              "model_id": "0067252916a94ff297d3e5a9f54a242a"
            }
          },
          "metadata": {
            "application/vnd.jupyter.widget-view+json": {
              "colab": {
                "custom_widget_manager": {
                  "url": "https://ssl.gstatic.com/colaboratory-static/widgets/colab-cdn-widget-manager/b3e629b1971e1542/manager.min.js"
                }
              }
            }
          }
        }
      ]
    },
    {
      "cell_type": "code",
      "source": [],
      "metadata": {
        "id": "5NLmh_YM_F0F"
      },
      "execution_count": null,
      "outputs": []
    },
    {
      "cell_type": "code",
      "source": [
        "# soil salinity\n",
        "soil_salinity = ee.ImageCollection('EO1/HYPERION').filter(ee.Filter.date('2001-05-01', '2017-03-13')).filterBounds(roi)\n",
        "b9 = soil_salinity.select('B009').mean()\n",
        "b28 = soil_salinity.select('B028').mean()\n",
        "si = b9.multiply(b28)\n",
        "si = si.sqrt().rename('SI') \n"
      ],
      "metadata": {
        "id": "3zH7PkOfGa2P"
      },
      "execution_count": 41,
      "outputs": []
    },
    {
      "cell_type": "code",
      "source": [
        "soil_salinity"
      ],
      "metadata": {
        "colab": {
          "base_uri": "https://localhost:8080/",
          "height": 67
        },
        "id": "RSmp1N-TJAHo",
        "outputId": "3f379b7e-d923-4a48-d1ec-0ca7418feb2e"
      },
      "execution_count": 42,
      "outputs": [
        {
          "output_type": "execute_result",
          "data": {
            "text/plain": [
              "<ee.imagecollection.ImageCollection at 0x7fbdb530d8a0>"
            ],
            "text/html": [
              "<div><style>:root {\n",
              "  --font-color-primary: var(--jp-content-font-color0, rgba(0, 0, 0, 1));\n",
              "  --font-color-secondary: var(--jp-content-font-color2, rgba(0, 0, 0, 0.6));\n",
              "  --font-color-accent: rgba(123, 31, 162, 1);\n",
              "  --border-color: var(--jp-border-color2, #e0e0e0);\n",
              "  --background-color: var(--jp-layout-color0, white);\n",
              "  --background-color-row-even: var(--jp-layout-color1, white);\n",
              "  --background-color-row-odd: var(--jp-layout-color2, #eeeeee);\n",
              "}\n",
              "\n",
              "html[theme=\"dark\"],\n",
              "body[data-theme=\"dark\"],\n",
              "body.vscode-dark {\n",
              "  --font-color-primary: rgba(255, 255, 255, 1);\n",
              "  --font-color-secondary: rgba(255, 255, 255, 0.6);\n",
              "  --font-color-accent: rgb(173, 132, 190);\n",
              "  --border-color: #2e2e2e;\n",
              "  --background-color: #111111;\n",
              "  --background-color-row-even: #111111;\n",
              "  --background-color-row-odd: #313131;\n",
              "}\n",
              "\n",
              ".ee {\n",
              "  padding: 1em;\n",
              "  line-height: 1.5em;\n",
              "  min-width: 300px;\n",
              "  max-width: 1200px;\n",
              "  overflow-y: scroll;\n",
              "  max-height: 600px;\n",
              "  border: 1px solid var(--border-color);\n",
              "  font-family: monospace;\n",
              "}\n",
              "\n",
              ".ee li {\n",
              "  list-style-type: none;\n",
              "}\n",
              "\n",
              ".ee ul {\n",
              "  padding-left: 1.5em !important;\n",
              "  margin: 0;\n",
              "}\n",
              "\n",
              ".ee > ul {\n",
              "  padding-left: 0 !important;\n",
              "}\n",
              "\n",
              ".ee-open,\n",
              ".ee-shut {\n",
              "  color: var(--font-color-secondary);\n",
              "  cursor: pointer;\n",
              "  margin: 0;\n",
              "}\n",
              "\n",
              ".ee-open:hover,\n",
              ".ee-shut:hover {\n",
              "  color: var(--font-color-primary);\n",
              "}\n",
              "\n",
              ".ee-k {\n",
              "  color: var(--font-color-accent);\n",
              "  margin-right: 6px;\n",
              "}\n",
              "\n",
              ".ee-v {\n",
              "  color: var(--font-color-primary);\n",
              "}\n",
              "\n",
              ".ee-toggle {\n",
              "  display: none;\n",
              "}\n",
              "\n",
              ".ee-shut + ul {\n",
              "  display: none;\n",
              "}\n",
              "\n",
              ".ee-open + ul {\n",
              "  display: block;\n",
              "}\n",
              "\n",
              ".ee-shut::before {\n",
              "  display: inline-block;\n",
              "  content: \"▼\";\n",
              "  margin-right: 6px;\n",
              "  transform: rotate(-90deg);\n",
              "  transition: transform 0.2s;\n",
              "}\n",
              "\n",
              ".ee-open::before {\n",
              "  transform: rotate(0deg);\n",
              "  display: inline-block;\n",
              "  content: \"▼\";\n",
              "  margin-right: 6px;\n",
              "  transition: transform 0.2s;\n",
              "}\n",
              "</style><div class='ee'><ul><li><label class='ee-shut'>ImageCollection EO1/HYPERION  (0 elements)<input type='checkbox' class='ee-toggle'></label><ul><li><span class='ee-k'>type:</span><span class='ee-v'>ImageCollection</span></li><li><span class='ee-k'>id:</span><span class='ee-v'>EO1/HYPERION</span></li><li><span class='ee-k'>version:</span><span class='ee-v'>1641990127238985</span></li><li><label class='ee-shut'>bands: []<input type='checkbox' class='ee-toggle'></label><ul></ul></li><li><label class='ee-shut'>properties: Object (25 properties)<input type='checkbox' class='ee-toggle'></label><ul><li><label class='ee-shut'>date_range: [988675200000, 1489363200000]<input type='checkbox' class='ee-toggle'></label><ul><li><span class='ee-k'>0:</span><span class='ee-v'>988675200000</span></li><li><span class='ee-k'>1:</span><span class='ee-v'>1489363200000</span></li></ul></li><li><span class='ee-k'>description:</span><span class='ee-v'><p>Hyperion is a high resolution hyperspectral imager producing 220 unique\n",
              "spectral channels ranging from 0.357 to 2.576 micrometers with a 10-nm\n",
              "bandwidth. The instrument operates in a pushbroom fashion, with a spatial\n",
              "resolution of 30 meters for all bands and a standard scene width of 7.7\n",
              "kilometers.</p><p>This dataset contains level 1A radiance images, radiometrically calibrated\n",
              "and orthorectified. The SWIR bands have a scaling factor of 80 and the VNIR\n",
              "bands have a scaling factor of 40 applied.</p><ul><li><p>VNIR bands (B008-B057, 426.82nm - 925.41nm): L = Digital Number / 40</p></li><li><p>SWIR bands (B077-B224, 912.45nm - 2395.50nm): L = Digital Number / 80</p></li></ul><p><b>Provider: <a href=\"https://eo1.usgs.gov/\">USGS</a></b><br><p><b>Resolution</b><br>30 meters\n",
              "</p><p><b>Revisit Interval</b><br>\n",
              "  200 days\n",
              "</p><p><b>Bands</b><table class=\"eecat\"><tr><th scope=\"col\">Name</th><th scope=\"col\">Description</th></tr><tr><td>B008</td><td><p>VNIR band B8</p></td></tr><tr><td>B009</td><td><p>VNIR band B9</p></td></tr><tr><td>B010</td><td><p>VNIR band B10</p></td></tr><tr><td>B011</td><td><p>VNIR band B11</p></td></tr><tr><td>B012</td><td><p>VNIR band B12</p></td></tr><tr><td>B013</td><td><p>VNIR band B13</p></td></tr><tr><td>B014</td><td><p>VNIR band B14</p></td></tr><tr><td>B015</td><td><p>VNIR band B15</p></td></tr><tr><td>B016</td><td><p>VNIR band B16</p></td></tr><tr><td>B017</td><td><p>VNIR band B17</p></td></tr><tr><td>B018</td><td><p>VNIR band B18</p></td></tr><tr><td>B019</td><td><p>VNIR band B19</p></td></tr><tr><td>B020</td><td><p>VNIR band B20</p></td></tr><tr><td>B021</td><td><p>VNIR band B21</p></td></tr><tr><td>B022</td><td><p>VNIR band B22</p></td></tr><tr><td>B023</td><td><p>VNIR band B23</p></td></tr><tr><td>B024</td><td><p>VNIR band B24</p></td></tr><tr><td>B025</td><td><p>VNIR band B25</p></td></tr><tr><td>B026</td><td><p>VNIR band B26</p></td></tr><tr><td>B027</td><td><p>VNIR band B27</p></td></tr><tr><td>B028</td><td><p>VNIR band B28</p></td></tr><tr><td>B029</td><td><p>VNIR band B29</p></td></tr><tr><td>B030</td><td><p>VNIR band B30</p></td></tr><tr><td>B031</td><td><p>VNIR band B31</p></td></tr><tr><td>B032</td><td><p>VNIR band B32</p></td></tr><tr><td>B033</td><td><p>VNIR band B33</p></td></tr><tr><td>B034</td><td><p>VNIR band B34</p></td></tr><tr><td>B035</td><td><p>VNIR band B35</p></td></tr><tr><td>B036</td><td><p>VNIR band B36</p></td></tr><tr><td>B037</td><td><p>VNIR band B37</p></td></tr><tr><td>B038</td><td><p>VNIR band B38</p></td></tr><tr><td>B039</td><td><p>VNIR band B39</p></td></tr><tr><td>B040</td><td><p>VNIR band B40</p></td></tr><tr><td>B041</td><td><p>VNIR band B41</p></td></tr><tr><td>B042</td><td><p>VNIR band B42</p></td></tr><tr><td>B043</td><td><p>VNIR band B43</p></td></tr><tr><td>B044</td><td><p>VNIR band B44</p></td></tr><tr><td>B045</td><td><p>VNIR band B45</p></td></tr><tr><td>B046</td><td><p>VNIR band B46</p></td></tr><tr><td>B047</td><td><p>VNIR band B47</p></td></tr><tr><td>B048</td><td><p>VNIR band B48</p></td></tr><tr><td>B049</td><td><p>VNIR band B49</p></td></tr><tr><td>B050</td><td><p>VNIR band B50</p></td></tr><tr><td>B051</td><td><p>VNIR band B51</p></td></tr><tr><td>B052</td><td><p>VNIR band B52</p></td></tr><tr><td>B053</td><td><p>VNIR band B53</p></td></tr><tr><td>B054</td><td><p>VNIR band B54</p></td></tr><tr><td>B055</td><td><p>VNIR band B55</p></td></tr><tr><td>B056</td><td><p>VNIR band B56</p></td></tr><tr><td>B057</td><td><p>VNIR band B57</p></td></tr><tr><td>B077</td><td><p>SWIR band B77</p></td></tr><tr><td>B078</td><td><p>SWIR band B78</p></td></tr><tr><td>B079</td><td><p>SWIR band B79</p></td></tr><tr><td>B080</td><td><p>SWIR band B80</p></td></tr><tr><td>B081</td><td><p>SWIR band B81</p></td></tr><tr><td>B082</td><td><p>SWIR band B82</p></td></tr><tr><td>B083</td><td><p>SWIR band B83</p></td></tr><tr><td>B084</td><td><p>SWIR band B84</p></td></tr><tr><td>B085</td><td><p>SWIR band B85</p></td></tr><tr><td>B086</td><td><p>SWIR band B86</p></td></tr><tr><td>B087</td><td><p>SWIR band B87</p></td></tr><tr><td>B088</td><td><p>SWIR band B88</p></td></tr><tr><td>B089</td><td><p>SWIR band B89</p></td></tr><tr><td>B090</td><td><p>SWIR band B90</p></td></tr><tr><td>B091</td><td><p>SWIR band B91</p></td></tr><tr><td>B092</td><td><p>SWIR band B92</p></td></tr><tr><td>B093</td><td><p>SWIR band B93</p></td></tr><tr><td>B094</td><td><p>SWIR band B94</p></td></tr><tr><td>B095</td><td><p>SWIR band B95</p></td></tr><tr><td>B096</td><td><p>SWIR band B96</p></td></tr><tr><td>B097</td><td><p>SWIR band B97</p></td></tr><tr><td>B098</td><td><p>SWIR band B98</p></td></tr><tr><td>B099</td><td><p>SWIR band B99</p></td></tr><tr><td>B100</td><td><p>SWIR band B100</p></td></tr><tr><td>B101</td><td><p>SWIR band B101</p></td></tr><tr><td>B102</td><td><p>SWIR band B102</p></td></tr><tr><td>B103</td><td><p>SWIR band B103</p></td></tr><tr><td>B104</td><td><p>SWIR band B104</p></td></tr><tr><td>B105</td><td><p>SWIR band B105</p></td></tr><tr><td>B106</td><td><p>SWIR band B106</p></td></tr><tr><td>B107</td><td><p>SWIR band B107</p></td></tr><tr><td>B108</td><td><p>SWIR band B108</p></td></tr><tr><td>B109</td><td><p>SWIR band B109</p></td></tr><tr><td>B110</td><td><p>SWIR band B110</p></td></tr><tr><td>B111</td><td><p>SWIR band B111</p></td></tr><tr><td>B112</td><td><p>SWIR band B112</p></td></tr><tr><td>B113</td><td><p>SWIR band B113</p></td></tr><tr><td>B114</td><td><p>SWIR band B114</p></td></tr><tr><td>B115</td><td><p>SWIR band B115</p></td></tr><tr><td>B116</td><td><p>SWIR band B116</p></td></tr><tr><td>B117</td><td><p>SWIR band B117</p></td></tr><tr><td>B118</td><td><p>SWIR band B118</p></td></tr><tr><td>B119</td><td><p>SWIR band B119</p></td></tr><tr><td>B120</td><td><p>SWIR band B120</p></td></tr><tr><td>B121</td><td><p>SWIR band B121</p></td></tr><tr><td>B122</td><td><p>SWIR band B122</p></td></tr><tr><td>B123</td><td><p>SWIR band B123</p></td></tr><tr><td>B124</td><td><p>SWIR band B124</p></td></tr><tr><td>B125</td><td><p>SWIR band B125</p></td></tr><tr><td>B126</td><td><p>SWIR band B126</p></td></tr><tr><td>B127</td><td><p>SWIR band B127</p></td></tr><tr><td>B128</td><td><p>SWIR band B128</p></td></tr><tr><td>B129</td><td><p>SWIR band B129</p></td></tr><tr><td>B130</td><td><p>SWIR band B130</p></td></tr><tr><td>B131</td><td><p>SWIR band B131</p></td></tr><tr><td>B132</td><td><p>SWIR band B132</p></td></tr><tr><td>B133</td><td><p>SWIR band B133</p></td></tr><tr><td>B134</td><td><p>SWIR band B134</p></td></tr><tr><td>B135</td><td><p>SWIR band B135</p></td></tr><tr><td>B136</td><td><p>SWIR band B136</p></td></tr><tr><td>B137</td><td><p>SWIR band B137</p></td></tr><tr><td>B138</td><td><p>SWIR band B138</p></td></tr><tr><td>B139</td><td><p>SWIR band B139</p></td></tr><tr><td>B140</td><td><p>SWIR band B140</p></td></tr><tr><td>B141</td><td><p>SWIR band B141</p></td></tr><tr><td>B142</td><td><p>SWIR band B142</p></td></tr><tr><td>B143</td><td><p>SWIR band B143</p></td></tr><tr><td>B144</td><td><p>SWIR band B144</p></td></tr><tr><td>B145</td><td><p>SWIR band B145</p></td></tr><tr><td>B146</td><td><p>SWIR band B146</p></td></tr><tr><td>B147</td><td><p>SWIR band B147</p></td></tr><tr><td>B148</td><td><p>SWIR band B148</p></td></tr><tr><td>B149</td><td><p>SWIR band B149</p></td></tr><tr><td>B150</td><td><p>SWIR band B150</p></td></tr><tr><td>B151</td><td><p>SWIR band B151</p></td></tr><tr><td>B152</td><td><p>SWIR band B152</p></td></tr><tr><td>B153</td><td><p>SWIR band B153</p></td></tr><tr><td>B154</td><td><p>SWIR band B154</p></td></tr><tr><td>B155</td><td><p>SWIR band B155</p></td></tr><tr><td>B156</td><td><p>SWIR band B156</p></td></tr><tr><td>B157</td><td><p>SWIR band B157</p></td></tr><tr><td>B158</td><td><p>SWIR band B158</p></td></tr><tr><td>B159</td><td><p>SWIR band B159</p></td></tr><tr><td>B160</td><td><p>SWIR band B160</p></td></tr><tr><td>B161</td><td><p>SWIR band B161</p></td></tr><tr><td>B162</td><td><p>SWIR band B162</p></td></tr><tr><td>B163</td><td><p>SWIR band B163</p></td></tr><tr><td>B164</td><td><p>SWIR band B164</p></td></tr><tr><td>B165</td><td><p>SWIR band B165</p></td></tr><tr><td>B166</td><td><p>SWIR band B166</p></td></tr><tr><td>B167</td><td><p>SWIR band B167</p></td></tr><tr><td>B168</td><td><p>SWIR band B168</p></td></tr><tr><td>B169</td><td><p>SWIR band B169</p></td></tr><tr><td>B170</td><td><p>SWIR band B170</p></td></tr><tr><td>B171</td><td><p>SWIR band B171</p></td></tr><tr><td>B172</td><td><p>SWIR band B172</p></td></tr><tr><td>B173</td><td><p>SWIR band B173</p></td></tr><tr><td>B174</td><td><p>SWIR band B174</p></td></tr><tr><td>B175</td><td><p>SWIR band B175</p></td></tr><tr><td>B176</td><td><p>SWIR band B176</p></td></tr><tr><td>B177</td><td><p>SWIR band B177</p></td></tr><tr><td>B178</td><td><p>SWIR band B178</p></td></tr><tr><td>B179</td><td><p>SWIR band B179</p></td></tr><tr><td>B180</td><td><p>SWIR band B180</p></td></tr><tr><td>B181</td><td><p>SWIR band B181</p></td></tr><tr><td>B182</td><td><p>SWIR band B182</p></td></tr><tr><td>B183</td><td><p>SWIR band B183</p></td></tr><tr><td>B184</td><td><p>SWIR band B184</p></td></tr><tr><td>B185</td><td><p>SWIR band B185</p></td></tr><tr><td>B186</td><td><p>SWIR band B186</p></td></tr><tr><td>B187</td><td><p>SWIR band B187</p></td></tr><tr><td>B188</td><td><p>SWIR band B188</p></td></tr><tr><td>B189</td><td><p>SWIR band B189</p></td></tr><tr><td>B190</td><td><p>SWIR band B190</p></td></tr><tr><td>B191</td><td><p>SWIR band B191</p></td></tr><tr><td>B192</td><td><p>SWIR band B192</p></td></tr><tr><td>B193</td><td><p>SWIR band B193</p></td></tr><tr><td>B194</td><td><p>SWIR band B194</p></td></tr><tr><td>B195</td><td><p>SWIR band B195</p></td></tr><tr><td>B196</td><td><p>SWIR band B196</p></td></tr><tr><td>B197</td><td><p>SWIR band B197</p></td></tr><tr><td>B198</td><td><p>SWIR band B198</p></td></tr><tr><td>B199</td><td><p>SWIR band B199</p></td></tr><tr><td>B200</td><td><p>SWIR band B200</p></td></tr><tr><td>B201</td><td><p>SWIR band B201</p></td></tr><tr><td>B202</td><td><p>SWIR band B202</p></td></tr><tr><td>B203</td><td><p>SWIR band B203</p></td></tr><tr><td>B204</td><td><p>SWIR band B204</p></td></tr><tr><td>B205</td><td><p>SWIR band B205</p></td></tr><tr><td>B206</td><td><p>SWIR band B206</p></td></tr><tr><td>B207</td><td><p>SWIR band B207</p></td></tr><tr><td>B208</td><td><p>SWIR band B208</p></td></tr><tr><td>B209</td><td><p>SWIR band B209</p></td></tr><tr><td>B210</td><td><p>SWIR band B210</p></td></tr><tr><td>B211</td><td><p>SWIR band B211</p></td></tr><tr><td>B212</td><td><p>SWIR band B212</p></td></tr><tr><td>B213</td><td><p>SWIR band B213</p></td></tr><tr><td>B214</td><td><p>SWIR band B214</p></td></tr><tr><td>B215</td><td><p>SWIR band B215</p></td></tr><tr><td>B216</td><td><p>SWIR band B216</p></td></tr><tr><td>B217</td><td><p>SWIR band B217</p></td></tr><tr><td>B218</td><td><p>SWIR band B218</p></td></tr><tr><td>B219</td><td><p>SWIR band B219</p></td></tr><tr><td>B220</td><td><p>SWIR band B220</p></td></tr><tr><td>B221</td><td><p>SWIR band B221</p></td></tr><tr><td>B222</td><td><p>SWIR band B222</p></td></tr><tr><td>B223</td><td><p>SWIR band B223</p></td></tr><tr><td>B224</td><td><p>SWIR band B224</p></td></tr></table><p><b>Image Properties</b><table class=\"eecat\"><tr><th scope=\"col\">Name</th><th scope=\"col\">Type</th><th scope=\"col\">Description</th></tr><tr><td>ABNORMAL_PIXELS</td><td>STRING</td><td><p>Indicator of whether image was corrected for abnormal pixels: &#39;Y&#39; or &#39;N&#39;</p></td></tr><tr><td>CORRECTION_METHOD_BIAS</td><td>STRING</td><td><p>Correction method used by L1G in creating image: &#39;CPF&#39; (for CPF bias) or\n",
              "&#39;NONE&#39; (for no bias used)</p></td></tr><tr><td>CORRECTION_METHOD_GAIN</td><td>STRING</td><td><p>Correction method used by L1G in creating the image: &#39;CPF&#39; (for CPF bias)\n",
              "or &#39;NONE&#39; (for no bias used)</p></td></tr><tr><td>CPF_FILE_NAME</td><td>STRING</td><td><p>Archive-generated external element file name for Calibration Parameter File</p></td></tr><tr><td>DATEHOUR_CONTACT_PERIOD</td><td>DOUBLE</td><td><p>Date and hour of contact period start</p></td></tr><tr><td>DPS_VERSION_NUMBER</td><td>STRING</td><td><p>DPS processing version number</p></td></tr><tr><td>ELEVATION_SOURCE</td><td>STRING</td><td><p>Indicates the primary source (if any) of Digital Elevation Model (DEM)\n",
              "used in the correction process: &#39;N&#39; (no correction applied), &#39;SRTM-2&#39;,\n",
              "&#39;SRTM-1&#39;, &#39;NED&#39;, &#39;DTED&#39;, or &#39;GTOPO30&#39;</p></td></tr><tr><td>EO1_XBAND</td><td>STRING</td><td><p>EO-1 X-band used to downlink data to LGS</p></td></tr><tr><td>EPHEMERIS_TYPE</td><td>STRING</td><td><p>Identifier to inform user of orbital ephemeris type used: &#39;ACS&#39;,\n",
              "&#39;DEFINITIVE&#39;, &#39;GPS&#39;, or &#39;PREDICTIVE&#39;</p></td></tr><tr><td>GROUND_STATION</td><td>STRING</td><td><p>Ground station that received data</p></td></tr><tr><td>INOPERABLE_DETECTORS</td><td>STRING</td><td><p>Indicator of whether image was corrected for inoperable or out of spec\n",
              "detectors: &#39;Y&#39; or &#39;N&#39;</p></td></tr><tr><td>PROCESSING_SOFTWARE</td><td>STRING</td><td><p>L1G processing system and software version</p></td></tr><tr><td>PRODUCT_CREATION_TIME</td><td>DOUBLE</td><td><p>L1G system date and time when metadata file for L1G product set was created.</p></td></tr><tr><td>PRODUCT_TYPE</td><td>STRING</td><td><p>Identifier to inform user of product type: &#39;L1GS&#39; or &#39;L1GST&#39;</p></td></tr><tr><td>RESAMPLING_OPTION</td><td>STRING</td><td><p>Resampling option used in creating image: &#39;NN&#39; or &#39;CC&#39;</p></td></tr><tr><td>SCALING_FACTOR_SWIR</td><td>DOUBLE</td><td><p>Scaling factor used to convert calibrated DN to radiance units for bands 77-224</p></td></tr><tr><td>SCALING_FACTOR_VNIR</td><td>DOUBLE</td><td><p>Scaling factor used to convert calibrated DN to radiance units for bands 8-57</p></td></tr><tr><td>SENSOR_LOOK_ANGLE</td><td>DOUBLE</td><td><p>The look angle is the angle between nadir and the center of the\n",
              "collected image. It is zero when the collected data are centered at the\n",
              "nadir point. The angle when descending is positive when the sensor is\n",
              "pointing east, negative when the sensor is pointing west of nadir.\n",
              "-90 - 90</p></td></tr><tr><td>STRIPING</td><td>STRING</td><td><p>Indicator of whether image was corrected for striping: &#39;Y&#39; or &#39;N&#39;</p></td></tr><tr><td>SUN_AZIMUTH</td><td>DOUBLE</td><td><p>Sun azimuth angle in degrees for image center location at image\n",
              "center acquisition time. -180 through 180 where a\n",
              "positive value indicates angles to the east or clockwise from north and a\n",
              "negative value indicates angles to the west or counterclockwise from\n",
              "north.</p></td></tr><tr><td>SUN_ELEVATION</td><td>DOUBLE</td><td><p>Sun elevation angle in degrees for image center location at\n",
              "image center acquisition time. -90 through 90 where a\n",
              "positive value indicates a daytime scene and a negative value indicates a\n",
              "nighttime scene.</p></td></tr></table><p><sup>Note that bands B001-B007, B058-B076, and B225-242 are not calibrated,\n",
              "have no valid values and are not included into EE assets. See the\n",
              "<a href=\"https://doi.org/10.5066/P9JXHMO2\">detailed spectral coverage information</a>.\n",
              "This is a preview dataset; only a portion of the data from the\n",
              "original source have been downloaded.</sup><p><b>Terms of Use</b><br><p>Hyperion data are in the public domain. Once a scene has been\n",
              "downloaded from the USGS, it can be redistributed as desired.</p><p><b>Suggested citation(s)</b><ul><li><p>Data available from the U.S. Geological Survey.</p></li></ul><style>\n",
              "  table.eecat {\n",
              "  border: 1px solid black;\n",
              "  border-collapse: collapse;\n",
              "  font-size: 13px;\n",
              "  }\n",
              "  table.eecat td, tr, th {\n",
              "  text-align: left; vertical-align: top;\n",
              "  border: 1px solid gray; padding: 3px;\n",
              "  }\n",
              "  td.nobreak { white-space: nowrap; }\n",
              "</style></span></li><li><label class='ee-shut'>keywords: ['eo-1', 'hyperion', 'hyperspectral', 'usgs']<input type='checkbox' class='ee-toggle'></label><ul><li><span class='ee-k'>0:</span><span class='ee-v'>eo-1</span></li><li><span class='ee-k'>1:</span><span class='ee-v'>hyperion</span></li><li><span class='ee-k'>2:</span><span class='ee-v'>hyperspectral</span></li><li><span class='ee-k'>3:</span><span class='ee-v'>usgs</span></li></ul></li><li><span class='ee-k'>period:</span><span class='ee-v'>0</span></li><li><label class='ee-shut'>period_mapping: [988675200000, 1461628800000]<input type='checkbox' class='ee-toggle'></label><ul><li><span class='ee-k'>0:</span><span class='ee-v'>988675200000</span></li><li><span class='ee-k'>1:</span><span class='ee-v'>1461628800000</span></li></ul></li><li><label class='ee-shut'>product_tags: ['hyperspectral']<input type='checkbox' class='ee-toggle'></label><ul><li><span class='ee-k'>0:</span><span class='ee-v'>hyperspectral</span></li></ul></li><li><span class='ee-k'>provider:</span><span class='ee-v'>USGS</span></li><li><span class='ee-k'>provider_url:</span><span class='ee-v'>https://eo1.usgs.gov/</span></li><li><span class='ee-k'>sample:</span><span class='ee-v'>https://mw1.google.com/ges/dd/images/HYPERION_sample.png</span></li><li><label class='ee-shut'>source_tags: ['usgs', 'hyperion', 'eo-1']<input type='checkbox' class='ee-toggle'></label><ul><li><span class='ee-k'>0:</span><span class='ee-v'>usgs</span></li><li><span class='ee-k'>1:</span><span class='ee-v'>hyperion</span></li><li><span class='ee-k'>2:</span><span class='ee-v'>eo-1</span></li></ul></li><li><span class='ee-k'>system:min_zoom_level:</span><span class='ee-v'>6</span></li><li><span class='ee-k'>system:visualization_0_bands:</span><span class='ee-v'>B050,B023,B015</span></li><li><span class='ee-k'>system:visualization_0_gamma:</span><span class='ee-v'>2.5</span></li><li><span class='ee-k'>system:visualization_0_max:</span><span class='ee-v'>14000.0</span></li><li><span class='ee-k'>system:visualization_0_min:</span><span class='ee-v'>1000.0</span></li><li><span class='ee-k'>system:visualization_0_name:</span><span class='ee-v'>RGB</span></li><li><label class='ee-shut'>tags: ['eo-1', 'hyperion', 'hyperspectral', 'usgs']<input type='checkbox' class='ee-toggle'></label><ul><li><span class='ee-k'>0:</span><span class='ee-v'>eo-1</span></li><li><span class='ee-k'>1:</span><span class='ee-v'>hyperion</span></li><li><span class='ee-k'>2:</span><span class='ee-v'>hyperspectral</span></li><li><span class='ee-k'>3:</span><span class='ee-v'>usgs</span></li></ul></li><li><span class='ee-k'>thumb:</span><span class='ee-v'>https://mw1.google.com/ges/dd/images/HYPERION_thumb.png</span></li><li><span class='ee-k'>title:</span><span class='ee-v'>EO-1 Hyperion Hyperspectral Imager</span></li><li><span class='ee-k'>type_name:</span><span class='ee-v'>ImageCollection</span></li><li><span class='ee-k'>visualization_0_bands:</span><span class='ee-v'>B050,B023,B015</span></li><li><span class='ee-k'>visualization_0_gamma:</span><span class='ee-v'>2.5</span></li><li><span class='ee-k'>visualization_0_max:</span><span class='ee-v'>14000.0</span></li><li><span class='ee-k'>visualization_0_min:</span><span class='ee-v'>1000.0</span></li><li><span class='ee-k'>visualization_0_name:</span><span class='ee-v'>RGB</span></li></ul></li><li><label class='ee-shut'>features: []<input type='checkbox' class='ee-toggle'></label><ul></ul></li></ul></li></ul></div><script>function toggleHeader() {\n",
              "    const parent = this.parentElement;\n",
              "    parent.className = parent.className === \"ee-open\" ? \"ee-shut\" : \"ee-open\";\n",
              "}\n",
              "\n",
              "for (let c of document.getElementsByClassName(\"ee-toggle\")) {\n",
              "    c.onclick = toggleHeader;\n",
              "}</script></div>"
            ]
          },
          "metadata": {},
          "execution_count": 42
        }
      ]
    },
    {
      "cell_type": "code",
      "source": [
        "latlon = ee.Image.pixelLonLat().addBands(si)\n",
        "# apply reducer to list\n",
        "latlon = latlon.reduceRegion(\n",
        "  reducer=ee.Reducer.toList(),\n",
        "  geometry=roi,\n",
        "  scale=30,\n",
        "  tileScale = 16,\n",
        "  bestEffort=True);\n",
        "# get data into three different arrays\n",
        "data_si = np.array((ee.Array(latlon.get(\"SI\")).getInfo()))"
      ],
      "metadata": {
        "colab": {
          "base_uri": "https://localhost:8080/",
          "height": 451
        },
        "id": "mB_QVJpgGazl",
        "outputId": "56da359f-5e03-4fab-f8e7-3f60d8801e91"
      },
      "execution_count": 31,
      "outputs": [
        {
          "output_type": "error",
          "ename": "EEException",
          "evalue": "ignored",
          "traceback": [
            "\u001b[0;31m---------------------------------------------------------------------------\u001b[0m",
            "\u001b[0;31mHttpError\u001b[0m                                 Traceback (most recent call last)",
            "\u001b[0;32m/usr/local/lib/python3.10/dist-packages/ee/data.py\u001b[0m in \u001b[0;36m_execute_cloud_call\u001b[0;34m(call, num_retries)\u001b[0m\n\u001b[1;32m    336\u001b[0m   \u001b[0;32mtry\u001b[0m\u001b[0;34m:\u001b[0m\u001b[0;34m\u001b[0m\u001b[0;34m\u001b[0m\u001b[0m\n\u001b[0;32m--> 337\u001b[0;31m     \u001b[0;32mreturn\u001b[0m \u001b[0mcall\u001b[0m\u001b[0;34m.\u001b[0m\u001b[0mexecute\u001b[0m\u001b[0;34m(\u001b[0m\u001b[0mnum_retries\u001b[0m\u001b[0;34m=\u001b[0m\u001b[0mnum_retries\u001b[0m\u001b[0;34m)\u001b[0m\u001b[0;34m\u001b[0m\u001b[0;34m\u001b[0m\u001b[0m\n\u001b[0m\u001b[1;32m    338\u001b[0m   \u001b[0;32mexcept\u001b[0m \u001b[0mgoogleapiclient\u001b[0m\u001b[0;34m.\u001b[0m\u001b[0merrors\u001b[0m\u001b[0;34m.\u001b[0m\u001b[0mHttpError\u001b[0m \u001b[0;32mas\u001b[0m \u001b[0me\u001b[0m\u001b[0;34m:\u001b[0m\u001b[0;34m\u001b[0m\u001b[0;34m\u001b[0m\u001b[0m\n",
            "\u001b[0;32m/usr/local/lib/python3.10/dist-packages/googleapiclient/_helpers.py\u001b[0m in \u001b[0;36mpositional_wrapper\u001b[0;34m(*args, **kwargs)\u001b[0m\n\u001b[1;32m    129\u001b[0m                     \u001b[0mlogger\u001b[0m\u001b[0;34m.\u001b[0m\u001b[0mwarning\u001b[0m\u001b[0;34m(\u001b[0m\u001b[0mmessage\u001b[0m\u001b[0;34m)\u001b[0m\u001b[0;34m\u001b[0m\u001b[0;34m\u001b[0m\u001b[0m\n\u001b[0;32m--> 130\u001b[0;31m             \u001b[0;32mreturn\u001b[0m \u001b[0mwrapped\u001b[0m\u001b[0;34m(\u001b[0m\u001b[0;34m*\u001b[0m\u001b[0margs\u001b[0m\u001b[0;34m,\u001b[0m \u001b[0;34m**\u001b[0m\u001b[0mkwargs\u001b[0m\u001b[0;34m)\u001b[0m\u001b[0;34m\u001b[0m\u001b[0;34m\u001b[0m\u001b[0m\n\u001b[0m\u001b[1;32m    131\u001b[0m \u001b[0;34m\u001b[0m\u001b[0m\n",
            "\u001b[0;32m/usr/local/lib/python3.10/dist-packages/googleapiclient/http.py\u001b[0m in \u001b[0;36mexecute\u001b[0;34m(self, http, num_retries)\u001b[0m\n\u001b[1;32m    937\u001b[0m         \u001b[0;32mif\u001b[0m \u001b[0mresp\u001b[0m\u001b[0;34m.\u001b[0m\u001b[0mstatus\u001b[0m \u001b[0;34m>=\u001b[0m \u001b[0;36m300\u001b[0m\u001b[0;34m:\u001b[0m\u001b[0;34m\u001b[0m\u001b[0;34m\u001b[0m\u001b[0m\n\u001b[0;32m--> 938\u001b[0;31m             \u001b[0;32mraise\u001b[0m \u001b[0mHttpError\u001b[0m\u001b[0;34m(\u001b[0m\u001b[0mresp\u001b[0m\u001b[0;34m,\u001b[0m \u001b[0mcontent\u001b[0m\u001b[0;34m,\u001b[0m \u001b[0muri\u001b[0m\u001b[0;34m=\u001b[0m\u001b[0mself\u001b[0m\u001b[0;34m.\u001b[0m\u001b[0muri\u001b[0m\u001b[0;34m)\u001b[0m\u001b[0;34m\u001b[0m\u001b[0;34m\u001b[0m\u001b[0m\n\u001b[0m\u001b[1;32m    939\u001b[0m         \u001b[0;32mreturn\u001b[0m \u001b[0mself\u001b[0m\u001b[0;34m.\u001b[0m\u001b[0mpostproc\u001b[0m\u001b[0;34m(\u001b[0m\u001b[0mresp\u001b[0m\u001b[0;34m,\u001b[0m \u001b[0mcontent\u001b[0m\u001b[0;34m)\u001b[0m\u001b[0;34m\u001b[0m\u001b[0;34m\u001b[0m\u001b[0m\n",
            "\u001b[0;31mHttpError\u001b[0m: <HttpError 400 when requesting https://earthengine.googleapis.com/v1alpha/projects/earthengine-legacy/value:compute?prettyPrint=false&alt=json returned \"Dictionary.get: Dictionary does not contain key: SI.\". Details: \"Dictionary.get: Dictionary does not contain key: SI.\">",
            "\nDuring handling of the above exception, another exception occurred:\n",
            "\u001b[0;31mEEException\u001b[0m                               Traceback (most recent call last)",
            "\u001b[0;32m<ipython-input-31-c5edc2bd226d>\u001b[0m in \u001b[0;36m<cell line: 10>\u001b[0;34m()\u001b[0m\n\u001b[1;32m      8\u001b[0m   bestEffort=True);\n\u001b[1;32m      9\u001b[0m \u001b[0;31m# get data into three different arrays\u001b[0m\u001b[0;34m\u001b[0m\u001b[0;34m\u001b[0m\u001b[0m\n\u001b[0;32m---> 10\u001b[0;31m \u001b[0mdata_si\u001b[0m \u001b[0;34m=\u001b[0m \u001b[0mnp\u001b[0m\u001b[0;34m.\u001b[0m\u001b[0marray\u001b[0m\u001b[0;34m(\u001b[0m\u001b[0;34m(\u001b[0m\u001b[0mee\u001b[0m\u001b[0;34m.\u001b[0m\u001b[0mArray\u001b[0m\u001b[0;34m(\u001b[0m\u001b[0mlatlon\u001b[0m\u001b[0;34m.\u001b[0m\u001b[0mget\u001b[0m\u001b[0;34m(\u001b[0m\u001b[0;34m\"SI\"\u001b[0m\u001b[0;34m)\u001b[0m\u001b[0;34m)\u001b[0m\u001b[0;34m.\u001b[0m\u001b[0mgetInfo\u001b[0m\u001b[0;34m(\u001b[0m\u001b[0;34m)\u001b[0m\u001b[0;34m)\u001b[0m\u001b[0;34m)\u001b[0m\u001b[0;34m\u001b[0m\u001b[0;34m\u001b[0m\u001b[0m\n\u001b[0m",
            "\u001b[0;32m/usr/local/lib/python3.10/dist-packages/ee/computedobject.py\u001b[0m in \u001b[0;36mgetInfo\u001b[0;34m(self)\u001b[0m\n\u001b[1;32m     94\u001b[0m       \u001b[0mThe\u001b[0m \u001b[0mobject\u001b[0m \u001b[0mcan\u001b[0m \u001b[0mevaluate\u001b[0m \u001b[0mto\u001b[0m \u001b[0manything\u001b[0m\u001b[0;34m.\u001b[0m\u001b[0;34m\u001b[0m\u001b[0;34m\u001b[0m\u001b[0m\n\u001b[1;32m     95\u001b[0m     \"\"\"\n\u001b[0;32m---> 96\u001b[0;31m     \u001b[0;32mreturn\u001b[0m \u001b[0mdata\u001b[0m\u001b[0;34m.\u001b[0m\u001b[0mcomputeValue\u001b[0m\u001b[0;34m(\u001b[0m\u001b[0mself\u001b[0m\u001b[0;34m)\u001b[0m\u001b[0;34m\u001b[0m\u001b[0;34m\u001b[0m\u001b[0m\n\u001b[0m\u001b[1;32m     97\u001b[0m \u001b[0;34m\u001b[0m\u001b[0m\n\u001b[1;32m     98\u001b[0m   \u001b[0;32mdef\u001b[0m \u001b[0mencode\u001b[0m\u001b[0;34m(\u001b[0m\u001b[0mself\u001b[0m\u001b[0;34m,\u001b[0m \u001b[0mencoder\u001b[0m\u001b[0;34m)\u001b[0m\u001b[0;34m:\u001b[0m\u001b[0;34m\u001b[0m\u001b[0;34m\u001b[0m\u001b[0m\n",
            "\u001b[0;32m/usr/local/lib/python3.10/dist-packages/ee/data.py\u001b[0m in \u001b[0;36mcomputeValue\u001b[0;34m(obj)\u001b[0m\n\u001b[1;32m    914\u001b[0m   \u001b[0m_maybe_populate_workload_tag\u001b[0m\u001b[0;34m(\u001b[0m\u001b[0mbody\u001b[0m\u001b[0;34m)\u001b[0m\u001b[0;34m\u001b[0m\u001b[0;34m\u001b[0m\u001b[0m\n\u001b[1;32m    915\u001b[0m \u001b[0;34m\u001b[0m\u001b[0m\n\u001b[0;32m--> 916\u001b[0;31m   return _execute_cloud_call(\n\u001b[0m\u001b[1;32m    917\u001b[0m       _get_cloud_api_resource().projects().value().compute(\n\u001b[1;32m    918\u001b[0m           \u001b[0mbody\u001b[0m\u001b[0;34m=\u001b[0m\u001b[0mbody\u001b[0m\u001b[0;34m,\u001b[0m\u001b[0;34m\u001b[0m\u001b[0;34m\u001b[0m\u001b[0m\n",
            "\u001b[0;32m/usr/local/lib/python3.10/dist-packages/ee/data.py\u001b[0m in \u001b[0;36m_execute_cloud_call\u001b[0;34m(call, num_retries)\u001b[0m\n\u001b[1;32m    337\u001b[0m     \u001b[0;32mreturn\u001b[0m \u001b[0mcall\u001b[0m\u001b[0;34m.\u001b[0m\u001b[0mexecute\u001b[0m\u001b[0;34m(\u001b[0m\u001b[0mnum_retries\u001b[0m\u001b[0;34m=\u001b[0m\u001b[0mnum_retries\u001b[0m\u001b[0;34m)\u001b[0m\u001b[0;34m\u001b[0m\u001b[0;34m\u001b[0m\u001b[0m\n\u001b[1;32m    338\u001b[0m   \u001b[0;32mexcept\u001b[0m \u001b[0mgoogleapiclient\u001b[0m\u001b[0;34m.\u001b[0m\u001b[0merrors\u001b[0m\u001b[0;34m.\u001b[0m\u001b[0mHttpError\u001b[0m \u001b[0;32mas\u001b[0m \u001b[0me\u001b[0m\u001b[0;34m:\u001b[0m\u001b[0;34m\u001b[0m\u001b[0;34m\u001b[0m\u001b[0m\n\u001b[0;32m--> 339\u001b[0;31m     \u001b[0;32mraise\u001b[0m \u001b[0m_translate_cloud_exception\u001b[0m\u001b[0;34m(\u001b[0m\u001b[0me\u001b[0m\u001b[0;34m)\u001b[0m\u001b[0;34m\u001b[0m\u001b[0;34m\u001b[0m\u001b[0m\n\u001b[0m\u001b[1;32m    340\u001b[0m \u001b[0;34m\u001b[0m\u001b[0m\n\u001b[1;32m    341\u001b[0m \u001b[0;34m\u001b[0m\u001b[0m\n",
            "\u001b[0;31mEEException\u001b[0m: Dictionary.get: Dictionary does not contain key: SI."
          ]
        }
      ]
    },
    {
      "cell_type": "code",
      "source": [
        "!pip install shapely"
      ],
      "metadata": {
        "colab": {
          "base_uri": "https://localhost:8080/"
        },
        "id": "Y0oil2XnAPPE",
        "outputId": "a1f2f20f-ce67-44da-ca04-f219b6c57b4c"
      },
      "execution_count": 2,
      "outputs": [
        {
          "output_type": "stream",
          "name": "stdout",
          "text": [
            "Looking in indexes: https://pypi.org/simple, https://us-python.pkg.dev/colab-wheels/public/simple/\n",
            "Requirement already satisfied: shapely in /usr/local/lib/python3.10/dist-packages (2.0.1)\n",
            "Requirement already satisfied: numpy>=1.14 in /usr/local/lib/python3.10/dist-packages (from shapely) (1.22.4)\n"
          ]
        }
      ]
    },
    {
      "cell_type": "code",
      "source": [
        "!pip install rasterio"
      ],
      "metadata": {
        "id": "NHRwScWYIlRL",
        "colab": {
          "base_uri": "https://localhost:8080/"
        },
        "outputId": "3ee3e2d8-c30b-4be2-f8e8-e606f1449c38"
      },
      "execution_count": 1,
      "outputs": [
        {
          "output_type": "stream",
          "name": "stdout",
          "text": [
            "Looking in indexes: https://pypi.org/simple, https://us-python.pkg.dev/colab-wheels/public/simple/\n",
            "Collecting rasterio\n",
            "  Downloading rasterio-1.3.7-cp310-cp310-manylinux_2_17_x86_64.manylinux2014_x86_64.whl (21.3 MB)\n",
            "\u001b[2K     \u001b[90m━━━━━━━━━━━━━━━━━━━━━━━━━━━━━━━━━━━━━━━━\u001b[0m \u001b[32m21.3/21.3 MB\u001b[0m \u001b[31m52.1 MB/s\u001b[0m eta \u001b[36m0:00:00\u001b[0m\n",
            "\u001b[?25hCollecting affine (from rasterio)\n",
            "  Downloading affine-2.4.0-py3-none-any.whl (15 kB)\n",
            "Requirement already satisfied: attrs in /usr/local/lib/python3.10/dist-packages (from rasterio) (23.1.0)\n",
            "Requirement already satisfied: certifi in /usr/local/lib/python3.10/dist-packages (from rasterio) (2022.12.7)\n",
            "Requirement already satisfied: click>=4.0 in /usr/local/lib/python3.10/dist-packages (from rasterio) (8.1.3)\n",
            "Collecting cligj>=0.5 (from rasterio)\n",
            "  Downloading cligj-0.7.2-py3-none-any.whl (7.1 kB)\n",
            "Requirement already satisfied: numpy>=1.18 in /usr/local/lib/python3.10/dist-packages (from rasterio) (1.22.4)\n",
            "Collecting snuggs>=1.4.1 (from rasterio)\n",
            "  Downloading snuggs-1.4.7-py3-none-any.whl (5.4 kB)\n",
            "Collecting click-plugins (from rasterio)\n",
            "  Downloading click_plugins-1.1.1-py2.py3-none-any.whl (7.5 kB)\n",
            "Requirement already satisfied: setuptools in /usr/local/lib/python3.10/dist-packages (from rasterio) (67.7.2)\n",
            "Requirement already satisfied: pyparsing>=2.1.6 in /usr/local/lib/python3.10/dist-packages (from snuggs>=1.4.1->rasterio) (3.0.9)\n",
            "Installing collected packages: snuggs, cligj, click-plugins, affine, rasterio\n",
            "Successfully installed affine-2.4.0 click-plugins-1.1.1 cligj-0.7.2 rasterio-1.3.7 snuggs-1.4.7\n"
          ]
        }
      ]
    },
    {
      "cell_type": "code",
      "source": [
        "import rasterio\n",
        "from rasterio.mask import mask\n",
        "from shapely.geometry import box\n",
        "import numpy as np\n",
        "# Open the GeoTIFF file\n",
        "file_path = './Soil Salinity.tif'\n",
        "dataset = rasterio.open(file_path)\n",
        "# Define the bounding box coordinates of the polygon\n",
        "min_lon = 69.63\n",
        "max_lon = 24.82\n",
        "min_lat = 70.8\n",
        "max_lat = 23.54\n",
        "\n",
        "# min_lon = 10.00\n",
        "# max_lon = 20.00\n",
        "# min_lat = 30.0\n",
        "# max_lat = 40.00\n",
        "# Create a shapely geometry object for the bounding box\n",
        "bbox = box(min_lon, min_lat, max_lon, max_lat)\n",
        "# Perform the clip operation\n",
        "clipped, transform = mask(dataset, [bbox], crop=True)\n",
        "# Get the statistics of the clipped image\n",
        "average_value = np.mean(clipped)\n",
        "min_value = np.min(clipped)\n",
        "max_value = np.max(clipped)\n",
        "# Print the statistics\n",
        "print(\"Average Pixel Value:\", average_value)\n",
        "print(\"Minimum Pixel Value:\", min_value)\n",
        "print(\"Maximum Pixel Value:\", max_value)\n",
        "# Close the dataset\n",
        "dataset.close()\n"
      ],
      "metadata": {
        "colab": {
          "base_uri": "https://localhost:8080/"
        },
        "id": "fgCVvnQVDDz1",
        "outputId": "50eb462b-e03e-43f5-abe8-36131bb265d3"
      },
      "execution_count": 4,
      "outputs": [
        {
          "output_type": "stream",
          "name": "stdout",
          "text": [
            "Average Pixel Value: 0.10491613649508387\n",
            "Minimum Pixel Value: 0\n",
            "Maximum Pixel Value: 4\n"
          ]
        }
      ]
    },
    {
      "cell_type": "code",
      "source": [],
      "metadata": {
        "colab": {
          "base_uri": "https://localhost:8080/"
        },
        "id": "HohNSELhINNf",
        "outputId": "d090459a-cc29-4949-94a9-e59e91a661d0"
      },
      "execution_count": 34,
      "outputs": [
        {
          "output_type": "execute_result",
          "data": {
            "text/plain": [
              "0"
            ]
          },
          "metadata": {},
          "execution_count": 34
        }
      ]
    },
    {
      "cell_type": "code",
      "source": [],
      "metadata": {
        "id": "WWrNeqiCIbhL"
      },
      "execution_count": null,
      "outputs": []
    }
  ]
}